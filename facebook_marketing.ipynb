{
 "cells": [
  {
   "cell_type": "code",
   "execution_count": 8,
   "metadata": {},
   "outputs": [],
   "source": [
    "from facebook_business.api import FacebookAdsApi\n",
    "from facebook_business.adobjects.adaccount import AdAccount\n",
    "\n",
    "\n",
    "my_app_id = '1851464831706207'\n",
    "my_app_secret = 'a540ac8b755bfb8f6abb044e0a521325'\n",
    "my_access_token = 'EAAaT5bZBbpF8BAJSBPrDuuRZB2iKTSP9dKNY2AVFsH9yp5aZAsRGqZAWVffsWO7BsZAu7g6RFZCvmnfbyhfmZCs9WTQkHZCI3ssW2fLEekzOWq3zkIozLfTMDJ9vk3es87Q82LuGEa6EVxtUWPFW78kzG8LCP9ZCy1R5fZAD0VjGQyCYM69vTd4d6u2IjMmZB3EJl8ZD'\n",
    "FacebookAdsApi.init(my_app_id, my_app_secret, my_access_token)\n",
    "my_account = AdAccount('act_174072911572837')\n"
   ]
  },
  {
   "cell_type": "code",
   "execution_count": 9,
   "metadata": {},
   "outputs": [
    {
     "data": {
      "text/plain": [
       "[<AdAccountDeliveryEstimate> {\n",
       "    \"daily_outcomes_curve\": [\n",
       "        {\n",
       "            \"actions\": 0,\n",
       "            \"impressions\": 0,\n",
       "            \"reach\": 0,\n",
       "            \"spend\": 0\n",
       "        }\n",
       "    ],\n",
       "    \"estimate_dau\": 251725,\n",
       "    \"estimate_mau\": 307000,\n",
       "    \"estimate_ready\": true\n",
       "}]"
      ]
     },
     "execution_count": 9,
     "metadata": {},
     "output_type": "execute_result"
    }
   ],
   "source": [
    "#Code to get daily or monthly users in a specific targeting category\n",
    "\n",
    "targeting = {\n",
    "        'geo_locations': {\n",
    "            'countries': ['DK']},\n",
    "        'age_min': 18,\n",
    "        'age_max': 22,\n",
    "        'interests': [\n",
    "            {\n",
    "                'id': 6003139266461,\n",
    "                'name': 'Movies',\n",
    "            },\n",
    "        ],\n",
    "    }\n",
    "\n",
    "param = {\n",
    "    'targeting_spec': targeting,\n",
    "    'optimization_goal': 'REACH',\n",
    "    'daily_budget': '100000',\n",
    "}\n",
    "\n",
    "my_account.get_delivery_estimate(params=param)\n"
   ]
  },
  {
   "cell_type": "code",
   "execution_count": 50,
   "metadata": {},
   "outputs": [
    {
     "data": {
      "text/plain": [
       "[<TargetingSearch> {\n",
       "     \"country_code\": \"DK\",\n",
       "     \"country_name\": \"Danmark\",\n",
       "     \"key\": \"613891\",\n",
       "     \"name\": \"Odense, Denmark\",\n",
       "     \"region\": \"Region of Southern Denmark\",\n",
       "     \"region_id\": 4134,\n",
       "     \"supports_city\": true,\n",
       "     \"supports_region\": true,\n",
       "     \"type\": \"city\"\n",
       " }]"
      ]
     },
     "execution_count": 50,
     "metadata": {},
     "output_type": "execute_result"
    }
   ],
   "source": [
    "#Code for searching id's used to query targeting categories\n",
    "#Denmark supports region search but not municipality\n",
    "#Need to make list of biggest cities within municipalities\n",
    "\n",
    "from facebook_business.adobjects.targetingsearch import TargetingSearch\n",
    "\n",
    "TargetingSearch.search(params={\n",
    "    'q': \" odense\",\n",
    "    'location_types': [\"city\"],\n",
    "    'type': TargetingSearch.TargetingSearchTypes.geolocation,\n",
    "    'limit': 20,\n",
    "})\n"
   ]
  },
  {
   "cell_type": "code",
   "execution_count": null,
   "metadata": {},
   "outputs": [],
   "source": [
    "#Create a set of ads with budget and spending strategy to get daily reach estimates\n",
    "\n",
    "fields = [\n",
    "]\n",
    "params = {\n",
    "    'name': 'My Campaign',\n",
    "    'buying_type': 'AUCTION',\n",
    "    'objective': 'REACH',\n",
    "    'status': 'PAUSED',\n",
    "}\n",
    "campaign = my_account.create_campaign(\n",
    "    fields=fields,\n",
    "    params=params,\n",
    ")\n",
    "print('campaign', campaign)\n",
    "\n",
    "campaign_id = campaign.get_id()\n",
    "print('campaign_id:', campaign_id, '\\n')\n",
    "\n",
    "fields = [\n",
    "]\n",
    "params = {\n",
    "    'name': 'My AdSet',\n",
    "    'optimization_goal': 'REACH',\n",
    "    'billing_event': 'IMPRESSIONS',\n",
    "    'promoted_object': {'page_id': page_id},\n",
    "    'daily_budget': '1000',\n",
    "    'campaign_id': campaign_id,\n",
    "    'targeting': {'geo_locations':{'countries':['US']}},\n",
    "    'status': 'PAUSED',\n",
    "}\n",
    "ad_set = AdAccount(ad_account_id).create_ad_set(\n",
    "    fields=fields,\n",
    "    params=params,\n",
    ")\n",
    "print 'ad_set', ad_set\n",
    "\n",
    "ad_set_id = ad_set.get_id()\n",
    "print 'ad_set_id:', ad_set_id, '\\n'\n",
    "\n",
    "fields = [\n",
    "]\n",
    "params = {\n",
    "    'name': 'My Creative',\n",
    "    'object_id': page_id,\n",
    "    'title': 'My Page Like Ad',\n",
    "    'body': 'Like My Page',\n",
    "    'image_url': 'http://www.facebookmarketingdevelopers.com/static/images/resource_1.jpg',\n",
    "}\n",
    "creative = AdAccount(ad_account_id).create_ad_creative(\n",
    "    fields=fields,\n",
    "    params=params,\n",
    ")\n",
    "print 'creative', creative\n",
    "\n",
    "creative_id = creative.get_id()\n",
    "print 'creative_id:', creative_id, '\\n'\n",
    "\n",
    "fields = [\n",
    "]\n",
    "params = {\n",
    "    'name': 'My Ad',\n",
    "    'adset_id': ad_set_id,\n",
    "    'creative': {'creative_id':creative_id},\n",
    "    'status': 'PAUSED',\n",
    "}\n",
    "ad = AdAccount(ad_account_id).create_ad(\n",
    "    fields=fields,\n",
    "    params=params,\n",
    ")\n",
    "print 'ad', ad\n",
    "\n",
    "\n",
    "\n",
    "# EAAaT5bZBbpF8BAHekkZCpkNR0HC34f2WQxhL0DG05iapxx4VpgAQvZBsU0ZCJLDZB8KQrTk6pWnbjmnGZCOjkPruTwLWQbXP9lDVTpL3ZAklxax8PcSugXdlbAlm9ibBEVDdHOnmBLWJOEhiOPU48echjY9uYEOoQajA1gZC4FvOf9V4jHsLvuKZB\n",
    "\n"
   ]
  }
 ],
 "metadata": {
  "interpreter": {
   "hash": "cf5e1a99545570c0e9a2c19e0e265ed66f5e0d2b5766a3941f367bb33a012fea"
  },
  "kernelspec": {
   "display_name": "Python 3.10.0 64-bit ('wild_data': conda)",
   "name": "python3"
  },
  "language_info": {
   "codemirror_mode": {
    "name": "ipython",
    "version": 3
   },
   "file_extension": ".py",
   "mimetype": "text/x-python",
   "name": "python",
   "nbconvert_exporter": "python",
   "pygments_lexer": "ipython3",
   "version": "3.10.0"
  },
  "orig_nbformat": 4
 },
 "nbformat": 4,
 "nbformat_minor": 2
}
