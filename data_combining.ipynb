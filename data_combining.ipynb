{
 "cells": [
  {
   "cell_type": "code",
   "execution_count": 489,
   "metadata": {},
   "outputs": [],
   "source": [
    "import pandas as pd\n",
    "from nltk import edit_distance\n",
    "import re\n"
   ]
  },
  {
   "cell_type": "code",
   "execution_count": 490,
   "metadata": {},
   "outputs": [
    {
     "ename": "FileNotFoundError",
     "evalue": "[Errno 2] No such file or directory: 'helpsers/Regions_and_Municipalities/Municipalities.csv'",
     "output_type": "error",
     "traceback": [
      "\u001b[0;31m---------------------------------------------------------------------------\u001b[0m",
      "\u001b[0;31mFileNotFoundError\u001b[0m                         Traceback (most recent call last)",
      "\u001b[0;32m/tmp/ipykernel_8117/3168779763.py\u001b[0m in \u001b[0;36m<module>\u001b[0;34m\u001b[0m\n\u001b[1;32m      2\u001b[0m \u001b[0mtrends\u001b[0m\u001b[0;34m.\u001b[0m\u001b[0mRegion\u001b[0m \u001b[0;34m=\u001b[0m \u001b[0mtrends\u001b[0m\u001b[0;34m.\u001b[0m\u001b[0mRegion\u001b[0m\u001b[0;34m.\u001b[0m\u001b[0mapply\u001b[0m\u001b[0;34m(\u001b[0m\u001b[0;32mlambda\u001b[0m \u001b[0mx\u001b[0m\u001b[0;34m:\u001b[0m \u001b[0;34m'Region '\u001b[0m \u001b[0;34m+\u001b[0m \u001b[0mx\u001b[0m\u001b[0;34m)\u001b[0m\u001b[0;34m\u001b[0m\u001b[0;34m\u001b[0m\u001b[0m\n\u001b[1;32m      3\u001b[0m \u001b[0;34m\u001b[0m\u001b[0m\n\u001b[0;32m----> 4\u001b[0;31m \u001b[0mmun\u001b[0m \u001b[0;34m=\u001b[0m \u001b[0mpd\u001b[0m\u001b[0;34m.\u001b[0m\u001b[0mread_csv\u001b[0m\u001b[0;34m(\u001b[0m\u001b[0;34m'helpsers/Regions_and_Municipalities/Municipalities.csv'\u001b[0m\u001b[0;34m,\u001b[0m \u001b[0mskiprows\u001b[0m\u001b[0;34m=\u001b[0m \u001b[0;36m1\u001b[0m\u001b[0;34m,\u001b[0m \u001b[0mnames\u001b[0m \u001b[0;34m=\u001b[0m \u001b[0;34m[\u001b[0m\u001b[0;34m'id'\u001b[0m\u001b[0;34m,\u001b[0m \u001b[0;34m'Municipality'\u001b[0m\u001b[0;34m,\u001b[0m \u001b[0;34m'City'\u001b[0m\u001b[0;34m]\u001b[0m\u001b[0;34m)\u001b[0m\u001b[0;34m\u001b[0m\u001b[0;34m\u001b[0m\u001b[0m\n\u001b[0m\u001b[1;32m      5\u001b[0m \u001b[0;34m\u001b[0m\u001b[0m\n\u001b[1;32m      6\u001b[0m \u001b[0;34m\u001b[0m\u001b[0m\n",
      "\u001b[0;32m~/anaconda3/envs/stats/lib/python3.8/site-packages/pandas/io/parsers.py\u001b[0m in \u001b[0;36mread_csv\u001b[0;34m(filepath_or_buffer, sep, delimiter, header, names, index_col, usecols, squeeze, prefix, mangle_dupe_cols, dtype, engine, converters, true_values, false_values, skipinitialspace, skiprows, skipfooter, nrows, na_values, keep_default_na, na_filter, verbose, skip_blank_lines, parse_dates, infer_datetime_format, keep_date_col, date_parser, dayfirst, cache_dates, iterator, chunksize, compression, thousands, decimal, lineterminator, quotechar, quoting, doublequote, escapechar, comment, encoding, dialect, error_bad_lines, warn_bad_lines, delim_whitespace, low_memory, memory_map, float_precision, storage_options)\u001b[0m\n\u001b[1;32m    608\u001b[0m     \u001b[0mkwds\u001b[0m\u001b[0;34m.\u001b[0m\u001b[0mupdate\u001b[0m\u001b[0;34m(\u001b[0m\u001b[0mkwds_defaults\u001b[0m\u001b[0;34m)\u001b[0m\u001b[0;34m\u001b[0m\u001b[0;34m\u001b[0m\u001b[0m\n\u001b[1;32m    609\u001b[0m \u001b[0;34m\u001b[0m\u001b[0m\n\u001b[0;32m--> 610\u001b[0;31m     \u001b[0;32mreturn\u001b[0m \u001b[0m_read\u001b[0m\u001b[0;34m(\u001b[0m\u001b[0mfilepath_or_buffer\u001b[0m\u001b[0;34m,\u001b[0m \u001b[0mkwds\u001b[0m\u001b[0;34m)\u001b[0m\u001b[0;34m\u001b[0m\u001b[0;34m\u001b[0m\u001b[0m\n\u001b[0m\u001b[1;32m    611\u001b[0m \u001b[0;34m\u001b[0m\u001b[0m\n\u001b[1;32m    612\u001b[0m \u001b[0;34m\u001b[0m\u001b[0m\n",
      "\u001b[0;32m~/anaconda3/envs/stats/lib/python3.8/site-packages/pandas/io/parsers.py\u001b[0m in \u001b[0;36m_read\u001b[0;34m(filepath_or_buffer, kwds)\u001b[0m\n\u001b[1;32m    460\u001b[0m \u001b[0;34m\u001b[0m\u001b[0m\n\u001b[1;32m    461\u001b[0m     \u001b[0;31m# Create the parser.\u001b[0m\u001b[0;34m\u001b[0m\u001b[0;34m\u001b[0m\u001b[0;34m\u001b[0m\u001b[0m\n\u001b[0;32m--> 462\u001b[0;31m     \u001b[0mparser\u001b[0m \u001b[0;34m=\u001b[0m \u001b[0mTextFileReader\u001b[0m\u001b[0;34m(\u001b[0m\u001b[0mfilepath_or_buffer\u001b[0m\u001b[0;34m,\u001b[0m \u001b[0;34m**\u001b[0m\u001b[0mkwds\u001b[0m\u001b[0;34m)\u001b[0m\u001b[0;34m\u001b[0m\u001b[0;34m\u001b[0m\u001b[0m\n\u001b[0m\u001b[1;32m    463\u001b[0m \u001b[0;34m\u001b[0m\u001b[0m\n\u001b[1;32m    464\u001b[0m     \u001b[0;32mif\u001b[0m \u001b[0mchunksize\u001b[0m \u001b[0;32mor\u001b[0m \u001b[0miterator\u001b[0m\u001b[0;34m:\u001b[0m\u001b[0;34m\u001b[0m\u001b[0;34m\u001b[0m\u001b[0m\n",
      "\u001b[0;32m~/anaconda3/envs/stats/lib/python3.8/site-packages/pandas/io/parsers.py\u001b[0m in \u001b[0;36m__init__\u001b[0;34m(self, f, engine, **kwds)\u001b[0m\n\u001b[1;32m    817\u001b[0m             \u001b[0mself\u001b[0m\u001b[0;34m.\u001b[0m\u001b[0moptions\u001b[0m\u001b[0;34m[\u001b[0m\u001b[0;34m\"has_index_names\"\u001b[0m\u001b[0;34m]\u001b[0m \u001b[0;34m=\u001b[0m \u001b[0mkwds\u001b[0m\u001b[0;34m[\u001b[0m\u001b[0;34m\"has_index_names\"\u001b[0m\u001b[0;34m]\u001b[0m\u001b[0;34m\u001b[0m\u001b[0;34m\u001b[0m\u001b[0m\n\u001b[1;32m    818\u001b[0m \u001b[0;34m\u001b[0m\u001b[0m\n\u001b[0;32m--> 819\u001b[0;31m         \u001b[0mself\u001b[0m\u001b[0;34m.\u001b[0m\u001b[0m_engine\u001b[0m \u001b[0;34m=\u001b[0m \u001b[0mself\u001b[0m\u001b[0;34m.\u001b[0m\u001b[0m_make_engine\u001b[0m\u001b[0;34m(\u001b[0m\u001b[0mself\u001b[0m\u001b[0;34m.\u001b[0m\u001b[0mengine\u001b[0m\u001b[0;34m)\u001b[0m\u001b[0;34m\u001b[0m\u001b[0;34m\u001b[0m\u001b[0m\n\u001b[0m\u001b[1;32m    820\u001b[0m \u001b[0;34m\u001b[0m\u001b[0m\n\u001b[1;32m    821\u001b[0m     \u001b[0;32mdef\u001b[0m \u001b[0mclose\u001b[0m\u001b[0;34m(\u001b[0m\u001b[0mself\u001b[0m\u001b[0;34m)\u001b[0m\u001b[0;34m:\u001b[0m\u001b[0;34m\u001b[0m\u001b[0;34m\u001b[0m\u001b[0m\n",
      "\u001b[0;32m~/anaconda3/envs/stats/lib/python3.8/site-packages/pandas/io/parsers.py\u001b[0m in \u001b[0;36m_make_engine\u001b[0;34m(self, engine)\u001b[0m\n\u001b[1;32m   1048\u001b[0m             )\n\u001b[1;32m   1049\u001b[0m         \u001b[0;31m# error: Too many arguments for \"ParserBase\"\u001b[0m\u001b[0;34m\u001b[0m\u001b[0;34m\u001b[0m\u001b[0;34m\u001b[0m\u001b[0m\n\u001b[0;32m-> 1050\u001b[0;31m         \u001b[0;32mreturn\u001b[0m \u001b[0mmapping\u001b[0m\u001b[0;34m[\u001b[0m\u001b[0mengine\u001b[0m\u001b[0;34m]\u001b[0m\u001b[0;34m(\u001b[0m\u001b[0mself\u001b[0m\u001b[0;34m.\u001b[0m\u001b[0mf\u001b[0m\u001b[0;34m,\u001b[0m \u001b[0;34m**\u001b[0m\u001b[0mself\u001b[0m\u001b[0;34m.\u001b[0m\u001b[0moptions\u001b[0m\u001b[0;34m)\u001b[0m  \u001b[0;31m# type: ignore[call-arg]\u001b[0m\u001b[0;34m\u001b[0m\u001b[0;34m\u001b[0m\u001b[0m\n\u001b[0m\u001b[1;32m   1051\u001b[0m \u001b[0;34m\u001b[0m\u001b[0m\n\u001b[1;32m   1052\u001b[0m     \u001b[0;32mdef\u001b[0m \u001b[0m_failover_to_python\u001b[0m\u001b[0;34m(\u001b[0m\u001b[0mself\u001b[0m\u001b[0;34m)\u001b[0m\u001b[0;34m:\u001b[0m\u001b[0;34m\u001b[0m\u001b[0;34m\u001b[0m\u001b[0m\n",
      "\u001b[0;32m~/anaconda3/envs/stats/lib/python3.8/site-packages/pandas/io/parsers.py\u001b[0m in \u001b[0;36m__init__\u001b[0;34m(self, src, **kwds)\u001b[0m\n\u001b[1;32m   1865\u001b[0m \u001b[0;34m\u001b[0m\u001b[0m\n\u001b[1;32m   1866\u001b[0m         \u001b[0;31m# open handles\u001b[0m\u001b[0;34m\u001b[0m\u001b[0;34m\u001b[0m\u001b[0;34m\u001b[0m\u001b[0m\n\u001b[0;32m-> 1867\u001b[0;31m         \u001b[0mself\u001b[0m\u001b[0;34m.\u001b[0m\u001b[0m_open_handles\u001b[0m\u001b[0;34m(\u001b[0m\u001b[0msrc\u001b[0m\u001b[0;34m,\u001b[0m \u001b[0mkwds\u001b[0m\u001b[0;34m)\u001b[0m\u001b[0;34m\u001b[0m\u001b[0;34m\u001b[0m\u001b[0m\n\u001b[0m\u001b[1;32m   1868\u001b[0m         \u001b[0;32massert\u001b[0m \u001b[0mself\u001b[0m\u001b[0;34m.\u001b[0m\u001b[0mhandles\u001b[0m \u001b[0;32mis\u001b[0m \u001b[0;32mnot\u001b[0m \u001b[0;32mNone\u001b[0m\u001b[0;34m\u001b[0m\u001b[0;34m\u001b[0m\u001b[0m\n\u001b[1;32m   1869\u001b[0m         \u001b[0;32mfor\u001b[0m \u001b[0mkey\u001b[0m \u001b[0;32min\u001b[0m \u001b[0;34m(\u001b[0m\u001b[0;34m\"storage_options\"\u001b[0m\u001b[0;34m,\u001b[0m \u001b[0;34m\"encoding\"\u001b[0m\u001b[0;34m,\u001b[0m \u001b[0;34m\"memory_map\"\u001b[0m\u001b[0;34m,\u001b[0m \u001b[0;34m\"compression\"\u001b[0m\u001b[0;34m)\u001b[0m\u001b[0;34m:\u001b[0m\u001b[0;34m\u001b[0m\u001b[0;34m\u001b[0m\u001b[0m\n",
      "\u001b[0;32m~/anaconda3/envs/stats/lib/python3.8/site-packages/pandas/io/parsers.py\u001b[0m in \u001b[0;36m_open_handles\u001b[0;34m(self, src, kwds)\u001b[0m\n\u001b[1;32m   1360\u001b[0m         \u001b[0mLet\u001b[0m \u001b[0mthe\u001b[0m \u001b[0mreaders\u001b[0m \u001b[0mopen\u001b[0m \u001b[0mIOHanldes\u001b[0m \u001b[0mafter\u001b[0m \u001b[0mthey\u001b[0m \u001b[0mare\u001b[0m \u001b[0mdone\u001b[0m \u001b[0;32mwith\u001b[0m \u001b[0mtheir\u001b[0m \u001b[0mpotential\u001b[0m \u001b[0mraises\u001b[0m\u001b[0;34m.\u001b[0m\u001b[0;34m\u001b[0m\u001b[0;34m\u001b[0m\u001b[0m\n\u001b[1;32m   1361\u001b[0m         \"\"\"\n\u001b[0;32m-> 1362\u001b[0;31m         self.handles = get_handle(\n\u001b[0m\u001b[1;32m   1363\u001b[0m             \u001b[0msrc\u001b[0m\u001b[0;34m,\u001b[0m\u001b[0;34m\u001b[0m\u001b[0;34m\u001b[0m\u001b[0m\n\u001b[1;32m   1364\u001b[0m             \u001b[0;34m\"r\"\u001b[0m\u001b[0;34m,\u001b[0m\u001b[0;34m\u001b[0m\u001b[0;34m\u001b[0m\u001b[0m\n",
      "\u001b[0;32m~/anaconda3/envs/stats/lib/python3.8/site-packages/pandas/io/common.py\u001b[0m in \u001b[0;36mget_handle\u001b[0;34m(path_or_buf, mode, encoding, compression, memory_map, is_text, errors, storage_options)\u001b[0m\n\u001b[1;32m    645\u001b[0m                 \u001b[0merrors\u001b[0m \u001b[0;34m=\u001b[0m \u001b[0;34m\"replace\"\u001b[0m\u001b[0;34m\u001b[0m\u001b[0;34m\u001b[0m\u001b[0m\n\u001b[1;32m    646\u001b[0m             \u001b[0;31m# Encoding\u001b[0m\u001b[0;34m\u001b[0m\u001b[0;34m\u001b[0m\u001b[0;34m\u001b[0m\u001b[0m\n\u001b[0;32m--> 647\u001b[0;31m             handle = open(\n\u001b[0m\u001b[1;32m    648\u001b[0m                 \u001b[0mhandle\u001b[0m\u001b[0;34m,\u001b[0m\u001b[0;34m\u001b[0m\u001b[0;34m\u001b[0m\u001b[0m\n\u001b[1;32m    649\u001b[0m                 \u001b[0mioargs\u001b[0m\u001b[0;34m.\u001b[0m\u001b[0mmode\u001b[0m\u001b[0;34m,\u001b[0m\u001b[0;34m\u001b[0m\u001b[0;34m\u001b[0m\u001b[0m\n",
      "\u001b[0;31mFileNotFoundError\u001b[0m: [Errno 2] No such file or directory: 'helpsers/Regions_and_Municipalities/Municipalities.csv'"
     ]
    }
   ],
   "source": [
    "trends = pd.read_csv('Datasets/aggregated/preproccesed_trends_data.csv')\n",
    "trends.Region = trends.Region.apply(lambda x: 'Region ' + x)\n",
    "\n",
    "mun = pd.read_csv('helpers/Regions_and_Municipalities/Municipalities.csv', skiprows= 1, names = ['id', 'Municipality', 'City'])\n",
    "\n",
    "\n",
    "\n",
    "reg_mun = pd.read_csv('helpers/Regions_and_Municipalities/Regions_and_municipalities.csv', skiprows = 4, names = ['area', 'pop'], encoding='cp1252')\n",
    "\n",
    "reg_args = ~reg_mun.area.apply(lambda x: re.search(pattern= 'Region', string= x)).isna()\n",
    "reg_args = reg_args[reg_args == True]\n",
    "\n",
    "reg_dict = {reg_mun.area[idx] : [reg_mun.area[idx+1 : reg_args.index[enum+1] ].values ] if enum <= 3 else [reg_mun.area[idx+1 : ].values] for enum, idx in enumerate(reg_args.index)  }\n",
    "\n",
    "reg_df = pd.DataFrame.from_dict(reg_dict,orient='index').rename_axis('Region').reset_index()\n",
    "reg_df = reg_df.explode(0).rename(columns={0 : 'Municipality'})\n",
    "reg_df.Municipality = reg_df.Municipality.apply(lambda x: x + ' Kommune')\n",
    "reg_df.Municipality[reg_df.Municipality == 'København Kommune'] = 'Københavns Kommune'\n",
    "\n",
    "\n",
    "mun = mun.merge(reg_df, on = 'Municipality', how = 'left')\n",
    "\n",
    "mun = mun[~mun.Region.isna()]\n",
    "\n",
    "group_df = mun.groupby(['City', 'Region'], as_index= False).count().reset_index()\n",
    "group_df = group_df[['City', 'Region']][group_df.Municipality > 1]\n",
    "group_df = group_df[~group_df.City.isin(['Uden fast bopæl', 'Landdistrikter'])]\n",
    "\n",
    "group_df.to_csv('helpers/cities_in_multiple_municipalities.csv')\n"
   ]
  },
  {
   "cell_type": "markdown",
   "metadata": {},
   "source": []
  },
  {
   "cell_type": "code",
   "execution_count": null,
   "metadata": {},
   "outputs": [
    {
     "name": "stderr",
     "output_type": "stream",
     "text": [
      "/tmp/ipykernel_8117/1308687334.py:8: SettingWithCopyWarning: \n",
      "A value is trying to be set on a copy of a slice from a DataFrame\n",
      "\n",
      "See the caveats in the documentation: https://pandas.pydata.org/pandas-docs/stable/user_guide/indexing.html#returning-a-view-versus-a-copy\n",
      "  mun.City[idx] = group_df.City.iloc[i]\n",
      "/tmp/ipykernel_8117/1308687334.py:13: SettingWithCopyWarning: \n",
      "A value is trying to be set on a copy of a slice from a DataFrame\n",
      "\n",
      "See the caveats in the documentation: https://pandas.pydata.org/pandas-docs/stable/user_guide/indexing.html#returning-a-view-versus-a-copy\n",
      "  mun.Municipality[(idx & idx_reg)] = group_df.Municipality.iloc[i]\n"
     ]
    }
   ],
   "source": [
    "group_df = pd.read_csv('helpers/cities_in_multiple_municipalities_done.csv', sep =';')\n",
    "\n",
    "group_df = group_df[~group_df.City.isin(group_df.City[group_df.City.duplicated()])]\n",
    "\n",
    "\n",
    "for i in range(len(group_df.City)):\n",
    "    idx = ~mun.City.apply(lambda x: re.search(pattern= group_df.DST_name.iloc[i], string= x)).isna()\n",
    "    mun.City[idx] = group_df.City.iloc[i]\n",
    "\n",
    "for i in range(len(group_df.City)):\n",
    "    idx = ~mun.City.apply(lambda x: re.search(pattern= group_df.City.iloc[i], string= x)).isna()\n",
    "    idx_reg = ~mun.Region.apply(lambda x: re.search(pattern= group_df.Region.iloc[i], string= x)).isna()\n",
    "    mun.Municipality[(idx & idx_reg)] = group_df.Municipality.iloc[i]\n",
    "\n",
    "mun = mun[['Municipality', 'City', 'Region']].drop_duplicates()\n",
    "\n",
    "test = trends.merge(mun[['City', 'Region', 'Municipality']], on=['City', 'Region'], how = 'left')"
   ]
  },
  {
   "cell_type": "code",
   "execution_count": null,
   "metadata": {},
   "outputs": [],
   "source": [
    "def get_similar_city(city, cities):\n",
    "    distances = cities.apply(edit_distance, s2 = city)\n",
    "    distances = distances[distances <= 2]\n",
    "    return cities.values[distances.index]\n",
    "\n",
    "city_ser = pd.Series(test.City[test.Municipality.isna()].unique())\n",
    "\n",
    "new = city_ser.apply(get_similar_city, cities = pd.Series(mun.City.unique()))\n",
    "city_frame = pd.DataFrame({'City' : city_ser, 'Candidates' : new})\n",
    "\n"
   ]
  },
  {
   "cell_type": "code",
   "execution_count": null,
   "metadata": {},
   "outputs": [],
   "source": [
    "def correct_city(city_frame, muns, full):\n",
    "    muns = muns[muns.City.isin(city_frame.Candidates)]\n",
    "    full_reg = full.Region[full.City == city_frame.City].unique()\n",
    "    muns = muns[muns.Region.isin(full_reg)]\n",
    "    muns['old'] = city_frame.City\n",
    "    return muns\n",
    "\n",
    "candidate_df = pd.DataFrame()\n",
    "for i in city_frame.index:\n",
    "    candidate_df = candidate_df.append(correct_city(city_frame.iloc[i], mun, test))\n",
    "\n",
    "candidate_df.to_csv('helpers/cities_for_manual_inspection.csv')\n",
    "\n",
    "def is_in(candidate, muns):\n",
    "    return ~muns.old.isin([candidate]).any()\n",
    "\n",
    "\n",
    "\n",
    "no_DST = city_ser[city_ser.apply(is_in, muns = candidate_df)]"
   ]
  },
  {
   "cell_type": "markdown",
   "metadata": {},
   "source": [
    "We do manual inspection"
   ]
  },
  {
   "cell_type": "code",
   "execution_count": null,
   "metadata": {},
   "outputs": [],
   "source": [
    "candidate_df = pd.read_csv('helpers/cities_for_manual_inspection_done.csv', sep = ';')\n",
    "\n",
    "replacements = candidate_df[candidate_df.annotations == 1]\n",
    "\n",
    "no_DST = no_DST.append(candidate_df.old[candidate_df.annotations == 0])\n",
    "\n",
    "no_DST.to_csv('helpers/cities_missing_municipality.csv')"
   ]
  },
  {
   "cell_type": "markdown",
   "metadata": {},
   "source": [
    "We do manual inspection"
   ]
  },
  {
   "cell_type": "code",
   "execution_count": null,
   "metadata": {},
   "outputs": [],
   "source": [
    "no_DST = pd.read_csv('helpers/cities_missing_municipality_done.csv', sep = ';', skiprows=1, names = ['id', 'DST_name', 'City', 'Municipality'])\n",
    "no_DST = no_DST[['DST_name', 'City', 'Municipality']].drop_duplicates()"
   ]
  },
  {
   "cell_type": "code",
   "execution_count": null,
   "metadata": {},
   "outputs": [
    {
     "name": "stderr",
     "output_type": "stream",
     "text": [
      "/tmp/ipykernel_8117/3173607246.py:3: SettingWithCopyWarning: \n",
      "A value is trying to be set on a copy of a slice from a DataFrame\n",
      "\n",
      "See the caveats in the documentation: https://pandas.pydata.org/pandas-docs/stable/user_guide/indexing.html#returning-a-view-versus-a-copy\n",
      "  test.City[idx] = replacements.City.iloc[i]\n",
      "/tmp/ipykernel_8117/3173607246.py:4: SettingWithCopyWarning: \n",
      "A value is trying to be set on a copy of a slice from a DataFrame\n",
      "\n",
      "See the caveats in the documentation: https://pandas.pydata.org/pandas-docs/stable/user_guide/indexing.html#returning-a-view-versus-a-copy\n",
      "  test.Municipality[idx] = replacements.Municipality.iloc[i]\n",
      "/tmp/ipykernel_8117/3173607246.py:8: SettingWithCopyWarning: \n",
      "A value is trying to be set on a copy of a slice from a DataFrame\n",
      "\n",
      "See the caveats in the documentation: https://pandas.pydata.org/pandas-docs/stable/user_guide/indexing.html#returning-a-view-versus-a-copy\n",
      "  test.City[idx] = no_DST.DST_name.iloc[i]\n",
      "/tmp/ipykernel_8117/3173607246.py:12: SettingWithCopyWarning: \n",
      "A value is trying to be set on a copy of a slice from a DataFrame\n",
      "\n",
      "See the caveats in the documentation: https://pandas.pydata.org/pandas-docs/stable/user_guide/indexing.html#returning-a-view-versus-a-copy\n",
      "  test.Municipality[idx] = no_DST.Municipality.iloc[i]\n",
      "/tmp/ipykernel_8117/3173607246.py:14: SettingWithCopyWarning: \n",
      "A value is trying to be set on a copy of a slice from a DataFrame\n",
      "\n",
      "See the caveats in the documentation: https://pandas.pydata.org/pandas-docs/stable/user_guide/indexing.html#returning-a-view-versus-a-copy\n",
      "  test.Municipality[test.City == 'Ballerup'] = 'Ballerup Kommune'\n"
     ]
    }
   ],
   "source": [
    "\n",
    "for i in range(len(replacements.old)):\n",
    "    idx = ~test.City.apply(lambda x: re.search(pattern= replacements.old.iloc[i], string= x)).isna()\n",
    "    test.City[idx] = replacements.City.iloc[i]\n",
    "    test.Municipality[idx] = replacements.Municipality.iloc[i]\n",
    "\n",
    "for i in range(len(no_DST.City)):\n",
    "    idx = ~test.City.apply(lambda x: re.search(pattern= no_DST.City.iloc[i], string= x)).isna()\n",
    "    test.City[idx] = no_DST.DST_name.iloc[i]\n",
    "\n",
    "for i in range(len(no_DST.City)):\n",
    "    idx = ~test.City.apply(lambda x: re.search(pattern= no_DST.DST_name.iloc[i], string= x)).isna()\n",
    "    test.Municipality[idx] = no_DST.Municipality.iloc[i]\n",
    "\n",
    "test.Municipality[test.City == 'Ballerup'] = 'Ballerup Kommune'"
   ]
  },
  {
   "cell_type": "code",
   "execution_count": null,
   "metadata": {},
   "outputs": [
    {
     "name": "stderr",
     "output_type": "stream",
     "text": [
      "/tmp/ipykernel_8117/1905073680.py:7: SettingWithCopyWarning: \n",
      "A value is trying to be set on a copy of a slice from a DataFrame\n",
      "\n",
      "See the caveats in the documentation: https://pandas.pydata.org/pandas-docs/stable/user_guide/indexing.html#returning-a-view-versus-a-copy\n",
      "  FB_estimates.Region[FB_estimates.Region == 'North Denmark Region'] = 'Region Nordjylland'\n",
      "/tmp/ipykernel_8117/1905073680.py:8: SettingWithCopyWarning: \n",
      "A value is trying to be set on a copy of a slice from a DataFrame\n",
      "\n",
      "See the caveats in the documentation: https://pandas.pydata.org/pandas-docs/stable/user_guide/indexing.html#returning-a-view-versus-a-copy\n",
      "  FB_estimates.Region[FB_estimates.Region == 'Region of Southern Denmark'] = 'Region Syddanmark'\n",
      "/tmp/ipykernel_8117/1905073680.py:9: SettingWithCopyWarning: \n",
      "A value is trying to be set on a copy of a slice from a DataFrame\n",
      "\n",
      "See the caveats in the documentation: https://pandas.pydata.org/pandas-docs/stable/user_guide/indexing.html#returning-a-view-versus-a-copy\n",
      "  FB_estimates.Region[FB_estimates.Region == 'Capital Region of Denmark'] = 'Region Hovedstaden'\n",
      "/tmp/ipykernel_8117/1905073680.py:10: SettingWithCopyWarning: \n",
      "A value is trying to be set on a copy of a slice from a DataFrame\n",
      "\n",
      "See the caveats in the documentation: https://pandas.pydata.org/pandas-docs/stable/user_guide/indexing.html#returning-a-view-versus-a-copy\n",
      "  FB_estimates.Region[FB_estimates.Region == 'Central Denmark Region'] = 'Region Midtjylland'\n",
      "/tmp/ipykernel_8117/1905073680.py:11: SettingWithCopyWarning: \n",
      "A value is trying to be set on a copy of a slice from a DataFrame\n",
      "\n",
      "See the caveats in the documentation: https://pandas.pydata.org/pandas-docs/stable/user_guide/indexing.html#returning-a-view-versus-a-copy\n",
      "  FB_estimates.Region[FB_estimates.Region == 'Zealand Region'] = 'Region Sjælland'\n",
      "/tmp/ipykernel_8117/1905073680.py:20: SettingWithCopyWarning: \n",
      "A value is trying to be set on a copy of a slice from a DataFrame\n",
      "\n",
      "See the caveats in the documentation: https://pandas.pydata.org/pandas-docs/stable/user_guide/indexing.html#returning-a-view-versus-a-copy\n",
      "  FB_df.City[idx] = replacements.City.iloc[i]\n",
      "/tmp/ipykernel_8117/1905073680.py:21: SettingWithCopyWarning: \n",
      "A value is trying to be set on a copy of a slice from a DataFrame\n",
      "\n",
      "See the caveats in the documentation: https://pandas.pydata.org/pandas-docs/stable/user_guide/indexing.html#returning-a-view-versus-a-copy\n",
      "  FB_df.Municipality[idx] = replacements.Municipality.iloc[i]\n",
      "/tmp/ipykernel_8117/1905073680.py:26: SettingWithCopyWarning: \n",
      "A value is trying to be set on a copy of a slice from a DataFrame\n",
      "\n",
      "See the caveats in the documentation: https://pandas.pydata.org/pandas-docs/stable/user_guide/indexing.html#returning-a-view-versus-a-copy\n",
      "  FB_df.Municipality[idx] = no_DST.Municipality.iloc[i]\n",
      "/tmp/ipykernel_8117/1905073680.py:28: SettingWithCopyWarning: \n",
      "A value is trying to be set on a copy of a slice from a DataFrame\n",
      "\n",
      "See the caveats in the documentation: https://pandas.pydata.org/pandas-docs/stable/user_guide/indexing.html#returning-a-view-versus-a-copy\n",
      "  FB_df['Upper bound'][(FB_df.City == 'Herlev')] = 4100\n",
      "/tmp/ipykernel_8117/1905073680.py:29: SettingWithCopyWarning: \n",
      "A value is trying to be set on a copy of a slice from a DataFrame\n",
      "\n",
      "See the caveats in the documentation: https://pandas.pydata.org/pandas-docs/stable/user_guide/indexing.html#returning-a-view-versus-a-copy\n",
      "  FB_df['Lower bound'][(FB_df.City == 'Herlev')] = 3500\n"
     ]
    }
   ],
   "source": [
    "FB_estimates = pd.read_csv('Datasets/aggregated/FB_estimates.csv')\n",
    "\n",
    "def string_split(series):\n",
    "    return series.split(',')[0]\n",
    "\n",
    "FB_estimates.City = FB_estimates.City.apply(string_split)\n",
    "FB_estimates.Region[FB_estimates.Region == 'North Denmark Region'] = 'Region Nordjylland'\n",
    "FB_estimates.Region[FB_estimates.Region == 'Region of Southern Denmark'] = 'Region Syddanmark'\n",
    "FB_estimates.Region[FB_estimates.Region == 'Capital Region of Denmark'] = 'Region Hovedstaden'\n",
    "FB_estimates.Region[FB_estimates.Region == 'Central Denmark Region'] = 'Region Midtjylland'\n",
    "FB_estimates.Region[FB_estimates.Region == 'Zealand Region'] = 'Region Sjælland'\n",
    "\n",
    "\n",
    "\n",
    "\n",
    "FB_df = FB_estimates.merge(mun[['City', 'Region', 'Municipality']], on=['City', 'Region'], how = 'left')\n",
    "\n",
    "for i in range(len(replacements.old)):\n",
    "    idx = ~FB_df.City.apply(lambda x: re.search(pattern= replacements.old.iloc[i], string= x)).isna()\n",
    "    FB_df.City[idx] = replacements.City.iloc[i]\n",
    "    FB_df.Municipality[idx] = replacements.Municipality.iloc[i]\n",
    "\n",
    "\n",
    "for i in range(len(no_DST.City)):\n",
    "    idx = ~FB_df.City.apply(lambda x: re.search(pattern= no_DST.City.iloc[i], string= x)).isna()\n",
    "    FB_df.Municipality[idx] = no_DST.Municipality.iloc[i]\n",
    "\n",
    "FB_df['Upper bound'][(FB_df.City == 'Herlev')] = 4100\n",
    "FB_df['Lower bound'][(FB_df.City == 'Herlev')] = 3500\n",
    "\n",
    "\n",
    "FB_df = FB_df[~(FB_df.City == 'Herlev Kommune')]\n",
    "\n",
    "FB_isna = FB_df[FB_df.Municipality.isna()]\n",
    "\n",
    "\n",
    "FB_isna.to_csv('helpers/FB_with_no_Municipality.csv')\n"
   ]
  },
  {
   "cell_type": "markdown",
   "metadata": {},
   "source": []
  },
  {
   "cell_type": "code",
   "execution_count": null,
   "metadata": {},
   "outputs": [
    {
     "name": "stderr",
     "output_type": "stream",
     "text": [
      "/tmp/ipykernel_8117/4189089509.py:7: SettingWithCopyWarning: \n",
      "A value is trying to be set on a copy of a slice from a DataFrame\n",
      "\n",
      "See the caveats in the documentation: https://pandas.pydata.org/pandas-docs/stable/user_guide/indexing.html#returning-a-view-versus-a-copy\n",
      "  FB_df.City[idx] = FB_isna.DST_name.iloc[i]\n",
      "/tmp/ipykernel_8117/4189089509.py:13: SettingWithCopyWarning: \n",
      "A value is trying to be set on a copy of a slice from a DataFrame\n",
      "\n",
      "See the caveats in the documentation: https://pandas.pydata.org/pandas-docs/stable/user_guide/indexing.html#returning-a-view-versus-a-copy\n",
      "  FB_df.Municipality[(idx & idx_reg)] = FB_isna.Municipality.iloc[i]\n"
     ]
    }
   ],
   "source": [
    "FB_isna = pd.read_csv('helpers/FB_with_no_Municipality_done.csv', sep = ';')\n",
    "\n",
    "\n",
    "for i in range(len(FB_isna.City)):\n",
    "    idx = ~FB_df.City.apply(lambda x: re.search(pattern= FB_isna.City.iloc[i], string= x)).isna()\n",
    "    FB_df.City[idx] = FB_isna.DST_name.iloc[i]\n",
    "\n",
    "\n",
    "for i in range(len(FB_isna.City)):\n",
    "    idx = ~FB_df.City.apply(lambda x: re.search(pattern= FB_isna.DST_name.iloc[i], string= x)).isna()\n",
    "    idx_reg = ~FB_df.Region.apply(lambda x: re.search(pattern= FB_isna.Region.iloc[i], string= x)).isna()\n",
    "    FB_df.Municipality[(idx & idx_reg)] = FB_isna.Municipality.iloc[i]\n",
    "\n",
    "FB_df = FB_df[~FB_df.Municipality.isna()]\n",
    "\n",
    "FB_df['year'] = 2021"
   ]
  },
  {
   "cell_type": "code",
   "execution_count": 487,
   "metadata": {},
   "outputs": [
    {
     "name": "stderr",
     "output_type": "stream",
     "text": [
      "/tmp/ipykernel_8117/366610482.py:4: SettingWithCopyWarning: \n",
      "A value is trying to be set on a copy of a slice from a DataFrame\n",
      "\n",
      "See the caveats in the documentation: https://pandas.pydata.org/pandas-docs/stable/user_guide/indexing.html#returning-a-view-versus-a-copy\n",
      "  ev_df.Municipality[ev_df.Municipality == 'København Kommune'] = 'Københavns Kommune'\n"
     ]
    }
   ],
   "source": [
    "ev_df = pd.read_csv('Datasets/aggregated/ev_population.csv', encoding ='cp1252', skiprows=1, names = ['id', 'Municipality', 'year', 'EV_pop'])\n",
    "\n",
    "ev_df.Municipality = ev_df.Municipality.apply(lambda x: x + ' Kommune')\n",
    "ev_df.Municipality[ev_df.Municipality == 'København Kommune'] = 'Københavns Kommune'\n",
    "\n",
    "\n",
    "merged_df = FB_df.merge(test, on = ['City', 'Region', 'Municipality', 'year'], how='outer')\n",
    "\n",
    "merged_df = merged_df.merge(ev_df, on = ['Municipality', 'year'], how = 'left')"
   ]
  },
  {
   "cell_type": "code",
   "execution_count": 511,
   "metadata": {},
   "outputs": [
    {
     "name": "stderr",
     "output_type": "stream",
     "text": [
      "/tmp/ipykernel_8117/3700295559.py:17: SettingWithCopyWarning: \n",
      "A value is trying to be set on a copy of a slice from a DataFrame\n",
      "\n",
      "See the caveats in the documentation: https://pandas.pydata.org/pandas-docs/stable/user_guide/indexing.html#returning-a-view-versus-a-copy\n",
      "  dst_population['Municipality'][mun_map.level_1] = mun_map.Municipality\n"
     ]
    }
   ],
   "source": [
    "dst_population = pd.read_csv('Datasets/aggregated/population_stats.csv', encoding='cp1252', skiprows=1, names = ['Area_id', 'Area_name', 'year', 'pop', 'pop_dens'])\n",
    "\n",
    "def string_split(series, pattern):\n",
    "    return series.split(pattern)[0]\n",
    "\n",
    "def get_mun(rows):\n",
    "    rows['Municipality'] = rows.Area_name.iloc[0]\n",
    "    return rows['Municipality']\n",
    "\n",
    "dst_population.Area_name = dst_population.Area_name.apply(string_split, pattern = ' (')\n",
    "dst_population['Mun_code'] = dst_population.Area_id.apply(string_split, pattern = '-')\n",
    "\n",
    "\n",
    "mun_map = dst_population.groupby('Mun_code', as_index = False).apply(get_mun).reset_index()\n",
    "dst_population['Municipality'] = ''\n",
    "\n",
    "dst_population['Municipality'][mun_map.level_1] = mun_map.Municipality\n",
    "\n",
    "dst_population = dst_population[~(dst_population.Area_name == dst_population.Municipality)]\n",
    "dst_population = dst_population.rename(columns = {'Area_name' : 'City'})\n",
    "\n",
    "merged_df = merged_df.merge(dst_population, on = ['City', 'Municipality', 'year'], how = 'left')\n"
   ]
  }
 ],
 "metadata": {
  "interpreter": {
   "hash": "a18b077e14f581b8be01659f9df486d7c1e6db2b6bbdcf2e3e6431d172e3f10c"
  },
  "kernelspec": {
   "display_name": "Python 3.8.12 64-bit ('stats': conda)",
   "language": "python",
   "name": "python3"
  },
  "language_info": {
   "codemirror_mode": {
    "name": "ipython",
    "version": 3
   },
   "file_extension": ".py",
   "mimetype": "text/x-python",
   "name": "python",
   "nbconvert_exporter": "python",
   "pygments_lexer": "ipython3",
   "version": "3.8.12"
  },
  "orig_nbformat": 4
 },
 "nbformat": 4,
 "nbformat_minor": 2
}
