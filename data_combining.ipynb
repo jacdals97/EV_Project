{
 "cells": [
  {
   "cell_type": "code",
   "execution_count": 204,
   "metadata": {},
   "outputs": [],
   "source": [
    "import pandas as pd\n",
    "from nltk import edit_distance\n",
    "import re\n"
   ]
  },
  {
   "cell_type": "code",
   "execution_count": 431,
   "metadata": {},
   "outputs": [],
   "source": [
    "trends = pd.read_csv('Datasets/preproccesed_trends_data.csv')\n",
    "trends.Region = trends.Region.apply(lambda x: 'Region ' + x)\n",
    "\n",
    "mun = pd.read_csv('Regions_and_Municipalities/Municipalities.csv', skiprows= 1, names = ['id', 'Municipality', 'City'])\n",
    "\n",
    "\n",
    "\n",
    "\n",
    "reg_mun = pd.read_csv('Regions_and_Municipalities/Regions_and_municipalities.csv', skiprows = 4, names = ['area', 'pop'], encoding='cp1252')\n",
    "\n",
    "reg_args = ~reg_mun.area.apply(lambda x: re.search(pattern= 'Region', string= x)).isna()\n",
    "reg_args = reg_args[reg_args == True]\n",
    "\n",
    "reg_dict = {reg_mun.area[idx] : [reg_mun.area[idx+1 : reg_args.index[enum+1] ].values ] if enum <= 3 else [reg_mun.area[idx+1 : ].values] for enum, idx in enumerate(reg_args.index)  }\n",
    "\n",
    "reg_df = pd.DataFrame.from_dict(reg_dict,orient='index').rename_axis('Region').reset_index()\n",
    "reg_df = reg_df.explode(0).rename(columns={0 : 'Municipality'})\n",
    "reg_df.Municipality = reg_df.Municipality.apply(lambda x: x + ' Kommune')\n",
    "reg_df.Municipality[reg_df.Municipality == 'København Kommune'] = 'Københavns Kommune'\n",
    "\n",
    "\n",
    "mun = mun.merge(reg_df, on = 'Municipality', how = 'left')\n",
    "\n",
    "mun = mun[~mun.Region.isna()]\n",
    "\n",
    "group_df = mun.groupby(['City', 'Region'], as_index= False).count().reset_index()\n",
    "group_df = group_df[['City', 'Region']][group_df.Municipality > 1]\n",
    "group_df = group_df[~group_df.City.isin(['Uden fast bopæl', 'Landdistrikter'])]\n",
    "\n",
    "group_df.to_csv('annotated_data/cities_in_multiple_municipalities.csv')\n"
   ]
  },
  {
   "cell_type": "markdown",
   "metadata": {},
   "source": []
  },
  {
   "cell_type": "code",
   "execution_count": 432,
   "metadata": {},
   "outputs": [
    {
     "name": "stderr",
     "output_type": "stream",
     "text": [
      "/tmp/ipykernel_8117/1373085560.py:8: SettingWithCopyWarning: \n",
      "A value is trying to be set on a copy of a slice from a DataFrame\n",
      "\n",
      "See the caveats in the documentation: https://pandas.pydata.org/pandas-docs/stable/user_guide/indexing.html#returning-a-view-versus-a-copy\n",
      "  mun.City[idx] = group_df.City.iloc[i]\n",
      "/tmp/ipykernel_8117/1373085560.py:13: SettingWithCopyWarning: \n",
      "A value is trying to be set on a copy of a slice from a DataFrame\n",
      "\n",
      "See the caveats in the documentation: https://pandas.pydata.org/pandas-docs/stable/user_guide/indexing.html#returning-a-view-versus-a-copy\n",
      "  mun.Municipality[(idx & idx_reg)] = group_df.Municipality.iloc[i]\n"
     ]
    }
   ],
   "source": [
    "group_df = pd.read_csv('annotated_data/cities_in_multiple_municipalities_done.csv', sep =';')\n",
    "\n",
    "group_df = group_df[~group_df.City.isin(group_df.City[group_df.City.duplicated()])]\n",
    "\n",
    "\n",
    "for i in range(len(group_df.City)):\n",
    "    idx = ~mun.City.apply(lambda x: re.search(pattern= group_df.DST_name.iloc[i], string= x)).isna()\n",
    "    mun.City[idx] = group_df.City.iloc[i]\n",
    "\n",
    "for i in range(len(group_df.City)):\n",
    "    idx = ~mun.City.apply(lambda x: re.search(pattern= group_df.City.iloc[i], string= x)).isna()\n",
    "    idx_reg = ~mun.Region.apply(lambda x: re.search(pattern= group_df.Region.iloc[i], string= x)).isna()\n",
    "    mun.Municipality[(idx & idx_reg)] = group_df.Municipality.iloc[i]\n",
    "\n",
    "mun = mun[['Municipality', 'City', 'Region']].drop_duplicates()\n",
    "\n",
    "test = trends.merge(mun[['City', 'Region', 'Municipality']], on=['City', 'Region'], how = 'left')"
   ]
  },
  {
   "cell_type": "code",
   "execution_count": 433,
   "metadata": {},
   "outputs": [],
   "source": [
    "def get_similar_city(city, cities):\n",
    "    distances = cities.apply(edit_distance, s2 = city)\n",
    "    distances = distances[distances <= 2]\n",
    "    return cities.values[distances.index]\n",
    "\n",
    "city_ser = pd.Series(test.City[test.Municipality.isna()].unique())\n",
    "\n",
    "new = city_ser.apply(get_similar_city, cities = pd.Series(mun.City.unique()))\n",
    "city_frame = pd.DataFrame({'City' : city_ser, 'Candidates' : new})\n",
    "\n"
   ]
  },
  {
   "cell_type": "code",
   "execution_count": 434,
   "metadata": {},
   "outputs": [],
   "source": [
    "def correct_city(city_frame, muns, full):\n",
    "    muns = muns[muns.City.isin(city_frame.Candidates)]\n",
    "    full_reg = full.Region[full.City == city_frame.City].unique()\n",
    "    muns = muns[muns.Region.isin(full_reg)]\n",
    "    muns['old'] = city_frame.City\n",
    "    return muns\n",
    "\n",
    "candidate_df = pd.DataFrame()\n",
    "for i in city_frame.index:\n",
    "    candidate_df = candidate_df.append(correct_city(city_frame.iloc[i], mun, test))\n",
    "\n",
    "candidate_df.to_csv('annotated_data/cities_for_manual_inspection.csv')\n",
    "\n",
    "def is_in(candidate, muns):\n",
    "    return ~muns.old.isin([candidate]).any()\n",
    "\n",
    "\n",
    "\n",
    "no_DST = city_ser[city_ser.apply(is_in, muns = candidate_df)]"
   ]
  },
  {
   "cell_type": "markdown",
   "metadata": {},
   "source": [
    "We do manual inspection"
   ]
  },
  {
   "cell_type": "code",
   "execution_count": 435,
   "metadata": {},
   "outputs": [],
   "source": [
    "candidate_df = pd.read_csv('annotated_data/cities_for_manual_inspection_done.csv', sep = ';')\n",
    "\n",
    "replacements = candidate_df[candidate_df.annotations == 1]\n",
    "\n",
    "no_DST = no_DST.append(candidate_df.old[candidate_df.annotations == 0])\n",
    "\n",
    "no_DST.to_csv('annotated_data/cities_missing_municipality.csv')"
   ]
  },
  {
   "cell_type": "markdown",
   "metadata": {},
   "source": [
    "We do manual inspection"
   ]
  },
  {
   "cell_type": "code",
   "execution_count": 436,
   "metadata": {},
   "outputs": [],
   "source": [
    "no_DST = pd.read_csv('annotated_data/cities_missing_municipality_done.csv', sep = ';', skiprows=1, names = ['id', 'DST_name', 'City', 'Municipality'])\n",
    "no_DST = no_DST[['DST_name', 'City', 'Municipality']].drop_duplicates()"
   ]
  },
  {
   "cell_type": "code",
   "execution_count": 437,
   "metadata": {},
   "outputs": [
    {
     "name": "stderr",
     "output_type": "stream",
     "text": [
      "/tmp/ipykernel_8117/3173607246.py:3: SettingWithCopyWarning: \n",
      "A value is trying to be set on a copy of a slice from a DataFrame\n",
      "\n",
      "See the caveats in the documentation: https://pandas.pydata.org/pandas-docs/stable/user_guide/indexing.html#returning-a-view-versus-a-copy\n",
      "  test.City[idx] = replacements.City.iloc[i]\n",
      "/tmp/ipykernel_8117/3173607246.py:4: SettingWithCopyWarning: \n",
      "A value is trying to be set on a copy of a slice from a DataFrame\n",
      "\n",
      "See the caveats in the documentation: https://pandas.pydata.org/pandas-docs/stable/user_guide/indexing.html#returning-a-view-versus-a-copy\n",
      "  test.Municipality[idx] = replacements.Municipality.iloc[i]\n",
      "/tmp/ipykernel_8117/3173607246.py:8: SettingWithCopyWarning: \n",
      "A value is trying to be set on a copy of a slice from a DataFrame\n",
      "\n",
      "See the caveats in the documentation: https://pandas.pydata.org/pandas-docs/stable/user_guide/indexing.html#returning-a-view-versus-a-copy\n",
      "  test.City[idx] = no_DST.DST_name.iloc[i]\n",
      "/tmp/ipykernel_8117/3173607246.py:12: SettingWithCopyWarning: \n",
      "A value is trying to be set on a copy of a slice from a DataFrame\n",
      "\n",
      "See the caveats in the documentation: https://pandas.pydata.org/pandas-docs/stable/user_guide/indexing.html#returning-a-view-versus-a-copy\n",
      "  test.Municipality[idx] = no_DST.Municipality.iloc[i]\n",
      "/tmp/ipykernel_8117/3173607246.py:14: SettingWithCopyWarning: \n",
      "A value is trying to be set on a copy of a slice from a DataFrame\n",
      "\n",
      "See the caveats in the documentation: https://pandas.pydata.org/pandas-docs/stable/user_guide/indexing.html#returning-a-view-versus-a-copy\n",
      "  test.Municipality[test.City == 'Ballerup'] = 'Ballerup Kommune'\n"
     ]
    }
   ],
   "source": [
    "\n",
    "for i in range(len(replacements.old)):\n",
    "    idx = ~test.City.apply(lambda x: re.search(pattern= replacements.old.iloc[i], string= x)).isna()\n",
    "    test.City[idx] = replacements.City.iloc[i]\n",
    "    test.Municipality[idx] = replacements.Municipality.iloc[i]\n",
    "\n",
    "for i in range(len(no_DST.City)):\n",
    "    idx = ~test.City.apply(lambda x: re.search(pattern= no_DST.City.iloc[i], string= x)).isna()\n",
    "    test.City[idx] = no_DST.DST_name.iloc[i]\n",
    "\n",
    "for i in range(len(no_DST.City)):\n",
    "    idx = ~test.City.apply(lambda x: re.search(pattern= no_DST.DST_name.iloc[i], string= x)).isna()\n",
    "    test.Municipality[idx] = no_DST.Municipality.iloc[i]\n",
    "\n",
    "test.Municipality[test.City == 'Ballerup'] = 'Ballerup Kommune'"
   ]
  },
  {
   "cell_type": "code",
   "execution_count": null,
   "metadata": {},
   "outputs": [],
   "source": [
    "FB_estimates = pd.read_csv('Datasets/aggregated/FB_estimates.csv')\n",
    "\n",
    "def string_split(series):\n",
    "    return series.split(',')[0]\n",
    "\n",
    "FB_estimates.City = FB_estimates.City.apply(string_split)\n",
    "FB_estimates.Region[FB_estimates.Region == 'North Denmark Region'] = 'Region Nordjylland'\n",
    "FB_estimates.Region[FB_estimates.Region == 'Region of Southern Denmark'] = 'Region Syddanmark'\n",
    "FB_estimates.Region[FB_estimates.Region == 'Capital Region of Denmark'] = 'Region Hovedstaden'\n",
    "FB_estimates.Region[FB_estimates.Region == 'Central Denmark Region'] = 'Region Midtjylland'\n",
    "FB_estimates.Region[FB_estimates.Region == 'Zealand Region'] = 'Region Sjælland'\n",
    "\n",
    "\n",
    "\n",
    "\n",
    "FB_df = FB_estimates.merge(mun[['City', 'Region', 'Municipality']], on=['City', 'Region'], how = 'left')\n",
    "\n",
    "for i in range(len(replacements.old)):\n",
    "    idx = ~FB_df.City.apply(lambda x: re.search(pattern= replacements.old.iloc[i], string= x)).isna()\n",
    "    FB_df.City[idx] = replacements.City.iloc[i]\n",
    "    FB_df.Municipality[idx] = replacements.Municipality.iloc[i]\n",
    "\n",
    "\n",
    "for i in range(len(no_DST.City)):\n",
    "    idx = ~FB_df.City.apply(lambda x: re.search(pattern= no_DST.City.iloc[i], string= x)).isna()\n",
    "    FB_df.Municipality[idx] = no_DST.Municipality.iloc[i]\n",
    "\n",
    "FB_df['Upper bound'][(FB_df.City == 'Herlev')] = 4100\n",
    "FB_df['Lower bound'][(FB_df.City == 'Herlev')] = 3500\n",
    "\n",
    "\n",
    "FB_df = FB_df[~(FB_df.City == 'Herlev Kommune')]\n",
    "\n",
    "FB_isna = FB_df[FB_df.Municipality.isna()]\n",
    "\n",
    "\n",
    "FB_isna.to_csv('annotated_data/FB_with_no_Municipality.csv')\n"
   ]
  },
  {
   "cell_type": "markdown",
   "metadata": {},
   "source": []
  },
  {
   "cell_type": "code",
   "execution_count": 439,
   "metadata": {},
   "outputs": [
    {
     "name": "stderr",
     "output_type": "stream",
     "text": [
      "/tmp/ipykernel_8117/2911871897.py:7: SettingWithCopyWarning: \n",
      "A value is trying to be set on a copy of a slice from a DataFrame\n",
      "\n",
      "See the caveats in the documentation: https://pandas.pydata.org/pandas-docs/stable/user_guide/indexing.html#returning-a-view-versus-a-copy\n",
      "  FB_df.City[idx] = FB_isna.DST_name.iloc[i]\n",
      "/tmp/ipykernel_8117/2911871897.py:13: SettingWithCopyWarning: \n",
      "A value is trying to be set on a copy of a slice from a DataFrame\n",
      "\n",
      "See the caveats in the documentation: https://pandas.pydata.org/pandas-docs/stable/user_guide/indexing.html#returning-a-view-versus-a-copy\n",
      "  FB_df.Municipality[(idx & idx_reg)] = FB_isna.Municipality.iloc[i]\n"
     ]
    }
   ],
   "source": [
    "FB_isna = pd.read_csv('annotated_data/FB_with_no_Municipality_done.csv', sep = ';')\n",
    "\n",
    "\n",
    "\n",
    "for i in range(len(FB_isna.City)):\n",
    "    idx = ~FB_df.City.apply(lambda x: re.search(pattern= FB_isna.City.iloc[i], string= x)).isna()\n",
    "    FB_df.City[idx] = FB_isna.DST_name.iloc[i]\n",
    "\n",
    "\n",
    "for i in range(len(FB_isna.City)):\n",
    "    idx = ~FB_df.City.apply(lambda x: re.search(pattern= FB_isna.DST_name.iloc[i], string= x)).isna()\n",
    "    idx_reg = ~FB_df.Region.apply(lambda x: re.search(pattern= FB_isna.Region.iloc[i], string= x)).isna()\n",
    "    FB_df.Municipality[(idx & idx_reg)] = FB_isna.Municipality.iloc[i]\n",
    "\n",
    "FB_df = FB_df[~FB_df.Municipality.isna()]\n",
    "\n",
    "FB_df['year'] = 2021"
   ]
  },
  {
   "cell_type": "code",
   "execution_count": 440,
   "metadata": {},
   "outputs": [
    {
     "name": "stderr",
     "output_type": "stream",
     "text": [
      "/tmp/ipykernel_8117/2660997880.py:4: SettingWithCopyWarning: \n",
      "A value is trying to be set on a copy of a slice from a DataFrame\n",
      "\n",
      "See the caveats in the documentation: https://pandas.pydata.org/pandas-docs/stable/user_guide/indexing.html#returning-a-view-versus-a-copy\n",
      "  ev_df.Municipality[ev_df.Municipality == 'København Kommune'] = 'Københavns Kommune'\n"
     ]
    }
   ],
   "source": [
    "ev_df = pd.read_csv('Datasets/aggregated/ev_population.csv', encoding ='cp1252', skiprows=1, names = ['id', 'Municipality', 'year', 'EV_pop'])\n",
    "\n",
    "ev_df.Municipality = ev_df.Municipality.apply(lambda x: x + ' Kommune')\n",
    "ev_df.Municipality[ev_df.Municipality == 'København Kommune'] = 'Københavns Kommune'\n",
    "\n",
    "\n",
    "merged_df = FB_df.merge(test, on = ['City', 'Region', 'Municipality', 'year'], how='outer')\n",
    "\n",
    "merged_df = merged_df.merge(ev_df, on = ['Municipality', 'year'], how = 'left')"
   ]
  }
 ],
 "metadata": {
  "interpreter": {
   "hash": "a18b077e14f581b8be01659f9df486d7c1e6db2b6bbdcf2e3e6431d172e3f10c"
  },
  "kernelspec": {
   "display_name": "Python 3.8.12 64-bit ('stats': conda)",
   "language": "python",
   "name": "python3"
  },
  "language_info": {
   "codemirror_mode": {
    "name": "ipython",
    "version": 3
   },
   "file_extension": ".py",
   "mimetype": "text/x-python",
   "name": "python",
   "nbconvert_exporter": "python",
   "pygments_lexer": "ipython3",
   "version": "3.8.12"
  },
  "orig_nbformat": 4
 },
 "nbformat": 4,
 "nbformat_minor": 2
}
