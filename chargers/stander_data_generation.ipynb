{
 "cells": [
  {
   "cell_type": "code",
   "execution_count": 393,
   "id": "upset-eleven",
   "metadata": {},
   "outputs": [],
   "source": [
    "import os\n",
    "import json\n",
    "import pandas as pd\n",
    "import numpy as np\n",
    "import requests\n",
    "import re\n",
    "\n",
    "import matplotlib.pyplot as plt\n",
    "plt.style.use('seaborn-darkgrid')\n",
    "\n",
    "from collections import defaultdict\n",
    "from sklearn.neighbors import BallTree"
   ]
  },
  {
   "cell_type": "code",
   "execution_count": 365,
   "id": "angry-cologne",
   "metadata": {},
   "outputs": [],
   "source": [
    "paths = [path for path in os.listdir() if path.endswith(\".pickle\") and re.match(\"[0-9]\",path)]"
   ]
  },
  {
   "cell_type": "code",
   "execution_count": 366,
   "id": "robust-military",
   "metadata": {},
   "outputs": [],
   "source": [
    "df = pd.DataFrame([pd.read_pickle(path) for path in paths])"
   ]
  },
  {
   "cell_type": "code",
   "execution_count": 367,
   "id": "transsexual-compromise",
   "metadata": {},
   "outputs": [
    {
     "data": {
      "text/plain": [
       "1896"
      ]
     },
     "execution_count": 367,
     "metadata": {},
     "output_type": "execute_result"
    }
   ],
   "source": [
    "# Charging stations\n",
    "len(df)"
   ]
  },
  {
   "cell_type": "markdown",
   "id": "operating-albania",
   "metadata": {},
   "source": [
    "Due to the noise of the data, some of the data points are in Germany, Sweden or others. Since we are focusing on Denmark we want to filter these out"
   ]
  },
  {
   "cell_type": "code",
   "execution_count": 374,
   "id": "chinese-router",
   "metadata": {},
   "outputs": [],
   "source": [
    "df = df[-df.country_code.isin([\"DE\", \"SE\"])]"
   ]
  },
  {
   "cell_type": "markdown",
   "id": "square-socket",
   "metadata": {},
   "source": [
    "This cleared out most of them, there are still some stragglers however so we use the charging stations' adresses which are formatted nicely and therefore we can use them to identify things we do not want to include, i.e. the rest that are in charging stations that are in Germany, Sweden or El Salvador"
   ]
  },
  {
   "cell_type": "code",
   "execution_count": 375,
   "id": "third-breath",
   "metadata": {},
   "outputs": [
    {
     "name": "stdout",
     "output_type": "stream",
     "text": [
      "['Denmark' 'Danmark' 'DK' '7330 Brande' '2900 Hellerup' 'Vesterhavsvej'\n",
      " '6854' '5700 Svendborg' '7430 Ikast'\n",
      " 'Vermlandsgade 41 2300 København S Danmark'] ...\n"
     ]
    }
   ],
   "source": [
    "print(df[\"address\"].apply(lambda x: x.split(\",\")[-1].strip() if type(x) == str else \"fail\").unique()[:10], \"...\")"
   ]
  },
  {
   "cell_type": "code",
   "execution_count": 380,
   "id": "turkish-format",
   "metadata": {},
   "outputs": [
    {
     "name": "stdout",
     "output_type": "stream",
     "text": [
      "13\n"
     ]
    }
   ],
   "source": [
    "# How many of the rows are foreign charging stations\n",
    "print(len(df[df.address.str.contains(\"(Deutschland|DE|Sweden|Sverige|El Salvador|Germany)\")]))"
   ]
  },
  {
   "cell_type": "code",
   "execution_count": 381,
   "id": "undefined-webmaster",
   "metadata": {},
   "outputs": [],
   "source": [
    "df = df[-df.address.str.contains(\"(Deutschland|DE|Sweden|Sverige)\")]"
   ]
  },
  {
   "cell_type": "code",
   "execution_count": 382,
   "id": "settled-language",
   "metadata": {},
   "outputs": [],
   "source": [
    "# This has jumbled the index, so now there are gaps, we can use the id as new index\n",
    "df = df.set_index(\"id\")"
   ]
  },
  {
   "cell_type": "code",
   "execution_count": 385,
   "id": "thrown-reach",
   "metadata": {},
   "outputs": [
    {
     "data": {
      "text/html": [
       "<div>\n",
       "<style scoped>\n",
       "    .dataframe tbody tr th:only-of-type {\n",
       "        vertical-align: middle;\n",
       "    }\n",
       "\n",
       "    .dataframe tbody tr th {\n",
       "        vertical-align: top;\n",
       "    }\n",
       "\n",
       "    .dataframe thead th {\n",
       "        text-align: right;\n",
       "    }\n",
       "</style>\n",
       "<table border=\"1\" class=\"dataframe\">\n",
       "  <thead>\n",
       "    <tr style=\"text-align: right;\">\n",
       "      <th></th>\n",
       "      <th>latitude</th>\n",
       "      <th>longitude</th>\n",
       "      <th>address</th>\n",
       "      <th>created_at</th>\n",
       "      <th>municipality</th>\n",
       "      <th>city</th>\n",
       "      <th>zip_code</th>\n",
       "      <th>plugs</th>\n",
       "      <th>cost_description</th>\n",
       "      <th>description</th>\n",
       "      <th>country_code</th>\n",
       "    </tr>\n",
       "    <tr>\n",
       "      <th>id</th>\n",
       "      <th></th>\n",
       "      <th></th>\n",
       "      <th></th>\n",
       "      <th></th>\n",
       "      <th></th>\n",
       "      <th></th>\n",
       "      <th></th>\n",
       "      <th></th>\n",
       "      <th></th>\n",
       "      <th></th>\n",
       "      <th></th>\n",
       "    </tr>\n",
       "  </thead>\n",
       "  <tbody>\n",
       "    <tr>\n",
       "      <th>96548</th>\n",
       "      <td>55.494803</td>\n",
       "      <td>9.721409</td>\n",
       "      <td>Teglgårdsvej 73, 5500 Middelfart, Denmark</td>\n",
       "      <td>2016-10-01T10:37:25Z</td>\n",
       "      <td>Middelfart Municipality</td>\n",
       "      <td>Middelfart</td>\n",
       "      <td>5500</td>\n",
       "      <td>11</td>\n",
       "      <td>Free</td>\n",
       "      <td>Free for hotel guests: http://www.sinatur.dk/m...</td>\n",
       "      <td>DK</td>\n",
       "    </tr>\n",
       "    <tr>\n",
       "      <th>337709</th>\n",
       "      <td>55.653682</td>\n",
       "      <td>12.614406</td>\n",
       "      <td>Elbagade 28, 2300 København, Danmark</td>\n",
       "      <td>2021-09-09T20:26:12Z</td>\n",
       "      <td>None</td>\n",
       "      <td>København</td>\n",
       "      <td>2300</td>\n",
       "      <td>11</td>\n",
       "      <td>Clever</td>\n",
       "      <td></td>\n",
       "      <td>DK</td>\n",
       "    </tr>\n",
       "    <tr>\n",
       "      <th>91943</th>\n",
       "      <td>56.292127</td>\n",
       "      <td>10.444662</td>\n",
       "      <td>Præstekravevej 46, 8410 Rønde, Denmark</td>\n",
       "      <td>2016-07-25T14:01:47Z</td>\n",
       "      <td>Syddjurs Municipality</td>\n",
       "      <td>Rønde</td>\n",
       "      <td>8410</td>\n",
       "      <td>11</td>\n",
       "      <td></td>\n",
       "      <td>2x Red CEE Free for hotel guests\\nTesla Destin...</td>\n",
       "      <td>DK</td>\n",
       "    </tr>\n",
       "    <tr>\n",
       "      <th>70961</th>\n",
       "      <td>55.215571</td>\n",
       "      <td>9.372034</td>\n",
       "      <td>Sønderjyske Motorvej 684, 6500 Vojens, Denmark</td>\n",
       "      <td>2015-09-12T00:45:42Z</td>\n",
       "      <td>Haderslev Municipality</td>\n",
       "      <td>Vojens</td>\n",
       "      <td>6500</td>\n",
       "      <td>11</td>\n",
       "      <td>clever.dk</td>\n",
       "      <td>Clever 50 kW DC, 43 kW aC</td>\n",
       "      <td>DK</td>\n",
       "    </tr>\n",
       "    <tr>\n",
       "      <th>81790</th>\n",
       "      <td>55.694021</td>\n",
       "      <td>12.544642</td>\n",
       "      <td>Husumgade 32, 2200 København N, Denmark</td>\n",
       "      <td>2016-03-02T11:14:06Z</td>\n",
       "      <td>København</td>\n",
       "      <td>København</td>\n",
       "      <td>2200</td>\n",
       "      <td>11</td>\n",
       "      <td></td>\n",
       "      <td>Charging Station Virta</td>\n",
       "      <td>DK</td>\n",
       "    </tr>\n",
       "  </tbody>\n",
       "</table>\n",
       "</div>"
      ],
      "text/plain": [
       "         latitude  longitude                                         address  \\\n",
       "id                                                                             \n",
       "96548   55.494803   9.721409       Teglgårdsvej 73, 5500 Middelfart, Denmark   \n",
       "337709  55.653682  12.614406            Elbagade 28, 2300 København, Danmark   \n",
       "91943   56.292127  10.444662          Præstekravevej 46, 8410 Rønde, Denmark   \n",
       "70961   55.215571   9.372034  Sønderjyske Motorvej 684, 6500 Vojens, Denmark   \n",
       "81790   55.694021  12.544642         Husumgade 32, 2200 København N, Denmark   \n",
       "\n",
       "                  created_at             municipality        city zip_code  \\\n",
       "id                                                                           \n",
       "96548   2016-10-01T10:37:25Z  Middelfart Municipality  Middelfart     5500   \n",
       "337709  2021-09-09T20:26:12Z                     None   København     2300   \n",
       "91943   2016-07-25T14:01:47Z    Syddjurs Municipality       Rønde     8410   \n",
       "70961   2015-09-12T00:45:42Z   Haderslev Municipality      Vojens     6500   \n",
       "81790   2016-03-02T11:14:06Z                København   København     2200   \n",
       "\n",
       "        plugs cost_description  \\\n",
       "id                               \n",
       "96548      11             Free   \n",
       "337709     11           Clever   \n",
       "91943      11                    \n",
       "70961      11        clever.dk   \n",
       "81790      11                    \n",
       "\n",
       "                                              description country_code  \n",
       "id                                                                      \n",
       "96548   Free for hotel guests: http://www.sinatur.dk/m...           DK  \n",
       "337709                                                              DK  \n",
       "91943   2x Red CEE Free for hotel guests\\nTesla Destin...           DK  \n",
       "70961                           Clever 50 kW DC, 43 kW aC           DK  \n",
       "81790                              Charging Station Virta           DK  "
      ]
     },
     "execution_count": 385,
     "metadata": {},
     "output_type": "execute_result"
    }
   ],
   "source": [
    "df.head()"
   ]
  },
  {
   "cell_type": "code",
   "execution_count": 386,
   "id": "knowing-lover",
   "metadata": {},
   "outputs": [],
   "source": [
    "# We don't want to query the API more than we have to, so we take the 7 nearest neighbors of each charging stations to minimize the search space.\n",
    "distances, knn = BallTree(df.loc[:,[\"latitude\",\"longitude\"]]).query(df.loc[:,[\"latitude\",\"longitude\"]], 8)"
   ]
  },
  {
   "cell_type": "code",
   "execution_count": 357,
   "id": "stretch-domestic",
   "metadata": {},
   "outputs": [],
   "source": [
    "with open(\"API_KEY\", \"r\") as file:\n",
    "    auth = file.readline().strip()"
   ]
  },
  {
   "cell_type": "code",
   "execution_count": 30,
   "id": "banned-participant",
   "metadata": {},
   "outputs": [],
   "source": [
    "#test = requests.get(f\"https://router.hereapi.com/v8/routes?apiKey={auth}&transportMode=car&origin=52.5308,13.3847&destination=52.5323,13.3789&return=summary\")"
   ]
  },
  {
   "cell_type": "code",
   "execution_count": 16,
   "id": "floral-briefing",
   "metadata": {},
   "outputs": [
    {
     "name": "stdout",
     "output_type": "stream",
     "text": [
      "200 responses done...\n",
      "400 responses done...\n",
      "600 responses done...\n",
      "800 responses done...\n",
      "1000 responses done...\n",
      "1200 responses done...\n",
      "1400 responses done...\n",
      "1600 responses done...\n",
      "1800 responses done...\n"
     ]
    }
   ],
   "source": [
    "if \"meters.pickle\" in os.listdir() and \"backup.pickle\" in os.listdir():\n",
    "    meters = pd.read_pickle(\"meters.pickle\")\n",
    "    backup = pd.read_pickle(\"backup.pickle\")\n",
    "else:\n",
    "    meters = defaultdict() # placeholder list to put to df\n",
    "    backup = defaultdict(list) # backup of all the requests\n",
    "    for i, neighbors_of_point in enumerate(knn):\n",
    "        spot = df.iloc[neighbors_of_point[0]].name\n",
    "        orig_lat = df.iloc[neighbors_of_point[0]].latitude\n",
    "        orig_lon = df.iloc[neighbors_of_point[0]].longitude\n",
    "        meters[spot] = 1000000000\n",
    "        for neighbor in neighbors_of_point[1:]:\n",
    "            dest_lat = df.iloc[neighbor,:].latitude\n",
    "            dest_lon = df.iloc[neighbor,:].longitude\n",
    "            query = requests.get(f\"https://router.hereapi.com/v8/routes?apiKey={auth}&transportMode=car&origin={orig_lat},{orig_lon}&destination={dest_lat},{dest_lon}&return=travelSummary\")\n",
    "            response = query.json()\n",
    "            backup[spot].append(response)\n",
    "            meter = response[\"routes\"][0][\"sections\"][0][\"travelSummary\"][\"length\"]\n",
    "            if meters[spot] > meter:\n",
    "                meters[spot] = meter\n",
    "        if len(backup) % 200 == 0:\n",
    "            print(f\"{len(backup)} responses done...\")"
   ]
  },
  {
   "cell_type": "code",
   "execution_count": 20,
   "id": "substantial-genesis",
   "metadata": {},
   "outputs": [
    {
     "data": {
      "text/plain": [
       "Int64Index([344161, 309578, 249382, 295971, 35794], dtype='int64', name='id')"
      ]
     },
     "execution_count": 20,
     "metadata": {},
     "output_type": "execute_result"
    }
   ],
   "source": [
    "# For some indices here wasnt able to find anything\n",
    "df.loc[df.index.isin([idx for idx in df.index if idx not in meters])].index"
   ]
  },
  {
   "cell_type": "code",
   "execution_count": 25,
   "id": "existing-stadium",
   "metadata": {},
   "outputs": [],
   "source": [
    "for NA in [idx for idx in df.index if idx not in meters]:\n",
    "    meters[NA] = None"
   ]
  },
  {
   "cell_type": "code",
   "execution_count": 27,
   "id": "addressed-dealer",
   "metadata": {},
   "outputs": [],
   "source": [
    "new_one[\"closest_in_meters\"] = meters"
   ]
  },
  {
   "cell_type": "code",
   "execution_count": 429,
   "id": "athletic-secondary",
   "metadata": {},
   "outputs": [],
   "source": [
    "new_one[\"closest_in_meters\"] = new_one[\"closest_in_meters\"].astype(float)"
   ]
  },
  {
   "cell_type": "code",
   "execution_count": 229,
   "id": "ranking-sally",
   "metadata": {},
   "outputs": [],
   "source": [
    "#hmm\n",
    "rev_coord = lambda x: requests.get(\n",
    "    f\"https://revgeocode.search.hereapi.com/v1/revgeocode?at={x.latitude},{x.longitude}&apiKey={auth}\"\n",
    ").json()\n",
    "reversed_coord = new_one.loc[:,[\"latitude\", \"longitude\"]].apply(rev_coord, axis = 1)"
   ]
  },
  {
   "cell_type": "code",
   "execution_count": null,
   "id": "pleased-investing",
   "metadata": {},
   "outputs": [],
   "source": [
    "# county list to sanity check\n",
    "municipalities = [\"København\",\"Aarhus\",\"Aalborg\",\"Odense\",\"Vejle\",\"Esbjerg\",\"Frederiksberg\",\"Randers\",\"Viborg\",\"Silkeborg\",\"Kolding\",\"Horsens\",\"Herning\",\"Roskilde\",\"Næstved\",\"Slagelse\",\"Gentofte\",\"Sønderborg\",\"Holbæk\",\"Gladsaxe\",\"Hjørring\",\"Skanderborg\",\"Helsingør\",\"Køge\",\"Guldborgsund\",\"Frederikshavn\",\"Holstebro\",\"Svendborg\",\"Aabenraa\",\"Rudersdal\",\"Lyngby-Taarbæk\",\"Ringkøbing-Skjern\",\"Haderslev\",\"Hvidovre\",\"Høje Taastrup\",\"Faaborg-Midtfyn\",\"Hillerød\",\"Fredericia\",\"Greve\",\"Varde\",\"Ballerup\",\"Kalundborg\",\"Favrskov\",\"Hedensted\",\"Frederikssund\",\"Skive\",\"Vordingborg\",\"Egedal\",\"Syddjurs\",\"Thisted\",\"Vejen\",\"Tårnby\",\"Mariagerfjord\",\"Ikast-Brande\",\"Rødovre\",\"Furesø\",\"Fredensborg\",\"Gribskov\",\"Assens\",\"Lolland\",\"Bornholm\", \"Middelfart\",\"Jammerbugt\",\"Tønder\",\"Norddjurs\",\"Faxe\",\"Vesthimmerlands\",\"Brønderslev\",\"Brøndby\",\"Ringsted\",\"Odsherred\",\"Nyborg\",\"Halsnæs\",\"Rebild\",\"Sorø\",\"Nordfyns\",\"Herlev\",\"Lejre\",\"Albertslund\",\"Billund\",\"Allerød\",\"Hørsholm\",\"Kerteminde\",\"Solrød\",\"Odder\",\"Ishøj\",\"Stevns\",\"Glostrup\",\"Struer\",\"Morsø\",\"Lemvig\",\"Vallensbæk\",\"Dragør\",\"Langeland\",\"Ærø\",\"Samsø\",\"Fanø\",\"Læsø\"]"
   ]
  },
  {
   "cell_type": "code",
   "execution_count": 255,
   "id": "failing-registration",
   "metadata": {},
   "outputs": [],
   "source": [
    "def get_counties(reversed_coord):\n",
    "    county = reversed_coord[\"items\"][0][\"address\"][\"county\"]\n",
    "    if county == \"Lyngby Tårbæk\":\n",
    "        county = \"Lyngby-Taarbæk\"\n",
    "    if county in municipalities:\n",
    "        return county\n",
    "    else:\n",
    "        print(county)\n",
    "        raise ValueError(\"Oops\")"
   ]
  },
  {
   "cell_type": "code",
   "execution_count": 261,
   "id": "essential-chance",
   "metadata": {},
   "outputs": [
    {
     "name": "stderr",
     "output_type": "stream",
     "text": [
      "<ipython-input-261-d357cb0605b2>:1: SettingWithCopyWarning: \n",
      "A value is trying to be set on a copy of a slice from a DataFrame.\n",
      "Try using .loc[row_indexer,col_indexer] = value instead\n",
      "\n",
      "See the caveats in the documentation: https://pandas.pydata.org/pandas-docs/stable/user_guide/indexing.html#returning-a-view-versus-a-copy\n",
      "  new_one[\"municipality\"] = reversed_coord.apply(get_counties)\n"
     ]
    }
   ],
   "source": [
    "new_one[\"municipality\"] = reversed_coord.apply(get_counties)"
   ]
  },
  {
   "cell_type": "code",
   "execution_count": 280,
   "id": "special-burke",
   "metadata": {},
   "outputs": [],
   "source": [
    "# Unable to find anything on the here api for these 5 indices\n",
    "new_one = new_one[~new_one.index.isin([62736, 321501, 88915, 125243, 321570])]"
   ]
  },
  {
   "cell_type": "code",
   "execution_count": 281,
   "id": "competitive-hearing",
   "metadata": {},
   "outputs": [
    {
     "name": "stderr",
     "output_type": "stream",
     "text": [
      "<ipython-input-281-4447859d3bc6>:1: SettingWithCopyWarning: \n",
      "A value is trying to be set on a copy of a slice from a DataFrame.\n",
      "Try using .loc[row_indexer,col_indexer] = value instead\n",
      "\n",
      "See the caveats in the documentation: https://pandas.pydata.org/pandas-docs/stable/user_guide/indexing.html#returning-a-view-versus-a-copy\n",
      "  new_one[\"year\"] = pd.to_datetime(new_one.created_at).dt.year\n"
     ]
    }
   ],
   "source": [
    "new_one[\"year\"] = pd.to_datetime(new_one.created_at).dt.year"
   ]
  },
  {
   "cell_type": "code",
   "execution_count": 334,
   "id": "provincial-speaker",
   "metadata": {},
   "outputs": [
    {
     "name": "stderr",
     "output_type": "stream",
     "text": [
      "/usr/local/lib/python3.9/site-packages/pandas/core/indexing.py:1720: SettingWithCopyWarning: \n",
      "A value is trying to be set on a copy of a slice from a DataFrame.\n",
      "Try using .loc[row_indexer,col_indexer] = value instead\n",
      "\n",
      "See the caveats in the documentation: https://pandas.pydata.org/pandas-docs/stable/user_guide/indexing.html#returning-a-view-versus-a-copy\n",
      "  self._setitem_single_column(loc, value, pi)\n"
     ]
    }
   ],
   "source": [
    "# Some of the addresses from Plugshare were badly defined, here.api has more precise addresses, we augment the data here\n",
    "for key, x in new_one.address.items():\n",
    "    if len(x.split(\",\")) < 2:\n",
    "        new_one.loc[key, \"address\"] = reversed_coord[key][\"items\"][0][\"address\"][\"label\"]"
   ]
  },
  {
   "cell_type": "code",
   "execution_count": 421,
   "id": "australian-taxation",
   "metadata": {},
   "outputs": [],
   "source": [
    "columns = list(new_one)\n",
    "columns = columns[:3] + columns[-1:] + columns[3:-1]\n",
    "new_one = new_one[columns]"
   ]
  },
  {
   "cell_type": "code",
   "execution_count": 422,
   "id": "subject-edition",
   "metadata": {},
   "outputs": [],
   "source": [
    "new_one.to_pickle(\"standers.pickle\")"
   ]
  },
  {
   "cell_type": "markdown",
   "id": "lined-fetish",
   "metadata": {},
   "source": [
    "## Visualization"
   ]
  },
  {
   "cell_type": "code",
   "execution_count": 417,
   "id": "future-marshall",
   "metadata": {},
   "outputs": [
    {
     "data": {
      "image/png": "[encoded data removed]",
      "text/plain": [
       "<Figure size 432x288 with 1 Axes>"
      ]
     },
     "metadata": {},
     "output_type": "display_data"
    }
   ],
   "source": [
    "by_year = new_one.groupby(\"year\").size()\n",
    "plt.bar(by_year.keys(), by_year.values)\n",
    "plt.xticks(ticks=by_year.keys(), labels=by_year.keys())\n",
    "plt.show()"
   ]
  },
  {
   "cell_type": "code",
   "execution_count": 462,
   "id": "offensive-adrian",
   "metadata": {},
   "outputs": [
    {
     "name": "stderr",
     "output_type": "stream",
     "text": [
      "<ipython-input-462-ac961bb76830>:8: UserWarning: Matplotlib is currently using module://ipykernel.pylab.backend_inline, which is a non-GUI backend, so cannot show the figure.\n",
      "  fig.show()\n"
     ]
    },
    {
     "data": {
      "image/png": "[encoded data removed]",
      "text/plain": [
       "<Figure size 1440x720 with 1 Axes>"
      ]
     },
     "metadata": {},
     "output_type": "display_data"
    }
   ],
   "source": [
    "avg_closest = new_one.groupby(\"municipality\").mean()[\"closest_in_meters\"].sort_values(ascending=False)\n",
    "\n",
    "fig, ax = plt.subplots(figsize = (20,10))\n",
    "ax.bar(avg_closest.keys(), avg_closest.values)\n",
    "ax.set_xticks(ticks=range(len(avg_closest.keys())))\n",
    "ax.set_xticklabels(labels=avg_closest.keys(), rotation=90)\n",
    "plt.tight_layout()\n",
    "fig.show()"
   ]
  },
  {
   "cell_type": "markdown",
   "id": "measured-balance",
   "metadata": {},
   "source": [
    "## Verification"
   ]
  },
  {
   "cell_type": "code",
   "execution_count": 395,
   "id": "elegant-triangle",
   "metadata": {},
   "outputs": [],
   "source": [
    "# Geo measurement function which can be used as a sanity check\n",
    "def measure(lat_lon_1, lat_lon_2): \n",
    "    lat1, lon1 = lat_lon_1\n",
    "    lat2, lon2 = lat_lon_2\n",
    "    R = 6378.137\n",
    "    dLat = lat2 * np.pi / 180 - lat1 * np.pi / 180\n",
    "    dLon = lon2 * np.pi / 180 - lon1 * np.pi / 180\n",
    "    a = np.sin(dLat/2) * np.sin(dLat/2) + np.cos(lat1 * np.pi / 180) * np.cos(lat2 * np.pi / 180) * np.sin(dLon/2) * np.sin(dLon/2)\n",
    "    c = 2 * np.arctan2(np.sqrt(a), np.sqrt(1-a))\n",
    "    d = R * c\n",
    "    return d * 1000"
   ]
  },
  {
   "cell_type": "code",
   "execution_count": 394,
   "id": "level-basketball",
   "metadata": {},
   "outputs": [
    {
     "data": {
      "text/plain": [
       "'Teglgårdsvej 73, 5500 Middelfart, Denmark is 179289.89 meters from Ægirsgade 65A, 2200 københavn - coordinately'"
      ]
     },
     "execution_count": 394,
     "metadata": {},
     "output_type": "execute_result"
    }
   ],
   "source": [
    "# to be used something like this\n",
    "f\"{df.iloc[0].address} is {measure(df.iloc[0].values[:2], df.iloc[1378].values[:2]):.2f} meters from {df.iloc[1378].address} - coordinately\""
   ]
  }
 ],
 "metadata": {
  "kernelspec": {
   "display_name": "Python 3",
   "language": "python",
   "name": "python3"
  },
  "language_info": {
   "codemirror_mode": {
    "name": "ipython",
    "version": 3
   },
   "file_extension": ".py",
   "mimetype": "text/x-python",
   "name": "python",
   "nbconvert_exporter": "python",
   "pygments_lexer": "ipython3",
   "version": "3.9.8"
  }
 },
 "nbformat": 4,
 "nbformat_minor": 5
}
