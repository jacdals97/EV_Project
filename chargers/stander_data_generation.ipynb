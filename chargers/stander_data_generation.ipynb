{
 "cells": [
  {
   "cell_type": "code",
   "execution_count": 6,
   "id": "upset-eleven",
   "metadata": {},
   "outputs": [],
   "source": [
    "import os\n",
    "import json\n",
    "import pandas as pd\n",
    "import numpy as np\n",
    "import requests\n",
    "import re\n",
    "\n",
    "import matplotlib.pyplot as plt\n",
    "plt.style.use('seaborn-darkgrid')\n",
    "\n",
    "from collections import defaultdict\n",
    "from sklearn.neighbors import BallTree"
   ]
  },
  {
   "cell_type": "code",
   "execution_count": 7,
   "id": "angry-cologne",
   "metadata": {},
   "outputs": [],
   "source": [
    "paths = [path for path in os.listdir(\"raw_data\") if path.endswith(\".pickle\") and re.match(\"[0-9]\",path)]"
   ]
  },
  {
   "cell_type": "code",
   "execution_count": 8,
   "id": "robust-military",
   "metadata": {},
   "outputs": [],
   "source": [
    "df = pd.DataFrame([pd.read_pickle(\"raw_data/\" + path) for path in paths])"
   ]
  },
  {
   "cell_type": "code",
   "execution_count": 9,
   "id": "transsexual-compromise",
   "metadata": {},
   "outputs": [
    {
     "data": {
      "text/plain": [
       "1972"
      ]
     },
     "execution_count": 9,
     "metadata": {},
     "output_type": "execute_result"
    }
   ],
   "source": [
    "# Charging stations\n",
    "len(df)"
   ]
  },
  {
   "cell_type": "markdown",
   "id": "adopted-infrared",
   "metadata": {},
   "source": [
    "Due to the noise of the data, some of the data points are in Germany, Sweden or others. Since we are focusing on Denmark we want to filter these out"
   ]
  },
  {
   "cell_type": "code",
   "execution_count": 10,
   "id": "accredited-italy",
   "metadata": {},
   "outputs": [],
   "source": [
    "df = df[-df.country_code.isin([\"DE\", \"SE\"])]"
   ]
  },
  {
   "cell_type": "markdown",
   "id": "square-socket",
   "metadata": {},
   "source": [
    "This cleared out most of them, there are still some stragglers however so we use the charging stations' adresses which are formatted nicely and therefore we can use them to identify things we do not want to include, i.e. the rest that are in charging stations that are in Germany, Sweden or El Salvador"
   ]
  },
  {
   "cell_type": "code",
   "execution_count": 11,
   "id": "third-breath",
   "metadata": {},
   "outputs": [
    {
     "name": "stdout",
     "output_type": "stream",
     "text": [
      "['Denmark' 'DK' 'Lindegårdsdalen 2 4500 Nykøbings sj' 'Danmark'\n",
      " '4990 Sakskøbing' '7330 Brande' '2200 København N'\n",
      " 'Nordre Ringvej 6A 6950 Ringkøbing' '2900 Hellerup' '6920 Videbæk'] ...\n"
     ]
    }
   ],
   "source": [
    "print(df[\"address\"].apply(lambda x: x.split(\",\")[-1].strip() if type(x) == str else \"fail\").unique()[:10], \"...\")"
   ]
  },
  {
   "cell_type": "code",
   "execution_count": 13,
   "id": "turkish-format",
   "metadata": {},
   "outputs": [
    {
     "name": "stdout",
     "output_type": "stream",
     "text": [
      "13\n"
     ]
    },
    {
     "name": "stderr",
     "output_type": "stream",
     "text": [
      "/var/folders/xc/rd97lqhs6yq7j48brsn0jf3r0000gn/T/ipykernel_22228/2737106728.py:2: UserWarning: This pattern has match groups. To actually get the groups, use str.extract.\n",
      "  print(len(df[df.address.str.contains(\"(Deutschland|DE|Sweden|Sverige|El Salvador|Germany|Ikast|Brand)\")]))\n"
     ]
    }
   ],
   "source": [
    "# How many of the remaining rows are still foreign charging stations\n",
    "print(len(df[df.address.str.contains(\"(Deutschland|DE|Sweden|Sverige|El Salvador|Germany)\")]))"
   ]
  },
  {
   "cell_type": "code",
   "execution_count": 14,
   "id": "undefined-webmaster",
   "metadata": {},
   "outputs": [
    {
     "name": "stderr",
     "output_type": "stream",
     "text": [
      "/var/folders/xc/rd97lqhs6yq7j48brsn0jf3r0000gn/T/ipykernel_22228/2279563797.py:1: UserWarning: This pattern has match groups. To actually get the groups, use str.extract.\n",
      "  df = df[-df.address.str.contains(\"(Deutschland|DE|Sweden|Sverige)\")]\n"
     ]
    }
   ],
   "source": [
    "df = df[-df.address.str.contains(\"(Deutschland|DE|Sweden|Sverige)\")]"
   ]
  },
  {
   "cell_type": "code",
   "execution_count": 15,
   "id": "settled-language",
   "metadata": {},
   "outputs": [],
   "source": [
    "# This has jumbled the index, so now there are gaps, we can use the id as new index\n",
    "df = df.set_index(\"id\")"
   ]
  },
  {
   "cell_type": "code",
   "execution_count": 16,
   "id": "thrown-reach",
   "metadata": {},
   "outputs": [
    {
     "data": {
      "text/html": [
       "<div>\n",
       "<style scoped>\n",
       "    .dataframe tbody tr th:only-of-type {\n",
       "        vertical-align: middle;\n",
       "    }\n",
       "\n",
       "    .dataframe tbody tr th {\n",
       "        vertical-align: top;\n",
       "    }\n",
       "\n",
       "    .dataframe thead th {\n",
       "        text-align: right;\n",
       "    }\n",
       "</style>\n",
       "<table border=\"1\" class=\"dataframe\">\n",
       "  <thead>\n",
       "    <tr style=\"text-align: right;\">\n",
       "      <th></th>\n",
       "      <th>latitude</th>\n",
       "      <th>longitude</th>\n",
       "      <th>address</th>\n",
       "      <th>created_at</th>\n",
       "      <th>municipality</th>\n",
       "      <th>city</th>\n",
       "      <th>zip_code</th>\n",
       "      <th>plugs</th>\n",
       "      <th>cost_description</th>\n",
       "      <th>description</th>\n",
       "      <th>country_code</th>\n",
       "    </tr>\n",
       "    <tr>\n",
       "      <th>id</th>\n",
       "      <th></th>\n",
       "      <th></th>\n",
       "      <th></th>\n",
       "      <th></th>\n",
       "      <th></th>\n",
       "      <th></th>\n",
       "      <th></th>\n",
       "      <th></th>\n",
       "      <th></th>\n",
       "      <th></th>\n",
       "      <th></th>\n",
       "    </tr>\n",
       "  </thead>\n",
       "  <tbody>\n",
       "    <tr>\n",
       "      <th>96548</th>\n",
       "      <td>55.494803</td>\n",
       "      <td>9.721409</td>\n",
       "      <td>Teglgårdsvej 73, 5500 Middelfart, Denmark</td>\n",
       "      <td>2016-10-01T10:37:25Z</td>\n",
       "      <td>Middelfart Municipality</td>\n",
       "      <td>Middelfart</td>\n",
       "      <td>5500</td>\n",
       "      <td>2</td>\n",
       "      <td>Free</td>\n",
       "      <td>Free for hotel guests: http://www.sinatur.dk/m...</td>\n",
       "      <td>DK</td>\n",
       "    </tr>\n",
       "    <tr>\n",
       "      <th>347220</th>\n",
       "      <td>55.931031</td>\n",
       "      <td>12.265286</td>\n",
       "      <td>Bragesvej 4, 3400 Hillerød, Denmark</td>\n",
       "      <td>2021-11-10T17:37:53Z</td>\n",
       "      <td>None</td>\n",
       "      <td>Hillerød</td>\n",
       "      <td>3400</td>\n",
       "      <td>8</td>\n",
       "      <td></td>\n",
       "      <td></td>\n",
       "      <td>DK</td>\n",
       "    </tr>\n",
       "    <tr>\n",
       "      <th>349538</th>\n",
       "      <td>55.360006</td>\n",
       "      <td>10.666376</td>\n",
       "      <td>Lundsager 10, 5540 Ullerslev, Denmark</td>\n",
       "      <td>2021-11-25T14:27:35Z</td>\n",
       "      <td>None</td>\n",
       "      <td>Ullerslev</td>\n",
       "      <td>5540</td>\n",
       "      <td>4</td>\n",
       "      <td>3,5 kr pr. kWh. MobilePay</td>\n",
       "      <td>2 stk. ladestandere med to udtag hver fra Base...</td>\n",
       "      <td>DK</td>\n",
       "    </tr>\n",
       "    <tr>\n",
       "      <th>293418</th>\n",
       "      <td>55.627240</td>\n",
       "      <td>12.576800</td>\n",
       "      <td>Ørestads Boulevard 114, København S, None, DK</td>\n",
       "      <td>2021-01-05T01:22:16Z</td>\n",
       "      <td>None</td>\n",
       "      <td>København</td>\n",
       "      <td>2300</td>\n",
       "      <td>6</td>\n",
       "      <td></td>\n",
       "      <td></td>\n",
       "      <td>DK</td>\n",
       "    </tr>\n",
       "    <tr>\n",
       "      <th>292441</th>\n",
       "      <td>55.752966</td>\n",
       "      <td>12.299143</td>\n",
       "      <td>Måløv byvej 200, Måløv, 2760, DK</td>\n",
       "      <td>2021-01-05T01:06:45Z</td>\n",
       "      <td>None</td>\n",
       "      <td>Måløv</td>\n",
       "      <td>2760</td>\n",
       "      <td>17</td>\n",
       "      <td></td>\n",
       "      <td></td>\n",
       "      <td>DK</td>\n",
       "    </tr>\n",
       "  </tbody>\n",
       "</table>\n",
       "</div>"
      ],
      "text/plain": [
       "         latitude  longitude                                        address  \\\n",
       "id                                                                            \n",
       "96548   55.494803   9.721409      Teglgårdsvej 73, 5500 Middelfart, Denmark   \n",
       "347220  55.931031  12.265286            Bragesvej 4, 3400 Hillerød, Denmark   \n",
       "349538  55.360006  10.666376          Lundsager 10, 5540 Ullerslev, Denmark   \n",
       "293418  55.627240  12.576800  Ørestads Boulevard 114, København S, None, DK   \n",
       "292441  55.752966  12.299143               Måløv byvej 200, Måløv, 2760, DK   \n",
       "\n",
       "                  created_at             municipality        city zip_code  \\\n",
       "id                                                                           \n",
       "96548   2016-10-01T10:37:25Z  Middelfart Municipality  Middelfart     5500   \n",
       "347220  2021-11-10T17:37:53Z                     None    Hillerød     3400   \n",
       "349538  2021-11-25T14:27:35Z                     None   Ullerslev     5540   \n",
       "293418  2021-01-05T01:22:16Z                     None   København     2300   \n",
       "292441  2021-01-05T01:06:45Z                     None       Måløv     2760   \n",
       "\n",
       "        plugs           cost_description  \\\n",
       "id                                         \n",
       "96548       2                       Free   \n",
       "347220      8                              \n",
       "349538      4  3,5 kr pr. kWh. MobilePay   \n",
       "293418      6                              \n",
       "292441     17                              \n",
       "\n",
       "                                              description country_code  \n",
       "id                                                                      \n",
       "96548   Free for hotel guests: http://www.sinatur.dk/m...           DK  \n",
       "347220                                                              DK  \n",
       "349538  2 stk. ladestandere med to udtag hver fra Base...           DK  \n",
       "293418                                                              DK  \n",
       "292441                                                              DK  "
      ]
     },
     "execution_count": 16,
     "metadata": {},
     "output_type": "execute_result"
    }
   ],
   "source": [
    "df.head()"
   ]
  },
  {
   "cell_type": "markdown",
   "id": "d6d1aca1",
   "metadata": {},
   "source": [
    "We don't want to query the API more than we have to, so we take the 7 nearest neighbors (8 including self) of each charging stations to minimize the search space."
   ]
  },
  {
   "cell_type": "code",
   "execution_count": 25,
   "id": "9275c818",
   "metadata": {},
   "outputs": [
    {
     "data": {
      "text/html": [
       "<div>\n",
       "<style scoped>\n",
       "    .dataframe tbody tr th:only-of-type {\n",
       "        vertical-align: middle;\n",
       "    }\n",
       "\n",
       "    .dataframe tbody tr th {\n",
       "        vertical-align: top;\n",
       "    }\n",
       "\n",
       "    .dataframe thead th {\n",
       "        text-align: right;\n",
       "    }\n",
       "</style>\n",
       "<table border=\"1\" class=\"dataframe\">\n",
       "  <thead>\n",
       "    <tr style=\"text-align: right;\">\n",
       "      <th></th>\n",
       "      <th>latitude</th>\n",
       "      <th>longitude</th>\n",
       "    </tr>\n",
       "    <tr>\n",
       "      <th>id</th>\n",
       "      <th></th>\n",
       "      <th></th>\n",
       "    </tr>\n",
       "  </thead>\n",
       "  <tbody>\n",
       "    <tr>\n",
       "      <th>96548</th>\n",
       "      <td>55.494803</td>\n",
       "      <td>9.721409</td>\n",
       "    </tr>\n",
       "    <tr>\n",
       "      <th>347220</th>\n",
       "      <td>55.931031</td>\n",
       "      <td>12.265286</td>\n",
       "    </tr>\n",
       "    <tr>\n",
       "      <th>349538</th>\n",
       "      <td>55.360006</td>\n",
       "      <td>10.666376</td>\n",
       "    </tr>\n",
       "    <tr>\n",
       "      <th>293418</th>\n",
       "      <td>55.627240</td>\n",
       "      <td>12.576800</td>\n",
       "    </tr>\n",
       "    <tr>\n",
       "      <th>292441</th>\n",
       "      <td>55.752966</td>\n",
       "      <td>12.299143</td>\n",
       "    </tr>\n",
       "    <tr>\n",
       "      <th>...</th>\n",
       "      <td>...</td>\n",
       "      <td>...</td>\n",
       "    </tr>\n",
       "    <tr>\n",
       "      <th>347485</th>\n",
       "      <td>56.154367</td>\n",
       "      <td>10.208775</td>\n",
       "    </tr>\n",
       "    <tr>\n",
       "      <th>88915</th>\n",
       "      <td>55.687290</td>\n",
       "      <td>12.523956</td>\n",
       "    </tr>\n",
       "    <tr>\n",
       "      <th>125243</th>\n",
       "      <td>57.486636</td>\n",
       "      <td>10.337960</td>\n",
       "    </tr>\n",
       "    <tr>\n",
       "      <th>181595</th>\n",
       "      <td>56.873930</td>\n",
       "      <td>9.396244</td>\n",
       "    </tr>\n",
       "    <tr>\n",
       "      <th>350529</th>\n",
       "      <td>55.690955</td>\n",
       "      <td>12.535433</td>\n",
       "    </tr>\n",
       "  </tbody>\n",
       "</table>\n",
       "<p>1819 rows × 2 columns</p>\n",
       "</div>"
      ],
      "text/plain": [
       "         latitude  longitude\n",
       "id                          \n",
       "96548   55.494803   9.721409\n",
       "347220  55.931031  12.265286\n",
       "349538  55.360006  10.666376\n",
       "293418  55.627240  12.576800\n",
       "292441  55.752966  12.299143\n",
       "...           ...        ...\n",
       "347485  56.154367  10.208775\n",
       "88915   55.687290  12.523956\n",
       "125243  57.486636  10.337960\n",
       "181595  56.873930   9.396244\n",
       "350529  55.690955  12.535433\n",
       "\n",
       "[1819 rows x 2 columns]"
      ]
     },
     "execution_count": 25,
     "metadata": {},
     "output_type": "execute_result"
    }
   ],
   "source": [
    "df.loc[:,[\"latitude\",\"longitude\"]]"
   ]
  },
  {
   "cell_type": "code",
   "execution_count": 50,
   "id": "knowing-lover",
   "metadata": {},
   "outputs": [],
   "source": [
    "distances, knn = BallTree(df.loc[:,[\"latitude\",\"longitude\"]]).query(df.loc[:,[\"latitude\",\"longitude\"]], 8)"
   ]
  },
  {
   "cell_type": "code",
   "execution_count": 51,
   "id": "subject-legislature",
   "metadata": {},
   "outputs": [],
   "source": [
    "with open(\"API_KEY\", \"r\") as file:\n",
    "    auth = file.readline().strip()"
   ]
  },
  {
   "cell_type": "code",
   "execution_count": 52,
   "id": "banned-participant",
   "metadata": {},
   "outputs": [],
   "source": [
    "#test = requests.get(f\"https://router.hereapi.com/v8/routes?apiKey={auth}&transportMode=car&origin=52.5308,13.3847&destination=52.5323,13.3789&return=summary\")"
   ]
  },
  {
   "cell_type": "code",
   "execution_count": 53,
   "id": "floral-briefing",
   "metadata": {},
   "outputs": [
    {
     "name": "stdout",
     "output_type": "stream",
     "text": [
      "200 responses done...\n",
      "400 responses done...\n",
      "600 responses done...\n",
      "800 responses done...\n",
      "1000 responses done...\n",
      "1200 responses done...\n",
      "1400 responses done...\n",
      "1600 responses done...\n",
      "1800 responses done...\n"
     ]
    }
   ],
   "source": [
    "if \"meters.pickle\" in os.listdir() and \"backup.pickle\" in os.listdir():\n",
    "    meters = pd.read_pickle(\"meters.pickle\")\n",
    "    backup = pd.read_pickle(\"backup.pickle\")\n",
    "else:\n",
    "    meters = defaultdict() # placeholder list to put to df\n",
    "    backup = defaultdict(list) # backup of all the requests\n",
    "    for i, neighbors_of_point in enumerate(knn):\n",
    "        spot = df.iloc[neighbors_of_point[0]].name\n",
    "        orig_lat = df.iloc[neighbors_of_point[0]].latitude\n",
    "        orig_lon = df.iloc[neighbors_of_point[0]].longitude\n",
    "        meters[spot] = 1000000000\n",
    "        for neighbor in neighbors_of_point[1:]:\n",
    "            dest_lat = df.iloc[neighbor,:].latitude\n",
    "            dest_lon = df.iloc[neighbor,:].longitude\n",
    "            query = requests.get(f\"https://router.hereapi.com/v8/routes?apiKey={auth}&transportMode=car&origin={orig_lat},{orig_lon}&destination={dest_lat},{dest_lon}&return=travelSummary\")\n",
    "            response = query.json()\n",
    "            backup[spot].append(response)\n",
    "            meter = response[\"routes\"][0][\"sections\"][0][\"travelSummary\"][\"length\"]\n",
    "            if meters[spot] > meter:\n",
    "                meters[spot] = meter\n",
    "        if len(backup) % 200 == 0:\n",
    "            print(f\"{len(backup)} responses done...\")"
   ]
  },
  {
   "cell_type": "code",
   "execution_count": 118,
   "id": "f95b66a5",
   "metadata": {},
   "outputs": [],
   "source": [
    "# Above cell wasn't able to find all of them, could be due timing out or other issues\n",
    "# after executing is was only about 5 of them that it was unable to find, so we can find them by hand here\n",
    "index = 249380 #insert unfound\n",
    "del backup[index]\n",
    "meters[index] = 1000000000\n",
    "for i in knn[df.index.get_loc(index),1:]:\n",
    "    dest_lat = df.iloc[i,:].latitude\n",
    "    dest_lon = df.iloc[i,:].longitude\n",
    "    hmm = requests.get(f\"https://router.hereapi.com/v8/routes?apiKey={auth}&transportMode=car&origin={df.loc[309577,:].latitude},{df.loc[309577,:].longitude}&destination={dest_lat},{dest_lon}&return=travelSummary\")\n",
    "    response = hmm.json()\n",
    "    backup[index].append(response)\n",
    "    meter = response[\"routes\"][0][\"sections\"][0][\"travelSummary\"][\"length\"]\n",
    "    if meters[index] > meter:\n",
    "        meters[index] = meter"
   ]
  },
  {
   "cell_type": "code",
   "execution_count": 120,
   "id": "44bde5aa",
   "metadata": {},
   "outputs": [
    {
     "data": {
      "text/plain": [
       "Int64Index([], dtype='int64', name='id')"
      ]
     },
     "execution_count": 120,
     "metadata": {},
     "output_type": "execute_result"
    }
   ],
   "source": [
    "# If one in meters is empty it will show up here\n",
    "df.loc[df.index.isin([idx for idx in df.index if idx not in meters])].index"
   ]
  },
  {
   "cell_type": "code",
   "execution_count": 122,
   "id": "existing-stadium",
   "metadata": {},
   "outputs": [],
   "source": [
    "for NA in [idx for idx in df.index if idx not in meters]:\n",
    "    meters[NA] = None"
   ]
  },
  {
   "cell_type": "code",
   "execution_count": 635,
   "id": "d41d38ec",
   "metadata": {},
   "outputs": [],
   "source": [
    "df[\"closest_in_meters\"] = pd.Series(meters, name=\"closest_in_meters\")"
   ]
  },
  {
   "cell_type": "code",
   "execution_count": 140,
   "id": "ranking-sally",
   "metadata": {},
   "outputs": [],
   "source": [
    "# Get addresses of geocodes with revgeocode search\n",
    "rev_coord = lambda x: requests.get(\n",
    "    f\"https://revgeocode.search.hereapi.com/v1/revgeocode?at={x.latitude},{x.longitude}&apiKey={auth}\"\n",
    ").json()\n",
    "reversed_coord = df.loc[:,[\"latitude\", \"longitude\"]].apply(rev_coord, axis = 1)"
   ]
  },
  {
   "cell_type": "code",
   "execution_count": 142,
   "id": "mediterranean-regulation",
   "metadata": {},
   "outputs": [],
   "source": [
    "# county list to sanity check\n",
    "municipalities = [\"København\",\"Aarhus\",\"Aalborg\",\"Odense\",\"Vejle\",\"Esbjerg\",\"Frederiksberg\",\"Randers\",\"Viborg\",\"Silkeborg\",\"Kolding\",\"Horsens\",\"Herning\",\"Roskilde\",\"Næstved\",\"Slagelse\",\"Gentofte\",\"Sønderborg\",\"Holbæk\",\"Gladsaxe\",\"Hjørring\",\"Skanderborg\",\"Helsingør\",\"Køge\",\"Guldborgsund\",\"Frederikshavn\",\"Holstebro\",\"Svendborg\",\"Aabenraa\",\"Rudersdal\",\"Lyngby-Taarbæk\",\"Ringkøbing-Skjern\",\"Haderslev\",\"Hvidovre\",\"Høje Taastrup\",\"Faaborg-Midtfyn\",\"Hillerød\",\"Fredericia\",\"Greve\",\"Varde\",\"Ballerup\",\"Kalundborg\",\"Favrskov\",\"Hedensted\",\"Frederikssund\",\"Skive\",\"Vordingborg\",\"Egedal\",\"Syddjurs\",\"Thisted\",\"Vejen\",\"Tårnby\",\"Mariagerfjord\",\"Ikast-Brande\",\"Rødovre\",\"Furesø\",\"Fredensborg\",\"Gribskov\",\"Assens\",\"Lolland\",\"Bornholm\", \"Middelfart\",\"Jammerbugt\",\"Tønder\",\"Norddjurs\",\"Faxe\",\"Vesthimmerlands\",\"Brønderslev\",\"Brøndby\",\"Ringsted\",\"Odsherred\",\"Nyborg\",\"Halsnæs\",\"Rebild\",\"Sorø\",\"Nordfyns\",\"Herlev\",\"Lejre\",\"Albertslund\",\"Billund\",\"Allerød\",\"Hørsholm\",\"Kerteminde\",\"Solrød\",\"Odder\",\"Ishøj\",\"Stevns\",\"Glostrup\",\"Struer\",\"Morsø\",\"Lemvig\",\"Vallensbæk\",\"Dragør\",\"Langeland\",\"Ærø\",\"Samsø\",\"Fanø\",\"Læsø\"]"
   ]
  },
  {
   "cell_type": "code",
   "execution_count": 143,
   "id": "regular-newton",
   "metadata": {},
   "outputs": [],
   "source": [
    "def get_counties(reversed_coord):\n",
    "    county = reversed_coord[\"items\"][0][\"address\"][\"county\"]\n",
    "    if county == \"Lyngby Tårbæk\":\n",
    "        county = \"Lyngby-Taarbæk\"\n",
    "    if county in municipalities:\n",
    "        return county\n",
    "    else:\n",
    "        print(county)\n",
    "        raise ValueError(\"Oops\")"
   ]
  },
  {
   "cell_type": "code",
   "execution_count": 144,
   "id": "incorporated-floating",
   "metadata": {},
   "outputs": [],
   "source": [
    "df[\"municipality\"] = reversed_coord.apply(get_counties)"
   ]
  },
  {
   "cell_type": "code",
   "execution_count": 146,
   "id": "outdoor-waterproof",
   "metadata": {},
   "outputs": [],
   "source": [
    "df[\"year\"] = pd.to_datetime(df.created_at).dt.year"
   ]
  },
  {
   "cell_type": "code",
   "execution_count": 147,
   "id": "black-chorus",
   "metadata": {},
   "outputs": [],
   "source": [
    "# Some of the addresses from Plugshare were badly defined, here.api has more precise addresses, we augment the data here\n",
    "for key, x in df.address.items():\n",
    "    if len(x.split(\",\")) < 2:\n",
    "        df.loc[key, \"address\"] = reversed_coord[key][\"items\"][0][\"address\"][\"label\"]"
   ]
  },
  {
   "cell_type": "code",
   "execution_count": 149,
   "id": "australian-taxation",
   "metadata": {},
   "outputs": [],
   "source": [
    "columns = list(df)\n",
    "columns = columns[:3] + columns[-1:] + columns[3:-1]\n",
    "df = df[columns]"
   ]
  },
  {
   "cell_type": "code",
   "execution_count": 636,
   "id": "subject-edition",
   "metadata": {},
   "outputs": [],
   "source": [
    "df.to_pickle(\"standers.pickle\")"
   ]
  },
  {
   "cell_type": "markdown",
   "id": "unlike-guarantee",
   "metadata": {},
   "source": [
    "## Visualization"
   ]
  },
  {
   "cell_type": "code",
   "execution_count": 637,
   "id": "cross-personality",
   "metadata": {},
   "outputs": [
    {
     "data": {
      "image/png": "[encoded data removed]",
      "text/plain": [
       "<Figure size 432x288 with 1 Axes>"
      ]
     },
     "metadata": {},
     "output_type": "display_data"
    }
   ],
   "source": [
    "by_year = df.groupby(\"year\").size()\n",
    "plt.bar(by_year.keys(), by_year.values)\n",
    "plt.xticks(ticks=by_year.keys(), labels=by_year.keys())\n",
    "plt.show()"
   ]
  },
  {
   "cell_type": "code",
   "execution_count": 638,
   "id": "invisible-democrat",
   "metadata": {},
   "outputs": [
    {
     "name": "stderr",
     "output_type": "stream",
     "text": [
      "/var/folders/xc/rd97lqhs6yq7j48brsn0jf3r0000gn/T/ipykernel_22228/2365229613.py:8: UserWarning: Matplotlib is currently using module://matplotlib_inline.backend_inline, which is a non-GUI backend, so cannot show the figure.\n",
      "  fig.show()\n"
     ]
    },
    {
     "data": {
      "image/png": "[encoded data removed]",
      "text/plain": [
       "<Figure size 1440x720 with 1 Axes>"
      ]
     },
     "metadata": {},
     "output_type": "display_data"
    }
   ],
   "source": [
    "avg_closest = df.groupby(\"municipality\").mean()[\"closest_in_meters\"].sort_values(ascending=False)\n",
    "\n",
    "fig, ax = plt.subplots(figsize = (20,10))\n",
    "ax.bar(avg_closest.keys(), avg_closest.values)\n",
    "ax.set_xticks(ticks=range(len(avg_closest.keys())))\n",
    "ax.set_xticklabels(labels=avg_closest.keys(), rotation=90)\n",
    "plt.tight_layout()\n",
    "fig.show()"
   ]
  },
  {
   "cell_type": "code",
   "execution_count": 639,
   "id": "31018e66",
   "metadata": {},
   "outputs": [
    {
     "name": "stderr",
     "output_type": "stream",
     "text": [
      "/var/folders/xc/rd97lqhs6yq7j48brsn0jf3r0000gn/T/ipykernel_22228/3888197459.py:10: SettingWithCopyWarning: \n",
      "A value is trying to be set on a copy of a slice from a DataFrame\n",
      "\n",
      "See the caveats in the documentation: https://pandas.pydata.org/pandas-docs/stable/user_guide/indexing.html#returning-a-view-versus-a-copy\n",
      "  relevant_columns[\"closest_in_meters\"][relevant_columns.municipality.isin(size[size == 1].index)] = np.nan\n"
     ]
    }
   ],
   "source": [
    "years_looked = []\n",
    "indices_year = pd.DataFrame(columns = [\"up_until_year\", \"count_of_stations\", \"plugs\", \"closest_in_meters\"])\n",
    "for year in sorted(df.year.unique()):\n",
    "    years_looked.append(year)\n",
    "    cum_indices = df.year.isin(years_looked)\n",
    "    \n",
    "    relevant_columns = df.loc[cum_indices,[\"municipality\",\"plugs\", \"closest_in_meters\"]]\n",
    "\n",
    "    size = relevant_columns.groupby(\"municipality\").size() \n",
    "    relevant_columns[\"closest_in_meters\"][relevant_columns.municipality.isin(size[size == 1].index)] = np.nan\n",
    "    relevant_columns[\"count_of_stations\"] = 0\n",
    "    relevant_columns[\"closest_in_meters_std\"] = relevant_columns[\"closest_in_meters\"]\n",
    "    relevant_columns = relevant_columns.groupby(\"municipality\").aggregate(\n",
    "        {\n",
    "            \"count_of_stations\":\"size\", \n",
    "            \"plugs\":\"sum\", \n",
    "            \"closest_in_meters\": lambda x: x.mean(skipna=False), \n",
    "            \"closest_in_meters_std\": \"std\"\n",
    "        }\n",
    "    )\n",
    "    relevant_columns[\"up_until_year\"] = year\n",
    "    indices_year = indices_year.append(relevant_columns)\n",
    "indices_year = indices_year.reset_index().rename({\"index\":\"municipality\"}, axis=1)"
   ]
  },
  {
   "cell_type": "code",
   "execution_count": 604,
   "id": "ca5d8e5c",
   "metadata": {},
   "outputs": [],
   "source": [
    "indices_year.to_csv(\"muni_aggr_charging_data.csv\")"
   ]
  },
  {
   "cell_type": "code",
   "execution_count": 606,
   "id": "58631a95",
   "metadata": {},
   "outputs": [],
   "source": [
    "df.to_csv(\"charging_stations.csv\")"
   ]
  },
  {
   "cell_type": "code",
   "execution_count": 581,
   "id": "3e172d4c",
   "metadata": {},
   "outputs": [],
   "source": [
    "#labels = indices_year.municipality.unique()\n",
    "#x = np.arange(len(labels))  # the label locations\n",
    "\n",
    "#width = 0.35  # the width of the bars\n",
    "\n",
    "#fig, ax = plt.subplots(figsize=(50,10))\n",
    "\n",
    "#year_x = {}\n",
    "#rects_year = {}\n",
    "#unique_years = indices_year.up_until_year.unique()\n",
    "#for year in unique_years:\n",
    "#    year_x[year] = indices_year[indices_year.up_until_year == year]\n",
    "#    \n",
    "#    x = np.arange(len(year_x[year]))\n",
    "#    x_pos = x-width+width*(year/len(unique_years))\n",
    "#    print(x_pos)\n",
    "#    rects_year[year] = ax.bar(x_pos, year_x[year].closest_in_meters, width, label=year)\n",
    "\n",
    "# Add some text for labels, title and custom x-axis tick labels, etc.\n",
    "#ax.set_ylabel('Closest chargin station in meters')\n",
    "#ax.set_title('Scores by group and gender')\n",
    "#ax.set_xticks(x, labels, rotation=90)\n",
    "#ax.legend()\n",
    "#fig.savefig(\"ha\")"
   ]
  },
  {
   "cell_type": "markdown",
   "id": "measured-balance",
   "metadata": {},
   "source": [
    "## Verification"
   ]
  },
  {
   "cell_type": "code",
   "execution_count": 158,
   "id": "derived-river",
   "metadata": {},
   "outputs": [],
   "source": [
    "# Geo measurement function which can be used as a sanity check\n",
    "def measure(lat_lon_1, lat_lon_2): \n",
    "    lat1, lon1 = lat_lon_1\n",
    "    lat2, lon2 = lat_lon_2\n",
    "    R = 6378.137\n",
    "    dLat = lat2 * np.pi / 180 - lat1 * np.pi / 180\n",
    "    dLon = lon2 * np.pi / 180 - lon1 * np.pi / 180\n",
    "    a = np.sin(dLat/2) * np.sin(dLat/2) + np.cos(lat1 * np.pi / 180) * np.cos(lat2 * np.pi / 180) * np.sin(dLon/2) * np.sin(dLon/2)\n",
    "    c = 2 * np.arctan2(np.sqrt(a), np.sqrt(1-a))\n",
    "    d = R * c\n",
    "    return d * 1000"
   ]
  },
  {
   "cell_type": "code",
   "execution_count": 159,
   "id": "level-basketball",
   "metadata": {},
   "outputs": [
    {
     "data": {
      "text/plain": [
       "'Teglgårdsvej 73, 5500 Middelfart, Denmark is 1301.54 meters from Søndergade 63-67, Middelfart, 5500, DK - coordinately'"
      ]
     },
     "execution_count": 159,
     "metadata": {},
     "output_type": "execute_result"
    }
   ],
   "source": [
    "# to be used something like this\n",
    "f\"{df.iloc[0].address} is {measure(df.iloc[0].values[:2], df.iloc[1378].values[:2]):.2f} meters from {df.iloc[1378].address} - coordinately\""
   ]
  },
  {
   "cell_type": "code",
   "execution_count": 160,
   "id": "8adfbdb8",
   "metadata": {},
   "outputs": [],
   "source": [
    "differences = []\n",
    "for key,value in backup.items():\n",
    "    found_depart = value[0][\"routes\"][0][\"sections\"][0][\"departure\"][\"place\"][\"location\"].values()\n",
    "    orig_depart = value[0][\"routes\"][0][\"sections\"][0][\"departure\"][\"place\"][\"originalLocation\"].values()\n",
    "    differences.append(measure(found_depart, orig_depart))\n",
    "    for neighbor in value:\n",
    "        if \"originalLocation\" in neighbor[\"routes\"][0][\"sections\"][0][\"arrival\"][\"place\"]:\n",
    "            found_arriv = neighbor[\"routes\"][0][\"sections\"][0][\"arrival\"][\"place\"][\"location\"].values()\n",
    "            orig_arriv = neighbor[\"routes\"][0][\"sections\"][0][\"arrival\"][\"place\"][\"originalLocation\"].values()\n",
    "            differences.append(measure(found_arriv, orig_arriv))\n",
    "        else:\n",
    "            differences.append(0)"
   ]
  },
  {
   "cell_type": "code",
   "execution_count": 165,
   "id": "fa609163",
   "metadata": {},
   "outputs": [
    {
     "name": "stdout",
     "output_type": "stream",
     "text": [
      "There is an estimated 16.37m of movement from where the HERE API have data to where the lon and lat of our data lies\n"
     ]
    }
   ],
   "source": [
    "print(f\"There is an estimated {np.mean(differences):.2f}m of movement from where the HERE API have data to where the lon and lat of our data lies\")"
   ]
  }
 ],
 "metadata": {
  "kernelspec": {
   "display_name": "Python 3 (ipykernel)",
   "language": "python",
   "name": "python3"
  },
  "language_info": {
   "codemirror_mode": {
    "name": "ipython",
    "version": 3
   },
   "file_extension": ".py",
   "mimetype": "text/x-python",
   "name": "python",
   "nbconvert_exporter": "python",
   "pygments_lexer": "ipython3",
   "version": "3.9.7"
  }
 },
 "nbformat": 4,
 "nbformat_minor": 5
}
