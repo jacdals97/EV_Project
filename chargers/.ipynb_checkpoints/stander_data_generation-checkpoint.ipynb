{
 "cells": [
  {
   "cell_type": "code",
   "execution_count": 1,
   "id": "upset-eleven",
   "metadata": {},
   "outputs": [],
   "source": [
    "import os\n",
    "import json\n",
    "import pandas as pd\n",
    "import numpy as np\n",
    "import requests\n",
    "\n",
    "from collections import defaultdict\n",
    "from sklearn.neighbors import BallTree"
   ]
  },
  {
   "cell_type": "code",
   "execution_count": 2,
   "id": "angry-cologne",
   "metadata": {},
   "outputs": [],
   "source": [
    "paths = [path for path in os.listdir() if path.endswith(\".pickle\") and \"standers\" not in path]"
   ]
  },
  {
   "cell_type": "code",
   "execution_count": 3,
   "id": "robust-military",
   "metadata": {},
   "outputs": [],
   "source": [
    "df = pd.DataFrame([pd.read_pickle(path) for path in paths])"
   ]
  },
  {
   "cell_type": "code",
   "execution_count": 4,
   "id": "transsexual-compromise",
   "metadata": {},
   "outputs": [
    {
     "data": {
      "text/plain": [
       "1896"
      ]
     },
     "execution_count": 4,
     "metadata": {},
     "output_type": "execute_result"
    }
   ],
   "source": [
    "# Charging stations\n",
    "len(df)"
   ]
  },
  {
   "cell_type": "markdown",
   "id": "square-socket",
   "metadata": {},
   "source": [
    "Most of the charging stations data points' adresses are formatted nicely and therefore we can use it to identify things we do not want to pick up, i.e. charging stations that are in Germany, Sweden or El Salvador"
   ]
  },
  {
   "cell_type": "code",
   "execution_count": 5,
   "id": "third-breath",
   "metadata": {},
   "outputs": [
    {
     "name": "stdout",
     "output_type": "stream",
     "text": [
      "['Denmark' 'Danmark' 'DK' 'DE' 'Sverige' '7330 Brande'\n",
      " 'Riggaregatan 211 14 Malmö Sweden' '2900 Hellerup' 'SE' 'Vesterhavsvej'] ...\n"
     ]
    }
   ],
   "source": [
    "print(df[\"address\"].apply(lambda x: x.split(\",\")[-1].strip() if type(x) == str else \"fail\").unique()[:10], \"...\")"
   ]
  },
  {
   "cell_type": "code",
   "execution_count": 6,
   "id": "turkish-format",
   "metadata": {},
   "outputs": [
    {
     "name": "stdout",
     "output_type": "stream",
     "text": [
      "127\n"
     ]
    },
    {
     "name": "stderr",
     "output_type": "stream",
     "text": [
      "/usr/local/lib/python3.9/site-packages/pandas/core/strings/accessor.py:101: UserWarning: This pattern has match groups. To actually get the groups, use str.extract.\n",
      "  return func(self, *args, **kwargs)\n"
     ]
    }
   ],
   "source": [
    "# How many of the rows are foreign charging stations\n",
    "print(len(df[df.address.str.contains(\"(Deutschland|DE|Sweden|Sverige|El Salvador|Germany)\")]))"
   ]
  },
  {
   "cell_type": "code",
   "execution_count": 7,
   "id": "undefined-webmaster",
   "metadata": {},
   "outputs": [],
   "source": [
    "df = df[-df.address.str.contains(\"(Deutschland|DE|Sweden|Sverige)\")]"
   ]
  },
  {
   "cell_type": "code",
   "execution_count": 8,
   "id": "settled-language",
   "metadata": {},
   "outputs": [],
   "source": [
    "# This has jumbled the index, so now there are gaps, we can use the id as new index\n",
    "df = df.set_index(\"id\")"
   ]
  },
  {
   "cell_type": "code",
   "execution_count": 9,
   "id": "thrown-reach",
   "metadata": {},
   "outputs": [
    {
     "data": {
      "text/html": [
       "<div>\n",
       "<style scoped>\n",
       "    .dataframe tbody tr th:only-of-type {\n",
       "        vertical-align: middle;\n",
       "    }\n",
       "\n",
       "    .dataframe tbody tr th {\n",
       "        vertical-align: top;\n",
       "    }\n",
       "\n",
       "    .dataframe thead th {\n",
       "        text-align: right;\n",
       "    }\n",
       "</style>\n",
       "<table border=\"1\" class=\"dataframe\">\n",
       "  <thead>\n",
       "    <tr style=\"text-align: right;\">\n",
       "      <th></th>\n",
       "      <th>latitude</th>\n",
       "      <th>longitude</th>\n",
       "      <th>address</th>\n",
       "      <th>created_at</th>\n",
       "      <th>municipality</th>\n",
       "      <th>city</th>\n",
       "      <th>zip_code</th>\n",
       "      <th>plugs</th>\n",
       "      <th>cost_description</th>\n",
       "      <th>description</th>\n",
       "      <th>country_code</th>\n",
       "    </tr>\n",
       "    <tr>\n",
       "      <th>id</th>\n",
       "      <th></th>\n",
       "      <th></th>\n",
       "      <th></th>\n",
       "      <th></th>\n",
       "      <th></th>\n",
       "      <th></th>\n",
       "      <th></th>\n",
       "      <th></th>\n",
       "      <th></th>\n",
       "      <th></th>\n",
       "      <th></th>\n",
       "    </tr>\n",
       "  </thead>\n",
       "  <tbody>\n",
       "    <tr>\n",
       "      <th>96548</th>\n",
       "      <td>55.494803</td>\n",
       "      <td>9.721409</td>\n",
       "      <td>Teglgårdsvej 73, 5500 Middelfart, Denmark</td>\n",
       "      <td>2016-10-01T10:37:25Z</td>\n",
       "      <td>Middelfart Municipality</td>\n",
       "      <td>Middelfart</td>\n",
       "      <td>5500</td>\n",
       "      <td>11</td>\n",
       "      <td>Free</td>\n",
       "      <td>Free for hotel guests: http://www.sinatur.dk/m...</td>\n",
       "      <td>DK</td>\n",
       "    </tr>\n",
       "    <tr>\n",
       "      <th>337709</th>\n",
       "      <td>55.653682</td>\n",
       "      <td>12.614406</td>\n",
       "      <td>Elbagade 28, 2300 København, Danmark</td>\n",
       "      <td>2021-09-09T20:26:12Z</td>\n",
       "      <td>None</td>\n",
       "      <td>København</td>\n",
       "      <td>2300</td>\n",
       "      <td>11</td>\n",
       "      <td>Clever</td>\n",
       "      <td></td>\n",
       "      <td>DK</td>\n",
       "    </tr>\n",
       "    <tr>\n",
       "      <th>91943</th>\n",
       "      <td>56.292127</td>\n",
       "      <td>10.444662</td>\n",
       "      <td>Præstekravevej 46, 8410 Rønde, Denmark</td>\n",
       "      <td>2016-07-25T14:01:47Z</td>\n",
       "      <td>Syddjurs Municipality</td>\n",
       "      <td>Rønde</td>\n",
       "      <td>8410</td>\n",
       "      <td>11</td>\n",
       "      <td></td>\n",
       "      <td>2x Red CEE Free for hotel guests\\nTesla Destin...</td>\n",
       "      <td>DK</td>\n",
       "    </tr>\n",
       "    <tr>\n",
       "      <th>70961</th>\n",
       "      <td>55.215571</td>\n",
       "      <td>9.372034</td>\n",
       "      <td>Sønderjyske Motorvej 684, 6500 Vojens, Denmark</td>\n",
       "      <td>2015-09-12T00:45:42Z</td>\n",
       "      <td>Haderslev Municipality</td>\n",
       "      <td>Vojens</td>\n",
       "      <td>6500</td>\n",
       "      <td>11</td>\n",
       "      <td>clever.dk</td>\n",
       "      <td>Clever 50 kW DC, 43 kW aC</td>\n",
       "      <td>DK</td>\n",
       "    </tr>\n",
       "    <tr>\n",
       "      <th>81790</th>\n",
       "      <td>55.694021</td>\n",
       "      <td>12.544642</td>\n",
       "      <td>Husumgade 32, 2200 København N, Denmark</td>\n",
       "      <td>2016-03-02T11:14:06Z</td>\n",
       "      <td>København</td>\n",
       "      <td>København</td>\n",
       "      <td>2200</td>\n",
       "      <td>11</td>\n",
       "      <td></td>\n",
       "      <td>Charging Station Virta</td>\n",
       "      <td>DK</td>\n",
       "    </tr>\n",
       "  </tbody>\n",
       "</table>\n",
       "</div>"
      ],
      "text/plain": [
       "         latitude  longitude                                         address  \\\n",
       "id                                                                             \n",
       "96548   55.494803   9.721409       Teglgårdsvej 73, 5500 Middelfart, Denmark   \n",
       "337709  55.653682  12.614406            Elbagade 28, 2300 København, Danmark   \n",
       "91943   56.292127  10.444662          Præstekravevej 46, 8410 Rønde, Denmark   \n",
       "70961   55.215571   9.372034  Sønderjyske Motorvej 684, 6500 Vojens, Denmark   \n",
       "81790   55.694021  12.544642         Husumgade 32, 2200 København N, Denmark   \n",
       "\n",
       "                  created_at             municipality        city zip_code  \\\n",
       "id                                                                           \n",
       "96548   2016-10-01T10:37:25Z  Middelfart Municipality  Middelfart     5500   \n",
       "337709  2021-09-09T20:26:12Z                     None   København     2300   \n",
       "91943   2016-07-25T14:01:47Z    Syddjurs Municipality       Rønde     8410   \n",
       "70961   2015-09-12T00:45:42Z   Haderslev Municipality      Vojens     6500   \n",
       "81790   2016-03-02T11:14:06Z                København   København     2200   \n",
       "\n",
       "        plugs cost_description  \\\n",
       "id                               \n",
       "96548      11             Free   \n",
       "337709     11           Clever   \n",
       "91943      11                    \n",
       "70961      11        clever.dk   \n",
       "81790      11                    \n",
       "\n",
       "                                              description country_code  \n",
       "id                                                                      \n",
       "96548   Free for hotel guests: http://www.sinatur.dk/m...           DK  \n",
       "337709                                                              DK  \n",
       "91943   2x Red CEE Free for hotel guests\\nTesla Destin...           DK  \n",
       "70961                           Clever 50 kW DC, 43 kW aC           DK  \n",
       "81790                              Charging Station Virta           DK  "
      ]
     },
     "execution_count": 9,
     "metadata": {},
     "output_type": "execute_result"
    }
   ],
   "source": [
    "df.head()"
   ]
  },
  {
   "cell_type": "code",
   "execution_count": 10,
   "id": "knowing-lover",
   "metadata": {},
   "outputs": [],
   "source": [
    "# We don't want to query the API more than we have to, so we take the 7 nearest neighbors of each charging stations to minimize the search space.\n",
    "distances, knn = BallTree(df.loc[:,[\"latitude\",\"longitude\"]]).query(df.loc[:,[\"latitude\",\"longitude\"]], 8)"
   ]
  },
  {
   "cell_type": "code",
   "execution_count": 11,
   "id": "presidential-convertible",
   "metadata": {},
   "outputs": [],
   "source": [
    "# Geo measurement function\n",
    "def measure(lat_lon_1, lat_lon_2): \n",
    "    lat1, lon1 = lat_lon_1\n",
    "    lat2, lon2 = lat_lon_2\n",
    "    R = 6378.137\n",
    "    dLat = lat2 * np.pi / 180 - lat1 * np.pi / 180\n",
    "    dLon = lon2 * np.pi / 180 - lon1 * np.pi / 180\n",
    "    a = np.sin(dLat/2) * np.sin(dLat/2) + np.cos(lat1 * np.pi / 180) * np.cos(lat2 * np.pi / 180) * np.sin(dLon/2) * np.sin(dLon/2)\n",
    "    c = 2 * np.arctan2(np.sqrt(a), np.sqrt(1-a))\n",
    "    d = R * c\n",
    "    return d * 1000"
   ]
  },
  {
   "cell_type": "code",
   "execution_count": 12,
   "id": "discrete-saying",
   "metadata": {},
   "outputs": [],
   "source": [
    "api_address = df.address.str.replace(\" \", \"+\").str.replace(\",\", \"%2C\")"
   ]
  },
  {
   "cell_type": "code",
   "execution_count": 13,
   "id": "blind-transformation",
   "metadata": {},
   "outputs": [],
   "source": [
    "auth = \"TsC2DsAoF1-Wz1wBzIMbvlgsz_RRbBKjROIXbb47neI\""
   ]
  },
  {
   "cell_type": "code",
   "execution_count": 30,
   "id": "banned-participant",
   "metadata": {},
   "outputs": [],
   "source": [
    "#test = requests.get(f\"https://router.hereapi.com/v8/routes?apiKey={auth}&transportMode=car&origin=52.5308,13.3847&destination=52.5323,13.3789&return=summary\")"
   ]
  },
  {
   "cell_type": "code",
   "execution_count": 38,
   "id": "compact-double",
   "metadata": {},
   "outputs": [
    {
     "data": {
      "text/plain": [
       "176515"
      ]
     },
     "execution_count": 38,
     "metadata": {},
     "output_type": "execute_result"
    }
   ],
   "source": [
    "del meters[spot]\n",
    "del backup[spot]"
   ]
  },
  {
   "cell_type": "code",
   "execution_count": 16,
   "id": "floral-briefing",
   "metadata": {},
   "outputs": [
    {
     "name": "stdout",
     "output_type": "stream",
     "text": [
      "200 responses done...\n",
      "400 responses done...\n",
      "600 responses done...\n",
      "800 responses done...\n",
      "1000 responses done...\n",
      "1200 responses done...\n",
      "1400 responses done...\n",
      "1600 responses done...\n",
      "1800 responses done...\n"
     ]
    }
   ],
   "source": [
    "meters = defaultdict() # placeholder list to put to df\n",
    "backup = defaultdict(list) # backup of all the requests\n",
    "for i, neighbors_of_point in enumerate(knn):\n",
    "    spot = df.iloc[neighbors_of_point[0]].name\n",
    "    orig_lat = df.iloc[neighbors_of_point[0]].latitude\n",
    "    orig_lon = df.iloc[neighbors_of_point[0]].longitude\n",
    "    meters[spot] = 1000000000\n",
    "    for neighbor in neighbors_of_point[1:]:\n",
    "        dest_lat = df.iloc[neighbor,:].latitude\n",
    "        dest_lon = df.iloc[neighbor,:].longitude\n",
    "        query = requests.get(f\"https://router.hereapi.com/v8/routes?apiKey={auth}&transportMode=car&origin={orig_lat},{orig_lon}&destination={dest_lat},{dest_lon}&return=travelSummary\")\n",
    "        response = query.json()\n",
    "        backup[spot].append(response)\n",
    "        meter = response[\"routes\"][0][\"sections\"][0][\"travelSummary\"][\"length\"]\n",
    "        if meters[spot] > meter:\n",
    "            meters[spot] = meter\n",
    "    if len(backup) % 200 == 0:\n",
    "        print(f\"{len(backup)} responses done...\")"
   ]
  },
  {
   "cell_type": "code",
   "execution_count": 20,
   "id": "substantial-genesis",
   "metadata": {},
   "outputs": [
    {
     "data": {
      "text/plain": [
       "Int64Index([344161, 309578, 249382, 295971, 35794], dtype='int64', name='id')"
      ]
     },
     "execution_count": 20,
     "metadata": {},
     "output_type": "execute_result"
    }
   ],
   "source": [
    "df.loc[df.index.isin([idx for idx in df.index if idx not in meters])].index"
   ]
  },
  {
   "cell_type": "code",
   "execution_count": 25,
   "id": "existing-stadium",
   "metadata": {},
   "outputs": [],
   "source": [
    "for NA in [idx for idx in df.index if idx not in meters]:\n",
    "    meters[NA] = None"
   ]
  },
  {
   "cell_type": "code",
   "execution_count": 26,
   "id": "deluxe-teddy",
   "metadata": {},
   "outputs": [],
   "source": [
    "new_one = df"
   ]
  },
  {
   "cell_type": "code",
   "execution_count": 27,
   "id": "addressed-dealer",
   "metadata": {},
   "outputs": [],
   "source": [
    "new_one[\"closest_in_meters\"] = meters.values()"
   ]
  },
  {
   "cell_type": "code",
   "execution_count": 46,
   "id": "dedicated-security",
   "metadata": {},
   "outputs": [
    {
     "data": {
      "text/plain": [
       "array(['DK', 'SE', 'DE'], dtype=object)"
      ]
     },
     "execution_count": 46,
     "metadata": {},
     "output_type": "execute_result"
    }
   ],
   "source": [
    "new_one.country_code.unique()"
   ]
  },
  {
   "cell_type": "code",
   "execution_count": 264,
   "id": "working-voluntary",
   "metadata": {},
   "outputs": [],
   "source": [
    "new_one = new_one[-new_one.zip_code.isin([j for j in [i for i in new_one.zip_code.unique() if type(i) == str] if len(j) > 4])]"
   ]
  },
  {
   "cell_type": "code",
   "execution_count": 265,
   "id": "forced-fireplace",
   "metadata": {},
   "outputs": [
    {
     "data": {
      "text/html": [
       "<div>\n",
       "<style scoped>\n",
       "    .dataframe tbody tr th:only-of-type {\n",
       "        vertical-align: middle;\n",
       "    }\n",
       "\n",
       "    .dataframe tbody tr th {\n",
       "        vertical-align: top;\n",
       "    }\n",
       "\n",
       "    .dataframe thead th {\n",
       "        text-align: right;\n",
       "    }\n",
       "</style>\n",
       "<table border=\"1\" class=\"dataframe\">\n",
       "  <thead>\n",
       "    <tr style=\"text-align: right;\">\n",
       "      <th></th>\n",
       "      <th>latitude</th>\n",
       "      <th>longitude</th>\n",
       "      <th>address</th>\n",
       "      <th>created_at</th>\n",
       "      <th>municipality</th>\n",
       "      <th>city</th>\n",
       "      <th>zip_code</th>\n",
       "      <th>plugs</th>\n",
       "      <th>cost_description</th>\n",
       "      <th>description</th>\n",
       "      <th>country_code</th>\n",
       "      <th>closest_in_meters</th>\n",
       "    </tr>\n",
       "    <tr>\n",
       "      <th>id</th>\n",
       "      <th></th>\n",
       "      <th></th>\n",
       "      <th></th>\n",
       "      <th></th>\n",
       "      <th></th>\n",
       "      <th></th>\n",
       "      <th></th>\n",
       "      <th></th>\n",
       "      <th></th>\n",
       "      <th></th>\n",
       "      <th></th>\n",
       "      <th></th>\n",
       "    </tr>\n",
       "  </thead>\n",
       "  <tbody>\n",
       "    <tr>\n",
       "      <th>96548</th>\n",
       "      <td>55.494803</td>\n",
       "      <td>9.721409</td>\n",
       "      <td>Teglgårdsvej 73, 5500 Middelfart, Denmark</td>\n",
       "      <td>2016-10-01T10:37:25Z</td>\n",
       "      <td>Middelfart</td>\n",
       "      <td>Middelfart</td>\n",
       "      <td>5500</td>\n",
       "      <td>11</td>\n",
       "      <td>Free</td>\n",
       "      <td>Free for hotel guests: http://www.sinatur.dk/m...</td>\n",
       "      <td>DK</td>\n",
       "      <td>1507</td>\n",
       "    </tr>\n",
       "    <tr>\n",
       "      <th>337709</th>\n",
       "      <td>55.653682</td>\n",
       "      <td>12.614406</td>\n",
       "      <td>Elbagade 28, 2300 København, Danmark</td>\n",
       "      <td>2021-09-09T20:26:12Z</td>\n",
       "      <td>København</td>\n",
       "      <td>København</td>\n",
       "      <td>2300</td>\n",
       "      <td>11</td>\n",
       "      <td>Clever</td>\n",
       "      <td></td>\n",
       "      <td>DK</td>\n",
       "      <td>233</td>\n",
       "    </tr>\n",
       "    <tr>\n",
       "      <th>91943</th>\n",
       "      <td>56.292127</td>\n",
       "      <td>10.444662</td>\n",
       "      <td>Præstekravevej 46, 8410 Rønde, Denmark</td>\n",
       "      <td>2016-07-25T14:01:47Z</td>\n",
       "      <td>Syddjurs</td>\n",
       "      <td>Rønde</td>\n",
       "      <td>8410</td>\n",
       "      <td>11</td>\n",
       "      <td></td>\n",
       "      <td>2x Red CEE Free for hotel guests\\nTesla Destin...</td>\n",
       "      <td>DK</td>\n",
       "      <td>2753</td>\n",
       "    </tr>\n",
       "    <tr>\n",
       "      <th>70961</th>\n",
       "      <td>55.215571</td>\n",
       "      <td>9.372034</td>\n",
       "      <td>Sønderjyske Motorvej 684, 6500 Vojens, Denmark</td>\n",
       "      <td>2015-09-12T00:45:42Z</td>\n",
       "      <td>Haderslev</td>\n",
       "      <td>Vojens</td>\n",
       "      <td>6500</td>\n",
       "      <td>11</td>\n",
       "      <td>clever.dk</td>\n",
       "      <td>Clever 50 kW DC, 43 kW aC</td>\n",
       "      <td>DK</td>\n",
       "      <td>8945</td>\n",
       "    </tr>\n",
       "    <tr>\n",
       "      <th>81790</th>\n",
       "      <td>55.694021</td>\n",
       "      <td>12.544642</td>\n",
       "      <td>Husumgade 32, 2200 København N, Denmark</td>\n",
       "      <td>2016-03-02T11:14:06Z</td>\n",
       "      <td>København</td>\n",
       "      <td>København</td>\n",
       "      <td>2200</td>\n",
       "      <td>11</td>\n",
       "      <td></td>\n",
       "      <td>Charging Station Virta</td>\n",
       "      <td>DK</td>\n",
       "      <td>423</td>\n",
       "    </tr>\n",
       "    <tr>\n",
       "      <th>...</th>\n",
       "      <td>...</td>\n",
       "      <td>...</td>\n",
       "      <td>...</td>\n",
       "      <td>...</td>\n",
       "      <td>...</td>\n",
       "      <td>...</td>\n",
       "      <td>...</td>\n",
       "      <td>...</td>\n",
       "      <td>...</td>\n",
       "      <td>...</td>\n",
       "      <td>...</td>\n",
       "      <td>...</td>\n",
       "    </tr>\n",
       "    <tr>\n",
       "      <th>62736</th>\n",
       "      <td>56.159506</td>\n",
       "      <td>10.184633</td>\n",
       "      <td>Tage-Hansens Gade 2, 8000 Aarhus, Denmark</td>\n",
       "      <td>2015-04-02T05:20:34Z</td>\n",
       "      <td>Aarhus</td>\n",
       "      <td>Aarhus</td>\n",
       "      <td>8000</td>\n",
       "      <td>11</td>\n",
       "      <td>E.ON (http://www.eon.dk/e-mobility/)</td>\n",
       "      <td>Charging Station Virta\\n- Standere: 3\\nLadere: 6</td>\n",
       "      <td>DK</td>\n",
       "      <td>None</td>\n",
       "    </tr>\n",
       "    <tr>\n",
       "      <th>321501</th>\n",
       "      <td>55.242290</td>\n",
       "      <td>9.497206</td>\n",
       "      <td>Kroghs kobbel 16</td>\n",
       "      <td>2021-06-02T12:52:18Z</td>\n",
       "      <td>Haderslev</td>\n",
       "      <td>Haderslev</td>\n",
       "      <td>6100</td>\n",
       "      <td>11</td>\n",
       "      <td>2kr  pr kWh hvis du bruger Monta appen , eller...</td>\n",
       "      <td>På væggen i carporten\\nMan kan lade med MONTA ...</td>\n",
       "      <td>DK</td>\n",
       "      <td>None</td>\n",
       "    </tr>\n",
       "    <tr>\n",
       "      <th>88915</th>\n",
       "      <td>55.687290</td>\n",
       "      <td>12.523956</td>\n",
       "      <td>Nordre Fasanvej 57, 2000 Frederiksberg, Denmark</td>\n",
       "      <td>2016-06-05T11:32:27Z</td>\n",
       "      <td>Frederiksberg</td>\n",
       "      <td>Frederiksberg</td>\n",
       "      <td>2000</td>\n",
       "      <td>11</td>\n",
       "      <td>E.ON (http://www.eon.dk/e-mobility/)</td>\n",
       "      <td></td>\n",
       "      <td>DK</td>\n",
       "      <td>None</td>\n",
       "    </tr>\n",
       "    <tr>\n",
       "      <th>125243</th>\n",
       "      <td>57.486636</td>\n",
       "      <td>10.337960</td>\n",
       "      <td>Bakkevej 142, 9870‎ Sindal, Denmark</td>\n",
       "      <td>2017-08-13T18:17:00Z</td>\n",
       "      <td>Hjørring</td>\n",
       "      <td>Sindal</td>\n",
       "      <td>9870</td>\n",
       "      <td>11</td>\n",
       "      <td>Pt koster det 3kr pr kw når man lejer spejder ...</td>\n",
       "      <td>FDF Spejderhytte med rødt CEE stik med 16 A si...</td>\n",
       "      <td>DK</td>\n",
       "      <td>None</td>\n",
       "    </tr>\n",
       "    <tr>\n",
       "      <th>321570</th>\n",
       "      <td>55.737050</td>\n",
       "      <td>12.511440</td>\n",
       "      <td>Jonas Lies Vej 12, 2860 Søborg, Denmark</td>\n",
       "      <td>2021-06-02T18:10:56Z</td>\n",
       "      <td>Gladsaxe</td>\n",
       "      <td>Søborg</td>\n",
       "      <td>2860</td>\n",
       "      <td>11</td>\n",
       "      <td></td>\n",
       "      <td>6stk Clever Type2</td>\n",
       "      <td>DK</td>\n",
       "      <td>None</td>\n",
       "    </tr>\n",
       "  </tbody>\n",
       "</table>\n",
       "<p>1739 rows × 12 columns</p>\n",
       "</div>"
      ],
      "text/plain": [
       "         latitude  longitude                                          address  \\\n",
       "id                                                                              \n",
       "96548   55.494803   9.721409        Teglgårdsvej 73, 5500 Middelfart, Denmark   \n",
       "337709  55.653682  12.614406             Elbagade 28, 2300 København, Danmark   \n",
       "91943   56.292127  10.444662           Præstekravevej 46, 8410 Rønde, Denmark   \n",
       "70961   55.215571   9.372034   Sønderjyske Motorvej 684, 6500 Vojens, Denmark   \n",
       "81790   55.694021  12.544642          Husumgade 32, 2200 København N, Denmark   \n",
       "...           ...        ...                                              ...   \n",
       "62736   56.159506  10.184633        Tage-Hansens Gade 2, 8000 Aarhus, Denmark   \n",
       "321501  55.242290   9.497206                                 Kroghs kobbel 16   \n",
       "88915   55.687290  12.523956  Nordre Fasanvej 57, 2000 Frederiksberg, Denmark   \n",
       "125243  57.486636  10.337960              Bakkevej 142, 9870‎ Sindal, Denmark   \n",
       "321570  55.737050  12.511440          Jonas Lies Vej 12, 2860 Søborg, Denmark   \n",
       "\n",
       "                  created_at   municipality           city zip_code  plugs  \\\n",
       "id                                                                           \n",
       "96548   2016-10-01T10:37:25Z     Middelfart     Middelfart     5500     11   \n",
       "337709  2021-09-09T20:26:12Z      København      København     2300     11   \n",
       "91943   2016-07-25T14:01:47Z       Syddjurs          Rønde     8410     11   \n",
       "70961   2015-09-12T00:45:42Z      Haderslev         Vojens     6500     11   \n",
       "81790   2016-03-02T11:14:06Z      København      København     2200     11   \n",
       "...                      ...            ...            ...      ...    ...   \n",
       "62736   2015-04-02T05:20:34Z         Aarhus         Aarhus     8000     11   \n",
       "321501  2021-06-02T12:52:18Z      Haderslev      Haderslev     6100     11   \n",
       "88915   2016-06-05T11:32:27Z  Frederiksberg  Frederiksberg     2000     11   \n",
       "125243  2017-08-13T18:17:00Z       Hjørring         Sindal     9870     11   \n",
       "321570  2021-06-02T18:10:56Z       Gladsaxe         Søborg     2860     11   \n",
       "\n",
       "                                         cost_description  \\\n",
       "id                                                          \n",
       "96548                                                Free   \n",
       "337709                                             Clever   \n",
       "91943                                                       \n",
       "70961                                           clever.dk   \n",
       "81790                                                       \n",
       "...                                                   ...   \n",
       "62736                E.ON (http://www.eon.dk/e-mobility/)   \n",
       "321501  2kr  pr kWh hvis du bruger Monta appen , eller...   \n",
       "88915                E.ON (http://www.eon.dk/e-mobility/)   \n",
       "125243  Pt koster det 3kr pr kw når man lejer spejder ...   \n",
       "321570                                                      \n",
       "\n",
       "                                              description country_code  \\\n",
       "id                                                                       \n",
       "96548   Free for hotel guests: http://www.sinatur.dk/m...           DK   \n",
       "337709                                                              DK   \n",
       "91943   2x Red CEE Free for hotel guests\\nTesla Destin...           DK   \n",
       "70961                           Clever 50 kW DC, 43 kW aC           DK   \n",
       "81790                              Charging Station Virta           DK   \n",
       "...                                                   ...          ...   \n",
       "62736    Charging Station Virta\\n- Standere: 3\\nLadere: 6           DK   \n",
       "321501  På væggen i carporten\\nMan kan lade med MONTA ...           DK   \n",
       "88915                                                               DK   \n",
       "125243  FDF Spejderhytte med rødt CEE stik med 16 A si...           DK   \n",
       "321570                                  6stk Clever Type2           DK   \n",
       "\n",
       "       closest_in_meters  \n",
       "id                        \n",
       "96548               1507  \n",
       "337709               233  \n",
       "91943               2753  \n",
       "70961               8945  \n",
       "81790                423  \n",
       "...                  ...  \n",
       "62736               None  \n",
       "321501              None  \n",
       "88915               None  \n",
       "125243              None  \n",
       "321570              None  \n",
       "\n",
       "[1739 rows x 12 columns]"
      ]
     },
     "execution_count": 265,
     "metadata": {},
     "output_type": "execute_result"
    }
   ],
   "source": [
    "new_one"
   ]
  },
  {
   "cell_type": "code",
   "execution_count": 55,
   "id": "abroad-jewelry",
   "metadata": {},
   "outputs": [],
   "source": [
    "new_one.to_pickle(\"standers.pickle\")"
   ]
  },
  {
   "cell_type": "code",
   "execution_count": 76,
   "id": "colored-breakfast",
   "metadata": {},
   "outputs": [],
   "source": [
    "#meters = defaultdict() # placeholder list to put to df\n",
    "#backup = defaultdict(list) # backup of all the requests\n",
    "for i, neighbors_of_point in enumerate([knn[nei] for nei in df.loc[df['id'].isin([idx for idx in df.id if idx not in meters])].index]):\n",
    "    spot = df.iloc[neighbors_of_point[0]].id\n",
    "    orig_lat = df.iloc[neighbors_of_point[0]].latitude\n",
    "    orig_lon = df.iloc[neighbors_of_point[0]].longitude\n",
    "    meters[spot] = 1000000000\n",
    "    for neighbor in neighbors_of_point[1:]:\n",
    "        dest_lat = df.iloc[neighbor,:].latitude\n",
    "        dest_lon = df.iloc[neighbor,:].longitude\n",
    "        fuck = requests.get(f\"https://router.hereapi.com/v8/routes?apiKey={auth}&transportMode=car&origin={orig_lat},{orig_lon}&destination={dest_lat},{dest_lon}&return=travelSummary\")\n",
    "        response = fuck.json()\n",
    "        backup[spot].append(response)\n",
    "        meter = response[\"routes\"][0][\"sections\"][0][\"travelSummary\"][\"length\"]\n",
    "        if meters[spot] > meter:\n",
    "            meters[spot] = meter\n",
    "    if len(backup) % 200 == 0:\n",
    "        print(f\"{len(backup)} responses done...\")"
   ]
  },
  {
   "cell_type": "code",
   "execution_count": 229,
   "id": "ranking-sally",
   "metadata": {},
   "outputs": [],
   "source": [
    "#hmm\n",
    "rev_coord = lambda x: requests.get(\n",
    "    f\"https://revgeocode.search.hereapi.com/v1/revgeocode?at={x.latitude},{x.longitude}&apiKey={auth}\"\n",
    ").json()\n",
    "reversed_coord = new_one.loc[:,[\"latitude\", \"longitude\"]].apply(rev_coord, axis = 1)"
   ]
  },
  {
   "cell_type": "code",
   "execution_count": null,
   "id": "hawaiian-footwear",
   "metadata": {},
   "outputs": [],
   "source": [
    "# county list to sanity check\n",
    "municipalities = [\"København\",\"Aarhus\",\"Aalborg\",\"Odense\",\"Vejle\",\"Esbjerg\",\"Frederiksberg\",\"Randers\",\"Viborg\",\"Silkeborg\",\"Kolding\",\"Horsens\",\"Herning\",\"Roskilde\",\"Næstved\",\"Slagelse\",\"Gentofte\",\"Sønderborg\",\"Holbæk\",\"Gladsaxe\",\"Hjørring\",\"Skanderborg\",\"Helsingør\",\"Køge\",\"Guldborgsund\",\"Frederikshavn\",\"Holstebro\",\"Svendborg\",\"Aabenraa\",\"Rudersdal\",\"Lyngby-Taarbæk\",\"Ringkøbing-Skjern\",\"Haderslev\",\"Hvidovre\",\"Høje Taastrup\",\"Faaborg-Midtfyn\",\"Hillerød\",\"Fredericia\",\"Greve\",\"Varde\",\"Ballerup\",\"Kalundborg\",\"Favrskov\",\"Hedensted\",\"Frederikssund\",\"Skive\",\"Vordingborg\",\"Egedal\",\"Syddjurs\",\"Thisted\",\"Vejen\",\"Tårnby\",\"Mariagerfjord\",\"Ikast-Brande\",\"Rødovre\",\"Furesø\",\"Fredensborg\",\"Gribskov\",\"Assens\",\"Lolland\",\"Bornholm\", \"Middelfart\",\"Jammerbugt\",\"Tønder\",\"Norddjurs\",\"Faxe\",\"Vesthimmerlands\",\"Brønderslev\",\"Brøndby\",\"Ringsted\",\"Odsherred\",\"Nyborg\",\"Halsnæs\",\"Rebild\",\"Sorø\",\"Nordfyns\",\"Herlev\",\"Lejre\",\"Albertslund\",\"Billund\",\"Allerød\",\"Hørsholm\",\"Kerteminde\",\"Solrød\",\"Odder\",\"Ishøj\",\"Stevns\",\"Glostrup\",\"Struer\",\"Morsø\",\"Lemvig\",\"Vallensbæk\",\"Dragør\",\"Langeland\",\"Ærø\",\"Samsø\",\"Fanø\",\"Læsø\"]"
   ]
  },
  {
   "cell_type": "code",
   "execution_count": 255,
   "id": "handy-dietary",
   "metadata": {},
   "outputs": [],
   "source": [
    "def get_counties(reversed_coord):\n",
    "    county = reversed_coord[\"items\"][0][\"address\"][\"county\"]\n",
    "    if county == \"Lyngby Tårbæk\":\n",
    "        county = \"Lyngby-Taarbæk\"\n",
    "    if county in municipalities:\n",
    "        return county\n",
    "    else:\n",
    "        print(county)\n",
    "        raise ValueError(\"Oops\")"
   ]
  },
  {
   "cell_type": "code",
   "execution_count": 261,
   "id": "measured-politics",
   "metadata": {},
   "outputs": [
    {
     "name": "stderr",
     "output_type": "stream",
     "text": [
      "<ipython-input-261-d357cb0605b2>:1: SettingWithCopyWarning: \n",
      "A value is trying to be set on a copy of a slice from a DataFrame.\n",
      "Try using .loc[row_indexer,col_indexer] = value instead\n",
      "\n",
      "See the caveats in the documentation: https://pandas.pydata.org/pandas-docs/stable/user_guide/indexing.html#returning-a-view-versus-a-copy\n",
      "  new_one[\"municipality\"] = reversed_coord.apply(get_counties)\n"
     ]
    }
   ],
   "source": [
    "new_one[\"municipality\"] = reversed_coord.apply(get_counties)"
   ]
  },
  {
   "cell_type": "code",
   "execution_count": 280,
   "id": "special-burke",
   "metadata": {},
   "outputs": [],
   "source": [
    "# Unable to find anything for these 5 indices\n",
    "new_one = new_one[~new_one.index.isin([62736, 321501, 88915, 125243, 321570])]"
   ]
  },
  {
   "cell_type": "code",
   "execution_count": 281,
   "id": "direct-stationery",
   "metadata": {},
   "outputs": [
    {
     "name": "stderr",
     "output_type": "stream",
     "text": [
      "<ipython-input-281-4447859d3bc6>:1: SettingWithCopyWarning: \n",
      "A value is trying to be set on a copy of a slice from a DataFrame.\n",
      "Try using .loc[row_indexer,col_indexer] = value instead\n",
      "\n",
      "See the caveats in the documentation: https://pandas.pydata.org/pandas-docs/stable/user_guide/indexing.html#returning-a-view-versus-a-copy\n",
      "  new_one[\"year\"] = pd.to_datetime(new_one.created_at).dt.year\n"
     ]
    }
   ],
   "source": [
    "new_one[\"year\"] = pd.to_datetime(new_one.created_at).dt.year"
   ]
  },
  {
   "cell_type": "code",
   "execution_count": 332,
   "id": "center-madonna",
   "metadata": {},
   "outputs": [
    {
     "data": {
      "text/plain": [
       "'Hammerensgade 2, 1267 København, Denmark'"
      ]
     },
     "execution_count": 332,
     "metadata": {},
     "output_type": "execute_result"
    }
   ],
   "source": [
    "new_one.loc[key, \"address\"]"
   ]
  },
  {
   "cell_type": "code",
   "execution_count": 334,
   "id": "revised-composition",
   "metadata": {},
   "outputs": [
    {
     "name": "stderr",
     "output_type": "stream",
     "text": [
      "/usr/local/lib/python3.9/site-packages/pandas/core/indexing.py:1720: SettingWithCopyWarning: \n",
      "A value is trying to be set on a copy of a slice from a DataFrame.\n",
      "Try using .loc[row_indexer,col_indexer] = value instead\n",
      "\n",
      "See the caveats in the documentation: https://pandas.pydata.org/pandas-docs/stable/user_guide/indexing.html#returning-a-view-versus-a-copy\n",
      "  self._setitem_single_column(loc, value, pi)\n"
     ]
    }
   ],
   "source": [
    "# Some of the addresses from Plugshare were badly defined, here.api has more precise addresses, we augment the data here\n",
    "for key, x in new_one.address.items():\n",
    "    if len(x.split(\",\")) < 2:\n",
    "        new_one.loc[key, \"address\"] = reversed_coord[key][\"items\"][0][\"address\"][\"label\"]"
   ]
  },
  {
   "cell_type": "code",
   "execution_count": 335,
   "id": "australian-taxation",
   "metadata": {},
   "outputs": [
    {
     "data": {
      "text/html": [
       "<div>\n",
       "<style scoped>\n",
       "    .dataframe tbody tr th:only-of-type {\n",
       "        vertical-align: middle;\n",
       "    }\n",
       "\n",
       "    .dataframe tbody tr th {\n",
       "        vertical-align: top;\n",
       "    }\n",
       "\n",
       "    .dataframe thead th {\n",
       "        text-align: right;\n",
       "    }\n",
       "</style>\n",
       "<table border=\"1\" class=\"dataframe\">\n",
       "  <thead>\n",
       "    <tr style=\"text-align: right;\">\n",
       "      <th></th>\n",
       "      <th>latitude</th>\n",
       "      <th>longitude</th>\n",
       "      <th>address</th>\n",
       "      <th>created_at</th>\n",
       "      <th>municipality</th>\n",
       "      <th>city</th>\n",
       "      <th>zip_code</th>\n",
       "      <th>plugs</th>\n",
       "      <th>cost_description</th>\n",
       "      <th>description</th>\n",
       "      <th>country_code</th>\n",
       "      <th>closest_in_meters</th>\n",
       "      <th>year</th>\n",
       "    </tr>\n",
       "    <tr>\n",
       "      <th>id</th>\n",
       "      <th></th>\n",
       "      <th></th>\n",
       "      <th></th>\n",
       "      <th></th>\n",
       "      <th></th>\n",
       "      <th></th>\n",
       "      <th></th>\n",
       "      <th></th>\n",
       "      <th></th>\n",
       "      <th></th>\n",
       "      <th></th>\n",
       "      <th></th>\n",
       "      <th></th>\n",
       "    </tr>\n",
       "  </thead>\n",
       "  <tbody>\n",
       "    <tr>\n",
       "      <th>96548</th>\n",
       "      <td>55.494803</td>\n",
       "      <td>9.721409</td>\n",
       "      <td>Teglgårdsvej 73, 5500 Middelfart, Denmark</td>\n",
       "      <td>2016-10-01T10:37:25Z</td>\n",
       "      <td>Middelfart</td>\n",
       "      <td>Middelfart</td>\n",
       "      <td>5500</td>\n",
       "      <td>11</td>\n",
       "      <td>Free</td>\n",
       "      <td>Free for hotel guests: http://www.sinatur.dk/m...</td>\n",
       "      <td>DK</td>\n",
       "      <td>1507</td>\n",
       "      <td>2016</td>\n",
       "    </tr>\n",
       "    <tr>\n",
       "      <th>337709</th>\n",
       "      <td>55.653682</td>\n",
       "      <td>12.614406</td>\n",
       "      <td>Elbagade 28, 2300 København, Danmark</td>\n",
       "      <td>2021-09-09T20:26:12Z</td>\n",
       "      <td>København</td>\n",
       "      <td>København</td>\n",
       "      <td>2300</td>\n",
       "      <td>11</td>\n",
       "      <td>Clever</td>\n",
       "      <td></td>\n",
       "      <td>DK</td>\n",
       "      <td>233</td>\n",
       "      <td>2021</td>\n",
       "    </tr>\n",
       "    <tr>\n",
       "      <th>91943</th>\n",
       "      <td>56.292127</td>\n",
       "      <td>10.444662</td>\n",
       "      <td>Præstekravevej 46, 8410 Rønde, Denmark</td>\n",
       "      <td>2016-07-25T14:01:47Z</td>\n",
       "      <td>Syddjurs</td>\n",
       "      <td>Rønde</td>\n",
       "      <td>8410</td>\n",
       "      <td>11</td>\n",
       "      <td></td>\n",
       "      <td>2x Red CEE Free for hotel guests\\nTesla Destin...</td>\n",
       "      <td>DK</td>\n",
       "      <td>2753</td>\n",
       "      <td>2016</td>\n",
       "    </tr>\n",
       "    <tr>\n",
       "      <th>70961</th>\n",
       "      <td>55.215571</td>\n",
       "      <td>9.372034</td>\n",
       "      <td>Sønderjyske Motorvej 684, 6500 Vojens, Denmark</td>\n",
       "      <td>2015-09-12T00:45:42Z</td>\n",
       "      <td>Haderslev</td>\n",
       "      <td>Vojens</td>\n",
       "      <td>6500</td>\n",
       "      <td>11</td>\n",
       "      <td>clever.dk</td>\n",
       "      <td>Clever 50 kW DC, 43 kW aC</td>\n",
       "      <td>DK</td>\n",
       "      <td>8945</td>\n",
       "      <td>2015</td>\n",
       "    </tr>\n",
       "    <tr>\n",
       "      <th>81790</th>\n",
       "      <td>55.694021</td>\n",
       "      <td>12.544642</td>\n",
       "      <td>Husumgade 32, 2200 København N, Denmark</td>\n",
       "      <td>2016-03-02T11:14:06Z</td>\n",
       "      <td>København</td>\n",
       "      <td>København</td>\n",
       "      <td>2200</td>\n",
       "      <td>11</td>\n",
       "      <td></td>\n",
       "      <td>Charging Station Virta</td>\n",
       "      <td>DK</td>\n",
       "      <td>423</td>\n",
       "      <td>2016</td>\n",
       "    </tr>\n",
       "  </tbody>\n",
       "</table>\n",
       "</div>"
      ],
      "text/plain": [
       "         latitude  longitude                                         address  \\\n",
       "id                                                                             \n",
       "96548   55.494803   9.721409       Teglgårdsvej 73, 5500 Middelfart, Denmark   \n",
       "337709  55.653682  12.614406            Elbagade 28, 2300 København, Danmark   \n",
       "91943   56.292127  10.444662          Præstekravevej 46, 8410 Rønde, Denmark   \n",
       "70961   55.215571   9.372034  Sønderjyske Motorvej 684, 6500 Vojens, Denmark   \n",
       "81790   55.694021  12.544642         Husumgade 32, 2200 København N, Denmark   \n",
       "\n",
       "                  created_at municipality        city zip_code  plugs  \\\n",
       "id                                                                      \n",
       "96548   2016-10-01T10:37:25Z   Middelfart  Middelfart     5500     11   \n",
       "337709  2021-09-09T20:26:12Z    København   København     2300     11   \n",
       "91943   2016-07-25T14:01:47Z     Syddjurs       Rønde     8410     11   \n",
       "70961   2015-09-12T00:45:42Z    Haderslev      Vojens     6500     11   \n",
       "81790   2016-03-02T11:14:06Z    København   København     2200     11   \n",
       "\n",
       "       cost_description                                        description  \\\n",
       "id                                                                           \n",
       "96548              Free  Free for hotel guests: http://www.sinatur.dk/m...   \n",
       "337709           Clever                                                      \n",
       "91943                    2x Red CEE Free for hotel guests\\nTesla Destin...   \n",
       "70961         clever.dk                          Clever 50 kW DC, 43 kW aC   \n",
       "81790                                               Charging Station Virta   \n",
       "\n",
       "       country_code closest_in_meters  year  \n",
       "id                                           \n",
       "96548            DK              1507  2016  \n",
       "337709           DK               233  2021  \n",
       "91943            DK              2753  2016  \n",
       "70961            DK              8945  2015  \n",
       "81790            DK               423  2016  "
      ]
     },
     "execution_count": 335,
     "metadata": {},
     "output_type": "execute_result"
    }
   ],
   "source": [
    "new_one.head()"
   ]
  },
  {
   "cell_type": "code",
   "execution_count": 114,
   "id": "subject-edition",
   "metadata": {},
   "outputs": [
    {
     "data": {
      "text/plain": [
       "id\n",
       "72088       517.0\n",
       "35637      1647.0\n",
       "244297      149.0\n",
       "96549     11470.0\n",
       "284811     1197.0\n",
       "62736         NaN\n",
       "321501        NaN\n",
       "88915         NaN\n",
       "125243        NaN\n",
       "321570        NaN\n",
       "Name: closest_in_meters, dtype: float64"
      ]
     },
     "execution_count": 114,
     "metadata": {},
     "output_type": "execute_result"
    }
   ],
   "source": [
    "new_one.closest_in_meters.astype(float)[-10:]"
   ]
  },
  {
   "cell_type": "code",
   "execution_count": 109,
   "id": "verified-light",
   "metadata": {},
   "outputs": [
    {
     "data": {
      "text/html": [
       "<div>\n",
       "<style scoped>\n",
       "    .dataframe tbody tr th:only-of-type {\n",
       "        vertical-align: middle;\n",
       "    }\n",
       "\n",
       "    .dataframe tbody tr th {\n",
       "        vertical-align: top;\n",
       "    }\n",
       "\n",
       "    .dataframe thead th {\n",
       "        text-align: right;\n",
       "    }\n",
       "</style>\n",
       "<table border=\"1\" class=\"dataframe\">\n",
       "  <thead>\n",
       "    <tr style=\"text-align: right;\">\n",
       "      <th></th>\n",
       "      <th>latitude</th>\n",
       "      <th>longitude</th>\n",
       "      <th>id</th>\n",
       "      <th>plugs</th>\n",
       "    </tr>\n",
       "    <tr>\n",
       "      <th>municipality</th>\n",
       "      <th></th>\n",
       "      <th></th>\n",
       "      <th></th>\n",
       "      <th></th>\n",
       "    </tr>\n",
       "  </thead>\n",
       "  <tbody>\n",
       "    <tr>\n",
       "      <th>Aabenraa Municipality</th>\n",
       "      <td>54.964887</td>\n",
       "      <td>9.376422</td>\n",
       "      <td>71427.600000</td>\n",
       "      <td>11.0</td>\n",
       "    </tr>\n",
       "    <tr>\n",
       "      <th>Aalborg Municipality</th>\n",
       "      <td>57.031245</td>\n",
       "      <td>9.960653</td>\n",
       "      <td>79836.227273</td>\n",
       "      <td>11.0</td>\n",
       "    </tr>\n",
       "    <tr>\n",
       "      <th>Aarhus</th>\n",
       "      <td>56.153864</td>\n",
       "      <td>10.213669</td>\n",
       "      <td>110575.000000</td>\n",
       "      <td>11.0</td>\n",
       "    </tr>\n",
       "    <tr>\n",
       "      <th>Aarhus Municipality</th>\n",
       "      <td>56.166910</td>\n",
       "      <td>10.177200</td>\n",
       "      <td>85744.454545</td>\n",
       "      <td>11.0</td>\n",
       "    </tr>\n",
       "    <tr>\n",
       "      <th>Albertslund Municipality</th>\n",
       "      <td>55.656858</td>\n",
       "      <td>12.356072</td>\n",
       "      <td>108553.000000</td>\n",
       "      <td>11.0</td>\n",
       "    </tr>\n",
       "    <tr>\n",
       "      <th>...</th>\n",
       "      <td>...</td>\n",
       "      <td>...</td>\n",
       "      <td>...</td>\n",
       "      <td>...</td>\n",
       "    </tr>\n",
       "    <tr>\n",
       "      <th>Vejle Municipality</th>\n",
       "      <td>55.711232</td>\n",
       "      <td>9.501026</td>\n",
       "      <td>80055.571429</td>\n",
       "      <td>11.0</td>\n",
       "    </tr>\n",
       "    <tr>\n",
       "      <th>Vesthimmerland Municipality</th>\n",
       "      <td>56.834910</td>\n",
       "      <td>9.386620</td>\n",
       "      <td>127734.200000</td>\n",
       "      <td>11.0</td>\n",
       "    </tr>\n",
       "    <tr>\n",
       "      <th>Viborg Municipality</th>\n",
       "      <td>56.426259</td>\n",
       "      <td>9.429478</td>\n",
       "      <td>99250.083333</td>\n",
       "      <td>11.0</td>\n",
       "    </tr>\n",
       "    <tr>\n",
       "      <th>Vordingborg Municipality</th>\n",
       "      <td>55.014899</td>\n",
       "      <td>12.129175</td>\n",
       "      <td>80162.500000</td>\n",
       "      <td>11.0</td>\n",
       "    </tr>\n",
       "    <tr>\n",
       "      <th>Ærø Municipality</th>\n",
       "      <td>54.890839</td>\n",
       "      <td>10.411746</td>\n",
       "      <td>160785.000000</td>\n",
       "      <td>11.0</td>\n",
       "    </tr>\n",
       "  </tbody>\n",
       "</table>\n",
       "<p>96 rows × 4 columns</p>\n",
       "</div>"
      ],
      "text/plain": [
       "                              latitude  longitude             id  plugs\n",
       "municipality                                                           \n",
       "Aabenraa Municipality        54.964887   9.376422   71427.600000   11.0\n",
       "Aalborg Municipality         57.031245   9.960653   79836.227273   11.0\n",
       "Aarhus                       56.153864  10.213669  110575.000000   11.0\n",
       "Aarhus Municipality          56.166910  10.177200   85744.454545   11.0\n",
       "Albertslund Municipality     55.656858  12.356072  108553.000000   11.0\n",
       "...                                ...        ...            ...    ...\n",
       "Vejle Municipality           55.711232   9.501026   80055.571429   11.0\n",
       "Vesthimmerland Municipality  56.834910   9.386620  127734.200000   11.0\n",
       "Viborg Municipality          56.426259   9.429478   99250.083333   11.0\n",
       "Vordingborg Municipality     55.014899  12.129175   80162.500000   11.0\n",
       "Ærø Municipality             54.890839  10.411746  160785.000000   11.0\n",
       "\n",
       "[96 rows x 4 columns]"
      ]
     },
     "execution_count": 109,
     "metadata": {},
     "output_type": "execute_result"
    }
   ],
   "source": [
    "new_one.groupby(\"municipality\").mean()"
   ]
  },
  {
   "cell_type": "markdown",
   "id": "measured-balance",
   "metadata": {},
   "source": [
    "### Verification"
   ]
  },
  {
   "cell_type": "code",
   "execution_count": 225,
   "id": "accomplished-output",
   "metadata": {},
   "outputs": [
    {
     "data": {
      "text/plain": [
       "12.614406"
      ]
     },
     "execution_count": 225,
     "metadata": {},
     "output_type": "execute_result"
    }
   ],
   "source": [
    "np.round(lon, 6)"
   ]
  },
  {
   "cell_type": "code",
   "execution_count": 248,
   "id": "inside-graham",
   "metadata": {},
   "outputs": [
    {
     "data": {
      "text/plain": [
       "[dict_values([55.4948029, 9.721409]),\n",
       " dict_values([55.4948029, 9.721409]),\n",
       " dict_values([55.4948029, 9.721409]),\n",
       " dict_values([55.4948029, 9.721409]),\n",
       " dict_values([55.4948029, 9.721409]),\n",
       " dict_values([55.4948029, 9.721409]),\n",
       " dict_values([55.4948029, 9.721409]),\n",
       " dict_values([55.4948029, 9.721409]),\n",
       " dict_values([55.4948029, 9.721409]),\n",
       " dict_values([55.653682, 12.6144059]),\n",
       " dict_values([55.653682, 12.6144059]),\n",
       " dict_values([55.653682, 12.6144059]),\n",
       " dict_values([55.653682, 12.6144059]),\n",
       " dict_values([55.653682, 12.6144059]),\n",
       " dict_values([55.653682, 12.6144059]),\n",
       " dict_values([55.653682, 12.6144059]),\n",
       " dict_values([55.653682, 12.6144059]),\n",
       " dict_values([55.653682, 12.6144059]),\n",
       " dict_values([56.2921269, 10.444662]),\n",
       " dict_values([56.2921269, 10.444662]),\n",
       " dict_values([56.2921269, 10.444662]),\n",
       " dict_values([56.2921269, 10.444662]),\n",
       " dict_values([56.2921269, 10.444662]),\n",
       " dict_values([56.2921269, 10.444662]),\n",
       " dict_values([56.2921269, 10.444662]),\n",
       " dict_values([56.2921269, 10.444662]),\n",
       " dict_values([56.2921269, 10.444662]),\n",
       " dict_values([55.215571, 9.3720339]),\n",
       " dict_values([55.215571, 9.3720339]),\n",
       " dict_values([55.215571, 9.3720339]),\n",
       " dict_values([55.215571, 9.3720339]),\n",
       " dict_values([55.215571, 9.3720339]),\n",
       " dict_values([55.215571, 9.3720339]),\n",
       " dict_values([55.215571, 9.3720339]),\n",
       " dict_values([55.215571, 9.3720339]),\n",
       " dict_values([55.215571, 9.3720339]),\n",
       " dict_values([55.694021, 12.5446419]),\n",
       " dict_values([55.694021, 12.5446419]),\n",
       " dict_values([55.694021, 12.5446419]),\n",
       " dict_values([55.694021, 12.5446419]),\n",
       " dict_values([55.694021, 12.5446419]),\n",
       " dict_values([55.694021, 12.5446419]),\n",
       " dict_values([55.694021, 12.5446419]),\n",
       " dict_values([55.694021, 12.5446419]),\n",
       " dict_values([55.694021, 12.5446419]),\n",
       " dict_values([54.7699789, 11.8724049]),\n",
       " dict_values([54.7699789, 11.8724049]),\n",
       " dict_values([54.7699789, 11.8724049]),\n",
       " dict_values([54.7699789, 11.8724049]),\n",
       " dict_values([54.7699789, 11.8724049])]"
      ]
     },
     "execution_count": 248,
     "metadata": {},
     "output_type": "execute_result"
    }
   ],
   "source": [
    "[response[\"routes\"][0][\"sections\"][0][\"departure\"][\"place\"][\"originalLocation\"].values() for response in backup[:50]]"
   ]
  },
  {
   "cell_type": "code",
   "execution_count": 265,
   "id": "spread-niger",
   "metadata": {},
   "outputs": [
    {
     "name": "stdout",
     "output_type": "stream",
     "text": [
      "1652\n"
     ]
    }
   ],
   "source": [
    "last_lat = 0\n",
    "last_lon = 0\n",
    "pointer = 0\n",
    "for response in backup:\n",
    "    lat, lon = response[\"routes\"][0][\"sections\"][0][\"departure\"][\"place\"][\"originalLocation\"].values()\n",
    "    if lat != last_lat and lon != last_lon:\n",
    "        last_lat = lat\n",
    "        last_lon = lon\n",
    "        pointer += 1\n",
    "    neighbors_of_point = knn[pointer]\n",
    "    for neighbor in neighbors_of_point[1:]:\n",
    "        closest = df.iloc[neighbor]\n",
    "        meter = response[\"routes\"][0][\"sections\"][0][\"travelSummary\"][\"length\"]\n",
    "        if meters[i] > meter:\n",
    "            meters[i] = meter\n"
   ]
  },
  {
   "cell_type": "code",
   "execution_count": 271,
   "id": "collect-silence",
   "metadata": {},
   "outputs": [
    {
     "data": {
      "text/plain": [
       "1378"
      ]
     },
     "execution_count": 271,
     "metadata": {},
     "output_type": "execute_result"
    }
   ],
   "source": [
    "knn[0][1]"
   ]
  },
  {
   "cell_type": "code",
   "execution_count": 281,
   "id": "negative-placement",
   "metadata": {},
   "outputs": [
    {
     "data": {
      "text/html": [
       "<div>\n",
       "<style scoped>\n",
       "    .dataframe tbody tr th:only-of-type {\n",
       "        vertical-align: middle;\n",
       "    }\n",
       "\n",
       "    .dataframe tbody tr th {\n",
       "        vertical-align: top;\n",
       "    }\n",
       "\n",
       "    .dataframe thead th {\n",
       "        text-align: right;\n",
       "    }\n",
       "</style>\n",
       "<table border=\"1\" class=\"dataframe\">\n",
       "  <thead>\n",
       "    <tr style=\"text-align: right;\">\n",
       "      <th></th>\n",
       "      <th>latitude</th>\n",
       "      <th>longitude</th>\n",
       "      <th>address</th>\n",
       "      <th>created_at</th>\n",
       "      <th>id</th>\n",
       "      <th>municipality</th>\n",
       "      <th>city</th>\n",
       "      <th>zip_code</th>\n",
       "      <th>plugs</th>\n",
       "      <th>cost_description</th>\n",
       "      <th>description</th>\n",
       "      <th>country_code</th>\n",
       "      <th>closest_in_meters</th>\n",
       "    </tr>\n",
       "  </thead>\n",
       "  <tbody>\n",
       "    <tr>\n",
       "      <th>1378</th>\n",
       "      <td>55.130795</td>\n",
       "      <td>9.129304</td>\n",
       "      <td>Hovedgaden 3, Agerskov, 6534, Denmark</td>\n",
       "      <td>2019-01-05T12:26:20Z</td>\n",
       "      <td>176712</td>\n",
       "      <td>None</td>\n",
       "      <td>Agerskov</td>\n",
       "      <td>6534</td>\n",
       "      <td>11</td>\n",
       "      <td></td>\n",
       "      <td>Charging Station Virta\\n- Er på en nyopført pa...</td>\n",
       "      <td>DK</td>\n",
       "      <td>100000</td>\n",
       "    </tr>\n",
       "  </tbody>\n",
       "</table>\n",
       "</div>"
      ],
      "text/plain": [
       "       latitude  longitude                                address  \\\n",
       "1378  55.130795   9.129304  Hovedgaden 3, Agerskov, 6534, Denmark   \n",
       "\n",
       "                created_at      id municipality      city zip_code  plugs  \\\n",
       "1378  2019-01-05T12:26:20Z  176712         None  Agerskov     6534     11   \n",
       "\n",
       "     cost_description                                        description  \\\n",
       "1378                   Charging Station Virta\\n- Er på en nyopført pa...   \n",
       "\n",
       "     country_code  closest_in_meters  \n",
       "1378           DK             100000  "
      ]
     },
     "execution_count": 281,
     "metadata": {},
     "output_type": "execute_result"
    }
   ],
   "source": []
  },
  {
   "cell_type": "code",
   "execution_count": 186,
   "id": "compliant-cloud",
   "metadata": {},
   "outputs": [
    {
     "data": {
      "text/plain": [
       "1135"
      ]
     },
     "execution_count": 186,
     "metadata": {},
     "output_type": "execute_result"
    }
   ],
   "source": [
    "len(np.where(df.closest_in_meters >= 100000)[0])"
   ]
  },
  {
   "cell_type": "code",
   "execution_count": 129,
   "id": "equivalent-albania",
   "metadata": {},
   "outputs": [],
   "source": [
    "sample = df.sample()\n",
    "idx = sample.index[0]\n",
    "orig_lat, orig_lon = sample.values[0][:2]"
   ]
  },
  {
   "cell_type": "code",
   "execution_count": 182,
   "id": "secure-circle",
   "metadata": {},
   "outputs": [
    {
     "data": {
      "text/html": [
       "<div>\n",
       "<style scoped>\n",
       "    .dataframe tbody tr th:only-of-type {\n",
       "        vertical-align: middle;\n",
       "    }\n",
       "\n",
       "    .dataframe tbody tr th {\n",
       "        vertical-align: top;\n",
       "    }\n",
       "\n",
       "    .dataframe thead th {\n",
       "        text-align: right;\n",
       "    }\n",
       "</style>\n",
       "<table border=\"1\" class=\"dataframe\">\n",
       "  <thead>\n",
       "    <tr style=\"text-align: right;\">\n",
       "      <th></th>\n",
       "      <th>latitude</th>\n",
       "      <th>longitude</th>\n",
       "      <th>address</th>\n",
       "      <th>created_at</th>\n",
       "      <th>id</th>\n",
       "      <th>municipality</th>\n",
       "      <th>city</th>\n",
       "      <th>zip_code</th>\n",
       "      <th>plugs</th>\n",
       "      <th>cost_description</th>\n",
       "      <th>description</th>\n",
       "      <th>country_code</th>\n",
       "      <th>closest_in_meters</th>\n",
       "    </tr>\n",
       "  </thead>\n",
       "  <tbody>\n",
       "    <tr>\n",
       "      <th>1277</th>\n",
       "      <td>57.041023</td>\n",
       "      <td>8.507332</td>\n",
       "      <td>Krovej 3, Klitmøller, 7700 Thisted</td>\n",
       "      <td>2015-08-15T18:17:06Z</td>\n",
       "      <td>69242</td>\n",
       "      <td>Thisted Municipality</td>\n",
       "      <td>Thisted</td>\n",
       "      <td>7700</td>\n",
       "      <td>11</td>\n",
       "      <td>E.ON (http://www.eon.dk/e-mobility/)</td>\n",
       "      <td></td>\n",
       "      <td>DK</td>\n",
       "      <td>100000</td>\n",
       "    </tr>\n",
       "  </tbody>\n",
       "</table>\n",
       "</div>"
      ],
      "text/plain": [
       "       latitude  longitude                             address  \\\n",
       "1277  57.041023   8.507332  Krovej 3, Klitmøller, 7700 Thisted   \n",
       "\n",
       "                created_at     id          municipality     city zip_code  \\\n",
       "1277  2015-08-15T18:17:06Z  69242  Thisted Municipality  Thisted     7700   \n",
       "\n",
       "      plugs                      cost_description description country_code  \\\n",
       "1277     11  E.ON (http://www.eon.dk/e-mobility/)                       DK   \n",
       "\n",
       "      closest_in_meters  \n",
       "1277             100000  "
      ]
     },
     "execution_count": 182,
     "metadata": {},
     "output_type": "execute_result"
    }
   ],
   "source": [
    "sample"
   ]
  },
  {
   "cell_type": "code",
   "execution_count": 178,
   "id": "royal-shield",
   "metadata": {},
   "outputs": [],
   "source": [
    "meters = 100000\n",
    "neighbors_of_point = knn[np.where(df.index == idx)][0][1:]\n",
    "for neighbor in neighbors_of_point:\n",
    "    dest_lat = df.iloc[neighbor].latitude\n",
    "    dest_lon = df.iloc[neighbor].longitude\n",
    "    fuck = requests.get(f\"https://router.hereapi.com/v8/routes?apiKey={auth}&transportMode=car&origin={orig_lat},{orig_lon}&destination={dest_lat},{dest_lon}&return=travelSummary\")\n",
    "    response = fuck.json()\n",
    "    #backup.append(response)\n",
    "    meter = response[\"routes\"][0][\"sections\"][0][\"travelSummary\"][\"length\"]\n",
    "    if meters > meter:\n",
    "        meters = meter"
   ]
  },
  {
   "cell_type": "code",
   "execution_count": 179,
   "id": "caring-doctrine",
   "metadata": {},
   "outputs": [
    {
     "data": {
      "text/plain": [
       "11461"
      ]
     },
     "execution_count": 179,
     "metadata": {},
     "output_type": "execute_result"
    }
   ],
   "source": [
    "meters"
   ]
  },
  {
   "cell_type": "code",
   "execution_count": 30,
   "id": "linear-culture",
   "metadata": {},
   "outputs": [],
   "source": [
    "pd.to_pickle(meters, \"meters_475_first\")\n",
    "pd.to_pickle(backup, \"backup_475_first\")"
   ]
  },
  {
   "cell_type": "code",
   "execution_count": 31,
   "id": "level-basketball",
   "metadata": {},
   "outputs": [
    {
     "data": {
      "text/plain": [
       "'Teglgårdsvej 73, 5500 Middelfart, Denmark is 1301.54 meters from Søndergade 63-67, Middelfart, 5500, DK - coordinately'"
      ]
     },
     "execution_count": 31,
     "metadata": {},
     "output_type": "execute_result"
    }
   ],
   "source": [
    "f\"{df.iloc[0].address} is {measure(df.iloc[0].values[:2], df.iloc[1378].values[:2]):.2f} meters from {df.iloc[1378].address} - coordinately\""
   ]
  },
  {
   "cell_type": "code",
   "execution_count": 173,
   "id": "exciting-cosmetic",
   "metadata": {},
   "outputs": [
    {
     "data": {
      "text/plain": [
       "latitude                                                    55.505095\n",
       "longitude                                                    9.731308\n",
       "address                    Søndergade 63-67, 5500 Middelfart, Denmark\n",
       "created_at                                       2015-06-05T08:25:22Z\n",
       "id                                                              65649\n",
       "municipality                                  Middelfart Municipality\n",
       "city                                                       Middelfart\n",
       "zip_code                                                         5500\n",
       "plugs                                                              11\n",
       "cost_description                                            clever.dk\n",
       "description         Placeret på parkeringspladsen mellem Søndergad...\n",
       "country_code                                                       DK\n",
       "Name: 871, dtype: object"
      ]
     },
     "execution_count": 173,
     "metadata": {},
     "output_type": "execute_result"
    }
   ],
   "source": [
    "df.iloc[knn[0][2]]"
   ]
  },
  {
   "cell_type": "code",
   "execution_count": 21,
   "id": "naked-civilian",
   "metadata": {},
   "outputs": [],
   "source": [
    "header = {\n",
    "    \"Authorization\": f\"Bearer {auth}\"\n",
    "}\n",
    "payload = {\"app_id\": \"WGe8etMiG0hs0SO7AM3C\", \"app_code\": \"WGe8etMiG0hs0SO7AM3C\"}"
   ]
  },
  {
   "cell_type": "code",
   "execution_count": 101,
   "id": "large-technical",
   "metadata": {},
   "outputs": [],
   "source": [
    "fuck = requests.get(f\"https://geocode.search.hereapi.com/v1/geocode?apiKey={auth}&q={api_address[0]}\")"
   ]
  },
  {
   "cell_type": "code",
   "execution_count": 102,
   "id": "ambient-issue",
   "metadata": {},
   "outputs": [
    {
     "data": {
      "text/plain": [
       "b'{\"items\":[{\"title\":\"Teglg\\xc3\\xa5rdsvej 73, 5500 Middelfart, Danmark\",\"id\":\"here:af:streetsection:W2LO1TJx3zg86SvH.IUHqD:CgcIBCCM_OleEAEaAjcz\",\"resultType\":\"houseNumber\",\"houseNumberType\":\"PA\",\"address\":{\"label\":\"Teglg\\xc3\\xa5rdsvej 73, 5500 Middelfart, Danmark\",\"countryCode\":\"DNK\",\"countryName\":\"Danmark\",\"state\":\"Syddanmark\",\"county\":\"Middelfart\",\"city\":\"Middelfart\",\"street\":\"Teglg\\xc3\\xa5rdsvej\",\"postalCode\":\"5500\",\"houseNumber\":\"73\"},\"position\":{\"lat\":55.49457,\"lng\":9.72149},\"access\":[{\"lat\":55.4949,\"lng\":9.72096}],\"mapView\":{\"west\":9.7199,\"south\":55.49367,\"east\":9.72308,\"north\":55.49547},\"scoring\":{\"queryScore\":1.0,\"fieldScore\":{\"country\":1.0,\"city\":1.0,\"streets\":[1.0],\"houseNumber\":1.0,\"postalCode\":1.0}}}]}'"
      ]
     },
     "execution_count": 102,
     "metadata": {},
     "output_type": "execute_result"
    }
   ],
   "source": [
    "fuck.content"
   ]
  },
  {
   "cell_type": "code",
   "execution_count": 24,
   "id": "inappropriate-blink",
   "metadata": {},
   "outputs": [],
   "source": [
    "boo = requests.get(f\"https://geocoder.ls.hereapi.com/6.2/geocode.json?apiKey={auth}&searchtext=425+W+Randolph+Chicago\")"
   ]
  },
  {
   "cell_type": "code",
   "execution_count": 25,
   "id": "broad-fireplace",
   "metadata": {},
   "outputs": [
    {
     "data": {
      "text/plain": [
       "b'{\"Response\":{\"MetaInfo\":{\"Timestamp\":\"2021-11-16T19:06:30.572+0000\"},\"View\":[{\"_type\":\"SearchResultsViewType\",\"ViewId\":0,\"Result\":[{\"Relevance\":1.0,\"MatchLevel\":\"houseNumber\",\"MatchQuality\":{\"City\":1.0,\"Street\":[0.9],\"HouseNumber\":1.0},\"MatchType\":\"pointAddress\",\"Location\":{\"LocationId\":\"NT_Opil2LPZVRLZjlWNLJQuWB_0ITN\",\"LocationType\":\"point\",\"DisplayPosition\":{\"Latitude\":41.88432,\"Longitude\":-87.63877},\"NavigationPosition\":[{\"Latitude\":41.88449,\"Longitude\":-87.63877}],\"MapView\":{\"TopLeft\":{\"Latitude\":41.8854442,\"Longitude\":-87.64028},\"BottomRight\":{\"Latitude\":41.8831958,\"Longitude\":-87.63726}},\"Address\":{\"Label\":\"425 W Randolph St, Chicago, IL 60606, United States\",\"Country\":\"USA\",\"State\":\"IL\",\"County\":\"Cook\",\"City\":\"Chicago\",\"District\":\"West Loop\",\"Street\":\"W Randolph St\",\"HouseNumber\":\"425\",\"PostalCode\":\"60606\",\"AdditionalData\":[{\"value\":\"United States\",\"key\":\"CountryName\"},{\"value\":\"Illinois\",\"key\":\"StateName\"},{\"value\":\"Cook\",\"key\":\"CountyName\"},{\"value\":\"N\",\"key\":\"PostalCodeType\"}]}}}]}]}}'"
      ]
     },
     "execution_count": 25,
     "metadata": {},
     "output_type": "execute_result"
    }
   ],
   "source": [
    "boo.content"
   ]
  },
  {
   "cell_type": "markdown",
   "id": "becoming-buffalo",
   "metadata": {},
   "source": [
    "## Energy"
   ]
  },
  {
   "cell_type": "code",
   "execution_count": 297,
   "id": "anonymous-hearts",
   "metadata": {},
   "outputs": [],
   "source": [
    "yes = requests.get(\"https://api.energidataservice.dk/package_list\")"
   ]
  },
  {
   "cell_type": "code",
   "execution_count": 303,
   "id": "assigned-chambers",
   "metadata": {},
   "outputs": [
    {
     "data": {
      "text/plain": [
       "{'help': 'https://api.energidataservice.dk/help_show?name=package_list',\n",
       " 'success': True,\n",
       " 'result': ['afrrreservesdk1',\n",
       "  'calorificvalues',\n",
       "  'capacityauctiondk1',\n",
       "  'capacityauctiondk2',\n",
       "  'capacitypermunicipality',\n",
       "  'co2emis',\n",
       "  'co2emisprog',\n",
       "  'communityproduction',\n",
       "  'consumptionde35hour',\n",
       "  'consumptiondk3619codehour',\n",
       "  'consumptionpergridarea',\n",
       "  'consumptionpermunicipalityde35',\n",
       "  'datahubmeasuringpointstatistics',\n",
       "  'datahubpricelist',\n",
       "  'declarationcoveragehour',\n",
       "  'declarationemissionhour',\n",
       "  'declarationproductiontypeshour',\n",
       "  'electricitybalance',\n",
       "  'electricitybalancenonv',\n",
       "  'electricityprodex5minrealtime',\n",
       "  'electricitysupplierspergridarea',\n",
       "  'elspotprices',\n",
       "  'entryexitgasquality',\n",
       "  'fcrreservesdk1',\n",
       "  'fcrreservesdk2',\n",
       "  'ffrdemanddk2',\n",
       "  'fixedresidualconsumption',\n",
       "  'forecasts_5min',\n",
       "  'forecasts_hour',\n",
       "  'foreignexchange',\n",
       "  'gascomposition',\n",
       "  'gascompositionmonthly',\n",
       "  'gascompositionyearly',\n",
       "  'gasflow',\n",
       "  'gassystemrightnow',\n",
       "  'herfindahlhirschmanindexhhipergridarea',\n",
       "  'industrycodes_de35',\n",
       "  'inertianordicsyncharea',\n",
       "  'mfrrreservesdk1',\n",
       "  'mfrrreservesdk2',\n",
       "  'mrstationsgasquality',\n",
       "  'nordpoolmarket',\n",
       "  'powersupplierchangepergridarea',\n",
       "  'powersystemrightnow',\n",
       "  'productionconsumptionsettlement',\n",
       "  'realtimemarket',\n",
       "  'storageavailablepct',\n",
       "  'storagecapacity',\n",
       "  'storagenomination',\n",
       "  'storageutilization',\n",
       "  'transmissionlines']}"
      ]
     },
     "execution_count": 303,
     "metadata": {},
     "output_type": "execute_result"
    }
   ],
   "source": [
    "yes.json()"
   ]
  },
  {
   "cell_type": "code",
   "execution_count": null,
   "id": "clinical-princeton",
   "metadata": {},
   "outputs": [],
   "source": []
  }
 ],
 "metadata": {
  "kernelspec": {
   "display_name": "Python 3",
   "language": "python",
   "name": "python3"
  },
  "language_info": {
   "codemirror_mode": {
    "name": "ipython",
    "version": 3
   },
   "file_extension": ".py",
   "mimetype": "text/x-python",
   "name": "python",
   "nbconvert_exporter": "python",
   "pygments_lexer": "ipython3",
   "version": "3.9.8"
  }
 },
 "nbformat": 4,
 "nbformat_minor": 5
}
