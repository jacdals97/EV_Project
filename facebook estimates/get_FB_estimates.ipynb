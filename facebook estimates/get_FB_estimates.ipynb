{
 "cells": [
  {
   "cell_type": "code",
   "execution_count": 5,
   "id": "voluntary-modem",
   "metadata": {},
   "outputs": [],
   "source": [
    "import facebook_business\n",
    "from facebook_business.api import FacebookAdsApi\n",
    "from facebook_business.adobjects.adaccount import AdAccount\n",
    "from facebook_business.adobjects.targetingsearch import TargetingSearch\n",
    "import pandas as pd\n",
    "import csv\n",
    "import matplotlib.pyplot as plt"
   ]
  },
  {
   "cell_type": "code",
   "execution_count": null,
   "id": "behavioral-algorithm",
   "metadata": {},
   "outputs": [],
   "source": [
    "# API access token and secret app id\n",
    "my_app_id = ''\n",
    "my_app_secret = ''\n",
    "my_access_token = ''\n",
    "FacebookAdsApi.init(my_app_id, my_app_secret, my_access_token)\n",
    "my_account = AdAccount('')"
   ]
  },
  {
   "cell_type": "code",
   "execution_count": null,
   "id": "duplicate-excuse",
   "metadata": {},
   "outputs": [],
   "source": [
    "'''\n",
    "The function get_delivery_estimate() only takes city ids instead of city names. \n",
    "TargetingSearchTypes.geolocation extracts the corresponding key ids.\n",
    "'''\n",
    "\n",
    "cities = pd.read_csv(\"C:/Data in the wild/EV_data/EV_Project-main/trends_data.csv\")    \n",
    "cities_list = list(pd.unique(cities['City']))\n",
    "\n",
    "# get the parameters for each city. \n",
    "params = {}\n",
    "for i in range(len(cities_list)):\n",
    "    params[i] = {\n",
    "        'q': cities_list[i],\n",
    "        'location_types': [\"city\"],\n",
    "        'type': TargetingSearch.TargetingSearchTypes.geolocation,\n",
    "        'status': 'PAUSED'\n",
    "    }\n",
    "\n",
    "# change 'Copenhagen' to 'København'\n",
    "params[2]['q'] = 'København'"
   ]
  },
  {
   "cell_type": "code",
   "execution_count": null,
   "id": "accomplished-grove",
   "metadata": {},
   "outputs": [],
   "source": [
    "'''\n",
    "TargetingSearch is computationally heavy so the id keys for each of the Danish cities are saved in a CSV.\n",
    "'''\n",
    "resp = []\n",
    "for i in range(len(params)):\n",
    "    if TargetingSearch.search(params[i]):\n",
    "        for k in range(len(TargetingSearch.search(params[i]))):\n",
    "            if TargetingSearch.search(params=params[i])[k]['country_code'] == 'DK':\n",
    "                resp.append([TargetingSearch.search(params=params[i])[k]['key'],\n",
    "                             TargetingSearch.search(params=params[i])[k]['name'],\n",
    "                             TargetingSearch.search(params=params[i])[k]['region'],\n",
    "                             TargetingSearch.search(params=params[i])[k]['region_id']])\n",
    "    else:\n",
    "        pass\n",
    "\n",
    "\n",
    "# write the list of city ids and names to a csv file to avoid long computation\n",
    "with open('City_id_and_name.txt', \"w\", newline=\"\") as x:\n",
    "    csv.writer(x, delimiter=\",\").writerows(resp)\n"
   ]
  },
  {
   "cell_type": "code",
   "execution_count": null,
   "id": "oriented-spokesman",
   "metadata": {},
   "outputs": [],
   "source": [
    "'''\n",
    "The targeting dictionary contains all the specifications for the targeted audience.\n",
    "The specification below targets Facebook users aged 18-65 living in a selection of cities whom Facebook\n",
    "presume are interested in the topic 'Elbil'/'Electric vehicle'.\n",
    "'''\n",
    "\n",
    "#Code to get daily or monthly users in a specific targeting category\n",
    "targeting = {}\n",
    "for i in range(len(resp)):\n",
    "    targeting[i] = {\n",
    "            'geo_locations': {\n",
    "                #'countries': ['DK'],\n",
    "                'cities':[ \n",
    "                    {'key': resp[i][0],\n",
    "                     #'radius': '10',\n",
    "                     #'distance_unit': 'mile'\n",
    "                     }]},\n",
    "            'age_min': 18,\n",
    "            'age_max': 65,\n",
    "            'interests': [\n",
    "                {\n",
    "                    'id': 6003103779434,\n",
    "                    'name': 'Elbil' ,\n",
    "                },\n",
    "            ],\n",
    "        }\n"
   ]
  },
  {
   "cell_type": "code",
   "execution_count": null,
   "id": "fewer-clark",
   "metadata": {},
   "outputs": [],
   "source": [
    "'''\n",
    "Param contains the targeting specifications in the fitting dictionary structure to be \n",
    "used in get_delivery_estimate()\n",
    "'''\n",
    "\n",
    "# specify parameters for get_delivery_estimate()\n",
    "param = {}\n",
    "for i in range(len(targeting)):\n",
    "    param[i] = {\n",
    "        'targeting_spec': targeting[i],\n",
    "        'optimization_goal': 'REACH',\n",
    "        #'daily_budget': '50',\n",
    "        'status': 'PAUSED'\n",
    "    }\n",
    "\n",
    "\n",
    "# save the parameters as a dictionary to avoid exceeding call limit.\n",
    "np.save('/paramters_for_deliveryestimate_v3.npy', param)"
   ]
  },
  {
   "cell_type": "code",
   "execution_count": null,
   "id": "limited-church",
   "metadata": {},
   "outputs": [],
   "source": [
    "import numpy as np\n",
    "import time\n",
    "# Load the parameters\n",
    "param = np.load('paramters_for_deliveryestimate_v3.npy',allow_pickle='TRUE').item()\n",
    "\n",
    "# Use get_delivery on the specified parameters. Sleep is used beause the  API \n",
    "# has a limit of 300 calls per hour. \n",
    "delivery_estimate = []\n",
    "for i in range(len(param)):\n",
    "    delivery_estimate.append(my_account.get_delivery_estimate(params = param[i]))\n",
    "    time.sleep(15)\n",
    "\n",
    "# make a list of only city ID + upper and lower bound of monthly active users \n",
    "estimates = []\n",
    "for i in range(len(delivery_estimate)):\n",
    "    estimates.append([(delivery_estimate[i].params['targeting_spec']['geo_locations']['cities'][0]['key']), \n",
    "                      int(delivery_estimate[i][0]['estimate_mau_lower_bound']),\n",
    "                      int(delivery_estimate[i][0]['estimate_mau_upper_bound'])])\n",
    "\n",
    "# write the estimates as a CSV\n",
    "with open('FB_estimates_121221.txt', \"w\", newline=\"\") as x:\n",
    "    csv.writer(x, delimiter=\",\").writerows(estimates)\n"
   ]
  },
  {
   "cell_type": "code",
   "execution_count": null,
   "id": "difficult-wagner",
   "metadata": {},
   "outputs": [],
   "source": [
    "# Match city id with city name, clean and name columns and write to csv. \n",
    "# get_delivery_estimate() only outputs FBs city Ids.\n",
    "\n",
    "City_id_and_name = pd.read_csv(\"/City_id_and_name.txt\", header = None, encoding='cp1252')\n",
    "FB_estimates_121221 = pd.read_csv(\"/FB_estimates_121221.txt\", header = None)\n",
    "\n",
    "fb_estimates = pd.merge(City_id_and_name, FB_estimates_121221, on= 0)\n",
    "fb_estimates = fb_estimates.drop_duplicates(subset = 0)\n",
    "\n",
    "fb_estimates = fb_estimates.rename(columns={0: 'City id', '1_x': 'City', \n",
    "                                            '2_x': 'Region', 3: 'Region id',\n",
    "                                            '1_y': 'Lower bound', '2_y': 'Upper bound'})\n",
    "\n",
    "fb_estimates.to_csv(\"FB_estimates.csv\")"
   ]
  },
  {
   "cell_type": "code",
   "execution_count": null,
   "id": "suited-washer",
   "metadata": {},
   "outputs": [],
   "source": []
  }
 ],
 "metadata": {
  "celltoolbar": "Raw Cell Format",
  "kernelspec": {
   "display_name": "Python 3",
   "language": "python",
   "name": "python3"
  },
  "language_info": {
   "codemirror_mode": {
    "name": "ipython",
    "version": 3
   },
   "file_extension": ".py",
   "mimetype": "text/x-python",
   "name": "python",
   "nbconvert_exporter": "python",
   "pygments_lexer": "ipython3",
   "version": "3.9.1"
  }
 },
 "nbformat": 4,
 "nbformat_minor": 5
}
